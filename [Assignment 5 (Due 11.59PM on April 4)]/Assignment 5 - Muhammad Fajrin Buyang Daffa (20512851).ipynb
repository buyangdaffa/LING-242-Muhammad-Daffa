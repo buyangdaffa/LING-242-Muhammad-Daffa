{
  "cells": [
    {
      "cell_type": "markdown",
      "id": "unexpected-basics",
      "metadata": {
        "id": "unexpected-basics"
      },
      "source": [
        "# Classification\n",
        "\n",
        "Classification task using fastText."
      ]
    },
    {
      "cell_type": "code",
      "source": [
        "# Clone the fastText repository from GitHub\n",
        "!git clone https://github.com/facebookresearch/fastText.git"
      ],
      "metadata": {
        "colab": {
          "base_uri": "https://localhost:8080/"
        },
        "id": "8rgURd2o59GW",
        "outputId": "19278429-c995-4cc6-af1f-55b30672420c"
      },
      "id": "8rgURd2o59GW",
      "execution_count": 1,
      "outputs": [
        {
          "output_type": "stream",
          "name": "stdout",
          "text": [
            "Cloning into 'fastText'...\n",
            "remote: Enumerating objects: 3998, done.\u001b[K\n",
            "remote: Counting objects: 100% (1057/1057), done.\u001b[K\n",
            "remote: Compressing objects: 100% (197/197), done.\u001b[K\n",
            "remote: Total 3998 (delta 922), reused 889 (delta 855), pack-reused 2941\u001b[K\n",
            "Receiving objects: 100% (3998/3998), 8.30 MiB | 12.49 MiB/s, done.\n",
            "Resolving deltas: 100% (2529/2529), done.\n"
          ]
        }
      ]
    },
    {
      "cell_type": "code",
      "source": [
        "# Navigate into the fastText directory\n",
        "%cd fastText"
      ],
      "metadata": {
        "colab": {
          "base_uri": "https://localhost:8080/"
        },
        "id": "5XQMn8s46C-d",
        "outputId": "3e973786-92c1-4691-da16-7355cca4b83f"
      },
      "id": "5XQMn8s46C-d",
      "execution_count": 2,
      "outputs": [
        {
          "output_type": "stream",
          "name": "stdout",
          "text": [
            "/content/fastText\n"
          ]
        }
      ]
    },
    {
      "cell_type": "code",
      "source": [
        "# Compile the fastText source code\n",
        "!make"
      ],
      "metadata": {
        "colab": {
          "base_uri": "https://localhost:8080/"
        },
        "id": "iiG_iNrcJerC",
        "outputId": "d81244c8-8a8c-4e53-83ee-60064d8132d5"
      },
      "id": "iiG_iNrcJerC",
      "execution_count": 3,
      "outputs": [
        {
          "output_type": "stream",
          "name": "stdout",
          "text": [
            "c++ -pthread -std=c++17 -march=native -O3 -funroll-loops -DNDEBUG -c src/args.cc\n",
            "c++ -pthread -std=c++17 -march=native -O3 -funroll-loops -DNDEBUG -c src/autotune.cc\n",
            "c++ -pthread -std=c++17 -march=native -O3 -funroll-loops -DNDEBUG -c src/matrix.cc\n",
            "c++ -pthread -std=c++17 -march=native -O3 -funroll-loops -DNDEBUG -c src/dictionary.cc\n",
            "c++ -pthread -std=c++17 -march=native -O3 -funroll-loops -DNDEBUG -c src/loss.cc\n",
            "c++ -pthread -std=c++17 -march=native -O3 -funroll-loops -DNDEBUG -c src/productquantizer.cc\n",
            "c++ -pthread -std=c++17 -march=native -O3 -funroll-loops -DNDEBUG -c src/densematrix.cc\n",
            "c++ -pthread -std=c++17 -march=native -O3 -funroll-loops -DNDEBUG -c src/quantmatrix.cc\n",
            "c++ -pthread -std=c++17 -march=native -O3 -funroll-loops -DNDEBUG -c src/vector.cc\n",
            "c++ -pthread -std=c++17 -march=native -O3 -funroll-loops -DNDEBUG -c src/model.cc\n",
            "c++ -pthread -std=c++17 -march=native -O3 -funroll-loops -DNDEBUG -c src/utils.cc\n",
            "c++ -pthread -std=c++17 -march=native -O3 -funroll-loops -DNDEBUG -c src/meter.cc\n",
            "c++ -pthread -std=c++17 -march=native -O3 -funroll-loops -DNDEBUG -c src/fasttext.cc\n",
            "c++ -pthread -std=c++17 -march=native -O3 -funroll-loops -DNDEBUG args.o autotune.o matrix.o dictionary.o loss.o productquantizer.o densematrix.o quantmatrix.o vector.o model.o utils.o meter.o fasttext.o src/main.cc -o fasttext\n"
          ]
        }
      ]
    },
    {
      "cell_type": "code",
      "source": [
        "# Print the current working directory path\n",
        "!pwd"
      ],
      "metadata": {
        "colab": {
          "base_uri": "https://localhost:8080/"
        },
        "id": "hpkyrwojKhue",
        "outputId": "9eb3d6e3-7a14-4b25-8d40-69f2179d83c8"
      },
      "id": "hpkyrwojKhue",
      "execution_count": 4,
      "outputs": [
        {
          "output_type": "stream",
          "name": "stdout",
          "text": [
            "/content/fastText\n"
          ]
        }
      ]
    },
    {
      "cell_type": "code",
      "source": [
        "# Navigate back to the parent directory\n",
        "%cd ../"
      ],
      "metadata": {
        "colab": {
          "base_uri": "https://localhost:8080/"
        },
        "id": "R_P0fL3P6Umn",
        "outputId": "18d62432-0811-438a-ed1d-9f94fc3cecb4"
      },
      "id": "R_P0fL3P6Umn",
      "execution_count": 5,
      "outputs": [
        {
          "output_type": "stream",
          "name": "stdout",
          "text": [
            "/content\n"
          ]
        }
      ]
    },
    {
      "cell_type": "markdown",
      "id": "shared-liabilities",
      "metadata": {
        "id": "shared-liabilities"
      },
      "source": [
        "## 1. humor detection"
      ]
    },
    {
      "cell_type": "code",
      "source": [
        "# Download the training data for humor detection\n",
        "!wget https://raw.githubusercontent.com/jungyeul/computational-tools-for-linguistic-analysis-ubc/main/labs/lab5/humor-detection_train.txt\n",
        "# Download the test data for humor detection\n",
        "!wget https://raw.githubusercontent.com/jungyeul/computational-tools-for-linguistic-analysis-ubc/main/labs/lab5/humor-detection_test.txt"
      ],
      "metadata": {
        "colab": {
          "base_uri": "https://localhost:8080/"
        },
        "id": "heWTKZUX6dVh",
        "outputId": "e8d164c2-645f-4f18-dca1-6d1515fcac7a"
      },
      "id": "heWTKZUX6dVh",
      "execution_count": 6,
      "outputs": [
        {
          "output_type": "stream",
          "name": "stdout",
          "text": [
            "--2024-04-03 18:26:33--  https://raw.githubusercontent.com/jungyeul/computational-tools-for-linguistic-analysis-ubc/main/labs/lab5/humor-detection_train.txt\n",
            "Resolving raw.githubusercontent.com (raw.githubusercontent.com)... 185.199.109.133, 185.199.108.133, 185.199.110.133, ...\n",
            "Connecting to raw.githubusercontent.com (raw.githubusercontent.com)|185.199.109.133|:443... connected.\n",
            "HTTP request sent, awaiting response... 200 OK\n",
            "Length: 1247724 (1.2M) [text/plain]\n",
            "Saving to: ‘humor-detection_train.txt’\n",
            "\n",
            "humor-detection_tra 100%[===================>]   1.19M  --.-KB/s    in 0.05s   \n",
            "\n",
            "2024-04-03 18:26:33 (22.1 MB/s) - ‘humor-detection_train.txt’ saved [1247724/1247724]\n",
            "\n",
            "--2024-04-03 18:26:33--  https://raw.githubusercontent.com/jungyeul/computational-tools-for-linguistic-analysis-ubc/main/labs/lab5/humor-detection_test.txt\n",
            "Resolving raw.githubusercontent.com (raw.githubusercontent.com)... 185.199.111.133, 185.199.109.133, 185.199.108.133, ...\n",
            "Connecting to raw.githubusercontent.com (raw.githubusercontent.com)|185.199.111.133|:443... connected.\n",
            "HTTP request sent, awaiting response... 200 OK\n",
            "Length: 309967 (303K) [text/plain]\n",
            "Saving to: ‘humor-detection_test.txt’\n",
            "\n",
            "humor-detection_tes 100%[===================>] 302.70K  --.-KB/s    in 0.03s   \n",
            "\n",
            "2024-04-03 18:26:33 (9.19 MB/s) - ‘humor-detection_test.txt’ saved [309967/309967]\n",
            "\n"
          ]
        }
      ]
    },
    {
      "cell_type": "code",
      "source": [
        "# Navigate into the fastText directory again\n",
        "%cd fastText"
      ],
      "metadata": {
        "colab": {
          "base_uri": "https://localhost:8080/"
        },
        "id": "v_VmGVFX6ybU",
        "outputId": "8d598436-2a33-4d95-d894-fdc7bfe3fce1"
      },
      "id": "v_VmGVFX6ybU",
      "execution_count": 7,
      "outputs": [
        {
          "output_type": "stream",
          "name": "stdout",
          "text": [
            "/content/fastText\n"
          ]
        }
      ]
    },
    {
      "cell_type": "code",
      "source": [
        "# Train a supervised model for humor detection\n",
        "!./fasttext supervised -input ../humor-detection_train.txt -output model_humor"
      ],
      "metadata": {
        "colab": {
          "base_uri": "https://localhost:8080/"
        },
        "id": "0-nzVzvC5A33",
        "outputId": "f6555cea-3422-44c8-fc0d-1f0ec36dc90a"
      },
      "id": "0-nzVzvC5A33",
      "execution_count": 8,
      "outputs": [
        {
          "output_type": "stream",
          "name": "stdout",
          "text": [
            "\rRead 0M words\n",
            "Number of words:  31831\n",
            "Number of labels: 2\n",
            "Progress: 100.0% words/sec/thread:  295398 lr:  0.000000 avg.loss:  0.166033 ETA:   0h 0m 0s\n"
          ]
        }
      ]
    },
    {
      "cell_type": "code",
      "source": [
        "# Test the humor detection model\n",
        "!./fasttext test model_humor.bin ../humor-detection_test.txt"
      ],
      "metadata": {
        "colab": {
          "base_uri": "https://localhost:8080/"
        },
        "id": "N12_-I7F7AwQ",
        "outputId": "8ff7a9e5-3bd8-46e7-de30-77fa2334a271"
      },
      "id": "N12_-I7F7AwQ",
      "execution_count": 9,
      "outputs": [
        {
          "output_type": "stream",
          "name": "stdout",
          "text": [
            "N\t3355\n",
            "P@1\t0.955\n",
            "R@1\t0.955\n"
          ]
        }
      ]
    },
    {
      "cell_type": "code",
      "source": [
        "# Display the first few lines of the humor detection training data\n",
        "!head ../humor-detection_train.txt"
      ],
      "metadata": {
        "colab": {
          "base_uri": "https://localhost:8080/"
        },
        "id": "wehYOZLx7F1d",
        "outputId": "1c0a8b63-302b-47d7-f578-a72de8e598c3"
      },
      "id": "wehYOZLx7F1d",
      "execution_count": 10,
      "outputs": [
        {
          "output_type": "stream",
          "name": "stdout",
          "text": [
            "__label__true\tMy grandfather died recently, He spent his final years as a regular user of facebook..We won't see the likes of him again.\n",
            "__label__true\tI was sat in traffic the other day. Got hit by a car.\n",
            "__label__true\tWhats the difference between a ginger fanny and a cricket ball? If you try really hard, Really really hard, You can eat a cricket ball.\n",
            "__label__true\tMoney can't buy happiness, but I'd much rather cry in a mansion.\n",
            "__label__true\t2B or not 2B. That is the pencil.\n",
            "__label__true\tWhat's the difference between a Jew and a canoe? Canoes tip!\n",
            "__label__true\tI've just won 10 million on the lottery and decided to buy my local Chinese takeaway called 'Happiness'.  Your move, philosophers.\n",
            "__label__true\tA man was hospitalized with 6 plastic horses up his ass. The doctor described his condition as stable.\n",
            "__label__true\tJust told my joke about Peter Pan again. Never gets old.\n",
            "__label__true\tTwo blondes were driving to Disneyland and the exit sign reads: DISNEYLAND LEFT. They started crying and headed home.\n"
          ]
        }
      ]
    },
    {
      "cell_type": "code",
      "source": [
        "# Download the shuffle.c file\n",
        "!wget https://raw.githubusercontent.com/jungyeul/computational-tools-for-linguistic-analysis-ubc/main/labs/lab5/shuffle.c"
      ],
      "metadata": {
        "colab": {
          "base_uri": "https://localhost:8080/"
        },
        "id": "43-LMotdERot",
        "outputId": "45f1a274-2620-479f-a3f3-2c52fcf760d5"
      },
      "id": "43-LMotdERot",
      "execution_count": 11,
      "outputs": [
        {
          "output_type": "stream",
          "name": "stdout",
          "text": [
            "--2024-04-03 18:26:36--  https://raw.githubusercontent.com/jungyeul/computational-tools-for-linguistic-analysis-ubc/main/labs/lab5/shuffle.c\n",
            "Resolving raw.githubusercontent.com (raw.githubusercontent.com)... 185.199.108.133, 185.199.109.133, 185.199.110.133, ...\n",
            "Connecting to raw.githubusercontent.com (raw.githubusercontent.com)|185.199.108.133|:443... connected.\n",
            "HTTP request sent, awaiting response... 200 OK\n",
            "Length: 3595 (3.5K) [text/plain]\n",
            "Saving to: ‘shuffle.c’\n",
            "\n",
            "shuffle.c           100%[===================>]   3.51K  --.-KB/s    in 0s      \n",
            "\n",
            "2024-04-03 18:26:36 (53.0 MB/s) - ‘shuffle.c’ saved [3595/3595]\n",
            "\n"
          ]
        }
      ]
    },
    {
      "cell_type": "code",
      "source": [
        "# Compile the shuffle.c file\n",
        "!gcc -o shuffle shuffle.c"
      ],
      "metadata": {
        "id": "lzy_ioNhDhln"
      },
      "id": "lzy_ioNhDhln",
      "execution_count": 12,
      "outputs": []
    },
    {
      "cell_type": "code",
      "source": [
        "# Shuffle the humor detection test data\n",
        "!./shuffle < ../humor-detection_test.txt > humor-detection_train_shuffled.txt"
      ],
      "metadata": {
        "id": "Wz5Rqk-37LHz"
      },
      "id": "Wz5Rqk-37LHz",
      "execution_count": 13,
      "outputs": []
    },
    {
      "cell_type": "code",
      "source": [
        "# Train a supervised model for humor detection using shuffled data\n",
        "!./fasttext supervised -input humor-detection_train_shuffled.txt -output model_humor_shuffled"
      ],
      "metadata": {
        "colab": {
          "base_uri": "https://localhost:8080/"
        },
        "id": "2lFs5jm_K0zE",
        "outputId": "b19cb058-ad72-4c00-ec03-9f0ee5fb6643"
      },
      "id": "2lFs5jm_K0zE",
      "execution_count": 14,
      "outputs": [
        {
          "output_type": "stream",
          "name": "stdout",
          "text": [
            "\rRead 0M words\n",
            "Number of words:  12684\n",
            "Number of labels: 2\n",
            "\rProgress: 100.1% words/sec/thread:  219604 lr: -0.000088 avg.loss:  0.268598 ETA:   0h 0m 0s\rProgress: 100.0% words/sec/thread:  219096 lr:  0.000000 avg.loss:  0.268598 ETA:   0h 0m 0s\n"
          ]
        }
      ]
    },
    {
      "cell_type": "code",
      "source": [
        "# Test the humor detection model trained on shuffled data\n",
        "!./fasttext test model_humor_shuffled.bin ../humor-detection_test.txt"
      ],
      "metadata": {
        "colab": {
          "base_uri": "https://localhost:8080/"
        },
        "id": "mTOy7xaPK99L",
        "outputId": "6d7f0ae7-2d88-4209-b179-08a326ea817d"
      },
      "id": "mTOy7xaPK99L",
      "execution_count": 15,
      "outputs": [
        {
          "output_type": "stream",
          "name": "stdout",
          "text": [
            "N\t3355\n",
            "P@1\t0.983\n",
            "R@1\t0.983\n"
          ]
        }
      ]
    },
    {
      "cell_type": "code",
      "source": [
        "# Display the first few lines of the shuffled humor detection training data\n",
        "!head humor-detection_train_shuffled.txt"
      ],
      "metadata": {
        "colab": {
          "base_uri": "https://localhost:8080/"
        },
        "id": "1TvPyplVLCP4",
        "outputId": "09ea4837-667c-4fd7-823a-f4b53958d722"
      },
      "id": "1TvPyplVLCP4",
      "execution_count": 38,
      "outputs": [
        {
          "output_type": "stream",
          "name": "stdout",
          "text": [
            "__label__false\tMore than 60 people killed in suicide bombs in Nigeria: officials \n",
            "__label__false\tIt was done in response to Ottawa 's Clint Benedict constantly falling to make saves.\n",
            "__label__false\tThe two streams run through the estate , one of them the Glamis Burn.\n",
            "__label__true\tThe brain is a wonderful organ:  it starts working the moment you get up in the morning, and does not stop until you get to school.\n",
            "__label__false\tYemeni president appoints general to senior army post, state media report \n",
            "__label__false\tLiverpool collapse nothing to do with protest, says coach  \n",
            "__label__true\tIt is the ability to take a joke, not make one, that proves you have a sense of humor.\n",
            "__label__false\tVontobel family affirms commitment to Swiss bank after patriarch's death  \n",
            "__label__true\tThis planking epidemic is getting out of hand. The old lady next door has been laying outside for 3 days now.\n",
            "__label__true\tWhat do you tell a woman with two black eyes? Nothing, you already told her twice!\n"
          ]
        }
      ]
    },
    {
      "cell_type": "markdown",
      "id": "appropriate-scene",
      "metadata": {
        "id": "appropriate-scene"
      },
      "source": [
        "## 2. sarcasm detection"
      ]
    },
    {
      "cell_type": "code",
      "source": [
        "# Navigate back to the parent directory\n",
        "%cd ../"
      ],
      "metadata": {
        "colab": {
          "base_uri": "https://localhost:8080/"
        },
        "id": "ChpfMtzU9CgY",
        "outputId": "729796f4-0747-4201-96fa-6dc10bd2c2b9"
      },
      "id": "ChpfMtzU9CgY",
      "execution_count": 17,
      "outputs": [
        {
          "output_type": "stream",
          "name": "stdout",
          "text": [
            "/content\n"
          ]
        }
      ]
    },
    {
      "cell_type": "code",
      "source": [
        "# Download the training data for sarcasm detection\n",
        "!wget https://raw.githubusercontent.com/jungyeul/computational-tools-for-linguistic-analysis-ubc/main/labs/lab5/sarcasm-detection_train.txt\n",
        "# Download the test data for sarcasm detection\n",
        "!wget https://raw.githubusercontent.com/jungyeul/computational-tools-for-linguistic-analysis-ubc/main/labs/lab5/sarcasm-detection_test.txt"
      ],
      "metadata": {
        "colab": {
          "base_uri": "https://localhost:8080/"
        },
        "id": "euOIJQo88862",
        "outputId": "28576c5d-90c2-44a9-caa4-126a2eb40987"
      },
      "id": "euOIJQo88862",
      "execution_count": 18,
      "outputs": [
        {
          "output_type": "stream",
          "name": "stdout",
          "text": [
            "--2024-04-03 18:26:38--  https://raw.githubusercontent.com/jungyeul/computational-tools-for-linguistic-analysis-ubc/main/labs/lab5/sarcasm-detection_train.txt\n",
            "Resolving raw.githubusercontent.com (raw.githubusercontent.com)... 185.199.108.133, 185.199.109.133, 185.199.110.133, ...\n",
            "Connecting to raw.githubusercontent.com (raw.githubusercontent.com)|185.199.108.133|:443... connected.\n",
            "HTTP request sent, awaiting response... 200 OK\n",
            "Length: 1633310 (1.6M) [text/plain]\n",
            "Saving to: ‘sarcasm-detection_train.txt’\n",
            "\n",
            "sarcasm-detection_t 100%[===================>]   1.56M  --.-KB/s    in 0.06s   \n",
            "\n",
            "2024-04-03 18:26:38 (27.7 MB/s) - ‘sarcasm-detection_train.txt’ saved [1633310/1633310]\n",
            "\n",
            "--2024-04-03 18:26:38--  https://raw.githubusercontent.com/jungyeul/computational-tools-for-linguistic-analysis-ubc/main/labs/lab5/sarcasm-detection_test.txt\n",
            "Resolving raw.githubusercontent.com (raw.githubusercontent.com)... 185.199.108.133, 185.199.109.133, 185.199.110.133, ...\n",
            "Connecting to raw.githubusercontent.com (raw.githubusercontent.com)|185.199.108.133|:443... connected.\n",
            "HTTP request sent, awaiting response... 200 OK\n",
            "Length: 410781 (401K) [text/plain]\n",
            "Saving to: ‘sarcasm-detection_test.txt’\n",
            "\n",
            "sarcasm-detection_t 100%[===================>] 401.15K  --.-KB/s    in 0.03s   \n",
            "\n",
            "2024-04-03 18:26:39 (11.3 MB/s) - ‘sarcasm-detection_test.txt’ saved [410781/410781]\n",
            "\n"
          ]
        }
      ]
    },
    {
      "cell_type": "code",
      "execution_count": 19,
      "id": "falling-exclusion",
      "metadata": {
        "colab": {
          "base_uri": "https://localhost:8080/"
        },
        "id": "falling-exclusion",
        "outputId": "1ad9d21e-c828-44be-a801-ccbec2a67f8d"
      },
      "outputs": [
        {
          "output_type": "stream",
          "name": "stdout",
          "text": [
            "/content/fastText\n"
          ]
        }
      ],
      "source": [
        "# Navigate into the fastText directory\n",
        "%cd fastText"
      ]
    },
    {
      "cell_type": "code",
      "source": [
        "# Train a supervised model for sarcasm detection\n",
        "!./fasttext supervised -input ../sarcasm-detection_train.txt -output model_sarcasm"
      ],
      "metadata": {
        "colab": {
          "base_uri": "https://localhost:8080/"
        },
        "id": "Db0V_QsyJ4K6",
        "outputId": "633136a5-bca9-4fc8-e00c-f19316bdb844"
      },
      "id": "Db0V_QsyJ4K6",
      "execution_count": 20,
      "outputs": [
        {
          "output_type": "stream",
          "name": "stdout",
          "text": [
            "\rRead 0M words\n",
            "Number of words:  32149\n",
            "Number of labels: 2\n",
            "Progress: 100.0% words/sec/thread:  209697 lr:  0.000000 avg.loss:  0.252912 ETA:   0h 0m 0s\n"
          ]
        }
      ]
    },
    {
      "cell_type": "code",
      "source": [
        "# Test the sarcasm detection model\n",
        "!./fasttext test model_sarcasm.bin ../sarcasm-detection_test.txt"
      ],
      "metadata": {
        "colab": {
          "base_uri": "https://localhost:8080/"
        },
        "id": "_9XdC32a9NnN",
        "outputId": "5c2045e5-82df-48a9-99f6-56ab994772a8"
      },
      "id": "_9XdC32a9NnN",
      "execution_count": 21,
      "outputs": [
        {
          "output_type": "stream",
          "name": "stdout",
          "text": [
            "N\t5342\n",
            "P@1\t0.846\n",
            "R@1\t0.846\n"
          ]
        }
      ]
    },
    {
      "cell_type": "code",
      "source": [
        "# Display the first few lines of the sarcasm detection training data\n",
        "!head ../sarcasm-detection_train.txt"
      ],
      "metadata": {
        "colab": {
          "base_uri": "https://localhost:8080/"
        },
        "id": "01HUfKM99QKW",
        "outputId": "341d004e-22c9-4a3e-9286-e6017cae02ad"
      },
      "id": "01HUfKM99QKW",
      "execution_count": 22,
      "outputs": [
        {
          "output_type": "stream",
          "name": "stdout",
          "text": [
            "__label__false former versace store clerk sues over secret 'black code' for minority shoppers\n",
            "__label__false the 'roseanne' revival catches up to our thorny political mood, for better and worse\n",
            "__label__true mom starting to fear son's web series closest thing she will have to grandchild\n",
            "__label__true boehner just wants wife to listen, not come up with alternative debt-reduction ideas\n",
            "__label__false j.k. rowling wishes snape happy birthday in the most magical way\n",
            "__label__false advancing the world's women\n",
            "__label__false the fascinating case for eating lab-grown meat\n",
            "__label__false this ceo will send your kids to school, if you work for his company\n",
            "__label__true top snake handler leaves sinking huckabee campaign\n",
            "__label__false friday's morning email: inside trump's presser for the ages\n"
          ]
        }
      ]
    },
    {
      "cell_type": "code",
      "source": [
        "# Shuffle the sarcasm detection training data\n",
        "!./shuffle < ../sarcasm-detection_train.txt > sarcasm-detection_train_shuffled.txt"
      ],
      "metadata": {
        "id": "miwVMUxY9Rk7"
      },
      "id": "miwVMUxY9Rk7",
      "execution_count": 23,
      "outputs": []
    },
    {
      "cell_type": "code",
      "source": [
        "# Train a supervised model for sarcasm detection using shuffled data\n",
        "!./fasttext supervised -input sarcasm-detection_train_shuffled.txt -output model_sarcasm_shuffled"
      ],
      "metadata": {
        "colab": {
          "base_uri": "https://localhost:8080/"
        },
        "id": "IEPjl2gBJ_Gz",
        "outputId": "dd15c2fb-1145-4ea8-c0ce-313f6584bb2e"
      },
      "id": "IEPjl2gBJ_Gz",
      "execution_count": 24,
      "outputs": [
        {
          "output_type": "stream",
          "name": "stdout",
          "text": [
            "\rRead 0M words\n",
            "Number of words:  32149\n",
            "Number of labels: 2\n",
            "Progress: 100.0% words/sec/thread:  262431 lr:  0.000000 avg.loss:  0.240808 ETA:   0h 0m 0s\n"
          ]
        }
      ]
    },
    {
      "cell_type": "code",
      "source": [
        "# Test the sarcasm detection model trained on shuffled data\n",
        "!./fasttext test model_sarcasm_shuffled.bin ../sarcasm-detection_test.txt"
      ],
      "metadata": {
        "colab": {
          "base_uri": "https://localhost:8080/"
        },
        "id": "xUUtbqIrLS5o",
        "outputId": "761e94e0-d48f-4a0b-b5d2-bbc291b1bbeb"
      },
      "id": "xUUtbqIrLS5o",
      "execution_count": 25,
      "outputs": [
        {
          "output_type": "stream",
          "name": "stdout",
          "text": [
            "N\t5342\n",
            "P@1\t0.851\n",
            "R@1\t0.851\n"
          ]
        }
      ]
    },
    {
      "cell_type": "markdown",
      "metadata": {
        "id": "a6EcXtOK2Lnw"
      },
      "source": [
        "## 3. sentiment analysis on movie reviews (4pts)\n",
        "You prepare the data (`sentiment-analysis-on-movie-reviews-refined.txt`) for *fastText* using the series of shell command."
      ],
      "id": "a6EcXtOK2Lnw"
    },
    {
      "cell_type": "code",
      "execution_count": 26,
      "metadata": {
        "colab": {
          "base_uri": "https://localhost:8080/"
        },
        "id": "SHWH_y1O2Lnw",
        "outputId": "fe023710-335a-4449-af12-98af1d2ec52f"
      },
      "outputs": [
        {
          "output_type": "stream",
          "name": "stdout",
          "text": [
            "--2024-04-03 18:26:44--  https://raw.githubusercontent.com/jungyeul/computational-tools-for-linguistic-analysis-ubc/main/labs/lab5/sentiment-analysis-on-movie-reviews-refined.txt\n",
            "Resolving raw.githubusercontent.com (raw.githubusercontent.com)... 185.199.108.133, 185.199.109.133, 185.199.110.133, ...\n",
            "Connecting to raw.githubusercontent.com (raw.githubusercontent.com)|185.199.108.133|:443... connected.\n",
            "HTTP request sent, awaiting response... 200 OK\n",
            "Length: 894456 (873K) [text/plain]\n",
            "Saving to: ‘sentiment-analysis-on-movie-reviews-refined.txt’\n",
            "\n",
            "sentiment-analysis- 100%[===================>] 873.49K  --.-KB/s    in 0.05s   \n",
            "\n",
            "2024-04-03 18:26:45 (18.2 MB/s) - ‘sentiment-analysis-on-movie-reviews-refined.txt’ saved [894456/894456]\n",
            "\n"
          ]
        }
      ],
      "source": [
        "# Download the refined sentiment analysis data for movie reviews\n",
        "!wget https://raw.githubusercontent.com/jungyeul/computational-tools-for-linguistic-analysis-ubc/main/labs/lab5/sentiment-analysis-on-movie-reviews-refined.txt"
      ],
      "id": "SHWH_y1O2Lnw"
    },
    {
      "cell_type": "code",
      "source": [
        "# Display the first few lines of the refined sentiment analysis data for movie reviews\n",
        "!head sentiment-analysis-on-movie-reviews-refined.txt"
      ],
      "metadata": {
        "colab": {
          "base_uri": "https://localhost:8080/"
        },
        "id": "fHSGNzTt8ckE",
        "outputId": "6f85de82-6868-4bbd-b9fc-e543cbe18caa"
      },
      "id": "fHSGNzTt8ckE",
      "execution_count": 27,
      "outputs": [
        {
          "output_type": "stream",
          "name": "stdout",
          "text": [
            "A series of escapades demonstrating the adage that what is good for the goose is also good for the gander , some of which occasionally amuses but none of which amounts to much of a story .\t1\n",
            "This quiet , introspective and entertaining independent is worth seeking .\t4\n",
            "Even fans of Ismail Merchant 's work , I suspect , would have a hard time sitting through this one .\t1\n",
            "A positively thrilling combination of ethnography and all the intrigue , betrayal , deceit and murder of a Shakespearean tragedy or a juicy soap opera .\t3\n",
            "Aggressive self-glorification and a manipulative whitewash .\t1\n",
            "A comedy-drama of nearly epic proportions rooted in a sincere performance by the title character undergoing midlife crisis .\t4\n",
            "Narratively , Trouble Every Day is a plodding mess .\t1\n",
            "The Importance of Being Earnest , so thick with wit it plays like a reading from Bartlett 's Familiar Quotations\t3\n",
            "But it does n't leave you with much .\t1\n",
            "You could hate it for the same reason .\t1\n"
          ]
        }
      ]
    },
    {
      "cell_type": "code",
      "source": [
        "# Score the movie reviews data and store it in scored-movie.txt\n",
        "!awk '{first = $NF; $NF=\"\"; print first, $0}' sentiment-analysis-on-movie-reviews-refined.txt > scored-movie.txt"
      ],
      "metadata": {
        "id": "eEcXFZIb8Uz8"
      },
      "id": "eEcXFZIb8Uz8",
      "execution_count": 28,
      "outputs": []
    },
    {
      "cell_type": "code",
      "source": [
        "# Display the first few lines of the scored movie data\n",
        "!head scored-movie.txt"
      ],
      "metadata": {
        "colab": {
          "base_uri": "https://localhost:8080/"
        },
        "id": "GKBAwbnIKKSJ",
        "outputId": "3f78fd4c-7e38-43be-b76d-464935e04cbb"
      },
      "id": "GKBAwbnIKKSJ",
      "execution_count": 29,
      "outputs": [
        {
          "output_type": "stream",
          "name": "stdout",
          "text": [
            "1 A series of escapades demonstrating the adage that what is good for the goose is also good for the gander , some of which occasionally amuses but none of which amounts to much of a story . \n",
            "4 This quiet , introspective and entertaining independent is worth seeking . \n",
            "1 Even fans of Ismail Merchant 's work , I suspect , would have a hard time sitting through this one . \n",
            "3 A positively thrilling combination of ethnography and all the intrigue , betrayal , deceit and murder of a Shakespearean tragedy or a juicy soap opera . \n",
            "1 Aggressive self-glorification and a manipulative whitewash . \n",
            "4 A comedy-drama of nearly epic proportions rooted in a sincere performance by the title character undergoing midlife crisis . \n",
            "1 Narratively , Trouble Every Day is a plodding mess . \n",
            "3 The Importance of Being Earnest , so thick with wit it plays like a reading from Bartlett 's Familiar Quotations \n",
            "1 But it does n't leave you with much . \n",
            "1 You could hate it for the same reason . \n"
          ]
        }
      ]
    },
    {
      "cell_type": "code",
      "source": [
        "# Add labels to the scored movie data\n",
        "!sed 's/^/__label__/' scored-movie.txt  > scored-movie-labelled.txt"
      ],
      "metadata": {
        "id": "bJvKxOgn8gt0"
      },
      "id": "bJvKxOgn8gt0",
      "execution_count": 30,
      "outputs": []
    },
    {
      "cell_type": "code",
      "source": [
        "# Display the first few lines of the labelled scored movie data\n",
        "!head scored-movie-labelled.txt"
      ],
      "metadata": {
        "colab": {
          "base_uri": "https://localhost:8080/"
        },
        "id": "jlfPumbB8iQs",
        "outputId": "0c3cb07e-b297-4a59-f940-334f0a4c55fa"
      },
      "id": "jlfPumbB8iQs",
      "execution_count": 31,
      "outputs": [
        {
          "output_type": "stream",
          "name": "stdout",
          "text": [
            "__label__1 A series of escapades demonstrating the adage that what is good for the goose is also good for the gander , some of which occasionally amuses but none of which amounts to much of a story . \n",
            "__label__4 This quiet , introspective and entertaining independent is worth seeking . \n",
            "__label__1 Even fans of Ismail Merchant 's work , I suspect , would have a hard time sitting through this one . \n",
            "__label__3 A positively thrilling combination of ethnography and all the intrigue , betrayal , deceit and murder of a Shakespearean tragedy or a juicy soap opera . \n",
            "__label__1 Aggressive self-glorification and a manipulative whitewash . \n",
            "__label__4 A comedy-drama of nearly epic proportions rooted in a sincere performance by the title character undergoing midlife crisis . \n",
            "__label__1 Narratively , Trouble Every Day is a plodding mess . \n",
            "__label__3 The Importance of Being Earnest , so thick with wit it plays like a reading from Bartlett 's Familiar Quotations \n",
            "__label__1 But it does n't leave you with much . \n",
            "__label__1 You could hate it for the same reason . \n"
          ]
        }
      ]
    },
    {
      "cell_type": "code",
      "source": [
        "# Count the number of lines in the labelled scored movie data\n",
        "!wc scored-movie-labelled.txt"
      ],
      "metadata": {
        "colab": {
          "base_uri": "https://localhost:8080/"
        },
        "id": "rvsif2bI8kQd",
        "outputId": "13c0be81-2266-417a-e66f-7a9854d9f3d3"
      },
      "id": "rvsif2bI8kQd",
      "execution_count": 32,
      "outputs": [
        {
          "output_type": "stream",
          "name": "stdout",
          "text": [
            "  8529 170573 979744 scored-movie-labelled.txt\n"
          ]
        }
      ]
    },
    {
      "cell_type": "code",
      "source": [
        "# Extract the training data from the labelled scored movie data\n",
        "!head -n 6829 scored-movie-labelled.txt > movie.train.txt"
      ],
      "metadata": {
        "id": "mNuSkhHx8lg7"
      },
      "id": "mNuSkhHx8lg7",
      "execution_count": 33,
      "outputs": []
    },
    {
      "cell_type": "code",
      "source": [
        "# Extract the validation data from the labelled scored movie data\n",
        "!tail -n 1700 scored-movie-labelled.txt > movie.valid.txt"
      ],
      "metadata": {
        "id": "lx7irm4S8msb"
      },
      "id": "lx7irm4S8msb",
      "execution_count": 34,
      "outputs": []
    },
    {
      "cell_type": "code",
      "source": [
        "# Display the first few lines of the training data for movie sentiment analysis\n",
        "!head movie.train.txt"
      ],
      "metadata": {
        "colab": {
          "base_uri": "https://localhost:8080/"
        },
        "id": "CPYWROKk8n5D",
        "outputId": "8cfa5e46-60dc-4342-d633-0de8a41f9368"
      },
      "id": "CPYWROKk8n5D",
      "execution_count": 35,
      "outputs": [
        {
          "output_type": "stream",
          "name": "stdout",
          "text": [
            "__label__1 A series of escapades demonstrating the adage that what is good for the goose is also good for the gander , some of which occasionally amuses but none of which amounts to much of a story . \n",
            "__label__4 This quiet , introspective and entertaining independent is worth seeking . \n",
            "__label__1 Even fans of Ismail Merchant 's work , I suspect , would have a hard time sitting through this one . \n",
            "__label__3 A positively thrilling combination of ethnography and all the intrigue , betrayal , deceit and murder of a Shakespearean tragedy or a juicy soap opera . \n",
            "__label__1 Aggressive self-glorification and a manipulative whitewash . \n",
            "__label__4 A comedy-drama of nearly epic proportions rooted in a sincere performance by the title character undergoing midlife crisis . \n",
            "__label__1 Narratively , Trouble Every Day is a plodding mess . \n",
            "__label__3 The Importance of Being Earnest , so thick with wit it plays like a reading from Bartlett 's Familiar Quotations \n",
            "__label__1 But it does n't leave you with much . \n",
            "__label__1 You could hate it for the same reason . \n"
          ]
        }
      ]
    },
    {
      "cell_type": "code",
      "source": [
        "# Train a supervised model for movie sentiment analysis\n",
        "!./fasttext supervised -input movie.train.txt -output model_movie"
      ],
      "metadata": {
        "colab": {
          "base_uri": "https://localhost:8080/"
        },
        "id": "3Gaz9GyB1aKo",
        "outputId": "eb4b10ba-df14-4a9a-d5af-224607e5c338"
      },
      "id": "3Gaz9GyB1aKo",
      "execution_count": 36,
      "outputs": [
        {
          "output_type": "stream",
          "name": "stdout",
          "text": [
            "\rRead 0M words\n",
            "Number of words:  16092\n",
            "Number of labels: 5\n",
            "\rProgress:  78.8% words/sec/thread:  467892 lr:  0.021238 avg.loss:  1.547459 ETA:   0h 0m 0s\rProgress: 100.1% words/sec/thread:  297355 lr: -0.000067 avg.loss:  1.541772 ETA:   0h 0m 0s\rProgress: 100.0% words/sec/thread:  297061 lr:  0.000000 avg.loss:  1.541772 ETA:   0h 0m 0s\n"
          ]
        }
      ]
    },
    {
      "cell_type": "code",
      "source": [
        "# Test the movie sentiment analysis model\n",
        "!./fasttext test model_movie.bin movie.valid.txt"
      ],
      "metadata": {
        "colab": {
          "base_uri": "https://localhost:8080/"
        },
        "id": "sksI2uOc8rVR",
        "outputId": "d7ef74c2-de58-40ae-a482-ccb6e388b50c"
      },
      "id": "sksI2uOc8rVR",
      "execution_count": 37,
      "outputs": [
        {
          "output_type": "stream",
          "name": "stdout",
          "text": [
            "N\t1700\n",
            "P@1\t0.32\n",
            "R@1\t0.32\n"
          ]
        }
      ]
    }
  ],
  "metadata": {
    "kernelspec": {
      "display_name": "Python 3.9.6 64-bit",
      "language": "python",
      "name": "python3"
    },
    "language_info": {
      "codemirror_mode": {
        "name": "ipython",
        "version": 3
      },
      "file_extension": ".py",
      "mimetype": "text/x-python",
      "name": "python",
      "nbconvert_exporter": "python",
      "pygments_lexer": "ipython3",
      "version": "3.9.6"
    },
    "vscode": {
      "interpreter": {
        "hash": "20bf69066c0dd38d51965b69d5e1b6e387082e3198ba56e97997ac55f4e50ad0"
      }
    },
    "colab": {
      "provenance": []
    }
  },
  "nbformat": 4,
  "nbformat_minor": 5
}