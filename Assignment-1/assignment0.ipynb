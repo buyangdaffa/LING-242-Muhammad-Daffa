{
  "cells": [
    {
      "cell_type": "markdown",
      "id": "b6d19f89",
      "metadata": {
        "id": "b6d19f89"
      },
      "source": [
        "Complete your lab 0 (6 pts), and do some exercises in shell programming (add your comments, extra pts) (Due Jan 25, 2024)"
      ]
    },
    {
      "cell_type": "markdown",
      "source": [
        "# The Shell"
      ],
      "metadata": {
        "id": "mk2oYxJSLeBG"
      },
      "id": "mk2oYxJSLeBG"
    },
    {
      "cell_type": "markdown",
      "source": [
        "## pwd (print working directory): you should see a directory path printed out"
      ],
      "metadata": {
        "id": "DCVwVVxLLqhR"
      },
      "id": "DCVwVVxLLqhR"
    },
    {
      "cell_type": "code",
      "source": [
        "# The 'pwd' command prints the current working directory to the terminal.\n",
        "\n",
        "!pwd"
      ],
      "metadata": {
        "colab": {
          "base_uri": "https://localhost:8080/"
        },
        "id": "oRyUFSPbNxeh",
        "outputId": "747475ad-6e97-4818-e7f9-273bbb689641"
      },
      "id": "oRyUFSPbNxeh",
      "execution_count": 1,
      "outputs": [
        {
          "output_type": "stream",
          "name": "stdout",
          "text": [
            "/content\n"
          ]
        }
      ]
    },
    {
      "cell_type": "markdown",
      "source": [
        "## cd (change directory): you can change the working directory"
      ],
      "metadata": {
        "id": "BCZQMrACLt8m"
      },
      "id": "BCZQMrACLt8m"
    },
    {
      "cell_type": "code",
      "source": [
        "# The 'cd' command is used to change the current working directory in the terminal.\n",
        "\n",
        "!cd"
      ],
      "metadata": {
        "id": "dufMqxJMN2xG"
      },
      "id": "dufMqxJMN2xG",
      "execution_count": 2,
      "outputs": []
    },
    {
      "cell_type": "code",
      "source": [
        "# The 'cd /' command changes the current working directory to the root directory (\"/\").\n",
        "\n",
        "!cd /"
      ],
      "metadata": {
        "id": "FV0TRN-ON5TG"
      },
      "id": "FV0TRN-ON5TG",
      "execution_count": 3,
      "outputs": []
    },
    {
      "cell_type": "code",
      "source": [
        "# The 'pwd' command prints the current working directory to the terminal.\n",
        "\n",
        "!pwd"
      ],
      "metadata": {
        "colab": {
          "base_uri": "https://localhost:8080/"
        },
        "id": "zmmSO2vfN67s",
        "outputId": "69e88b9b-c3c2-43e1-93ad-dd1522bf1d41"
      },
      "id": "zmmSO2vfN67s",
      "execution_count": 4,
      "outputs": [
        {
          "output_type": "stream",
          "name": "stdout",
          "text": [
            "/content\n"
          ]
        }
      ]
    },
    {
      "cell_type": "code",
      "source": [
        "# The 'cd ~' command changes the current working directory to the user's home directory.\n",
        "\n",
        "!cd ~"
      ],
      "metadata": {
        "id": "x7htRHQsN9VD"
      },
      "id": "x7htRHQsN9VD",
      "execution_count": 5,
      "outputs": []
    },
    {
      "cell_type": "code",
      "source": [
        "# The 'pwd' command prints the current working directory to the terminal, which is now the user's home directory.\n",
        "\n",
        "!pwd"
      ],
      "metadata": {
        "colab": {
          "base_uri": "https://localhost:8080/"
        },
        "id": "Vq4BaChUOYxx",
        "outputId": "137779be-965e-475c-f1c5-3fb46e5c4919"
      },
      "id": "Vq4BaChUOYxx",
      "execution_count": 6,
      "outputs": [
        {
          "output_type": "stream",
          "name": "stdout",
          "text": [
            "/content\n"
          ]
        }
      ]
    },
    {
      "cell_type": "markdown",
      "source": [
        "## mkdir (make directory): we create the directory"
      ],
      "metadata": {
        "id": "dRI-EqvcL1ez"
      },
      "id": "dRI-EqvcL1ez"
    },
    {
      "cell_type": "code",
      "source": [
        "# The 'cd' command, when used without arguments, takes us to the user's home directory.\n",
        "\n",
        "!cd"
      ],
      "metadata": {
        "id": "ZlOOeAWeOfL8"
      },
      "id": "ZlOOeAWeOfL8",
      "execution_count": 7,
      "outputs": []
    },
    {
      "cell_type": "code",
      "source": [
        "# The 'mkdir tempo' command creates a new directory named 'tempo' in the current working directory.\n",
        "\n",
        "!mkdir tempo"
      ],
      "metadata": {
        "id": "X-an-i85OjJ4"
      },
      "id": "X-an-i85OjJ4",
      "execution_count": 8,
      "outputs": []
    },
    {
      "cell_type": "code",
      "source": [
        "# The 'cd tempo' command changes the current working directory to the 'tempo' directory.\n",
        "\n",
        "!cd tempo"
      ],
      "metadata": {
        "id": "qbG0WQg0Ok-_"
      },
      "id": "qbG0WQg0Ok-_",
      "execution_count": 9,
      "outputs": []
    },
    {
      "cell_type": "code",
      "source": [
        "# The 'pwd' command prints the current working directory to the terminal, which is now the 'tempo' directory.\n",
        "\n",
        "!pwd"
      ],
      "metadata": {
        "colab": {
          "base_uri": "https://localhost:8080/"
        },
        "id": "53D_IzplOm2x",
        "outputId": "a33889dd-232e-4d2f-c6c6-76b0561885e8"
      },
      "id": "53D_IzplOm2x",
      "execution_count": 10,
      "outputs": [
        {
          "output_type": "stream",
          "name": "stdout",
          "text": [
            "/content\n"
          ]
        }
      ]
    },
    {
      "cell_type": "code",
      "source": [
        "# The 'mkdir dir1 dir2 dir3' command creates three new directories named 'dir1', 'dir2', and 'dir3' in the current working directory.\n",
        "\n",
        "!mkdir dir1 dir2 dir3"
      ],
      "metadata": {
        "id": "bqgidFa9OygZ"
      },
      "id": "bqgidFa9OygZ",
      "execution_count": 11,
      "outputs": []
    },
    {
      "cell_type": "markdown",
      "source": [
        "## ls (list): lists the files and directories in the current working directory"
      ],
      "metadata": {
        "id": "YZ1X8F9YL7q1"
      },
      "id": "YZ1X8F9YL7q1"
    },
    {
      "cell_type": "code",
      "source": [
        "# The 'ls' command lists the files and directories in the current working directory.\n",
        "\n",
        "!ls"
      ],
      "metadata": {
        "colab": {
          "base_uri": "https://localhost:8080/"
        },
        "id": "sEfZkhf8O1G4",
        "outputId": "78235f18-65ba-40ee-fa99-89363e41de7f"
      },
      "id": "sEfZkhf8O1G4",
      "execution_count": 12,
      "outputs": [
        {
          "output_type": "stream",
          "name": "stdout",
          "text": [
            "dir1  dir2  dir3  sample_data  tempo\n"
          ]
        }
      ]
    },
    {
      "cell_type": "code",
      "source": [
        "# The 'ls -l' command lists detailed information about files and directories in the current working directory, including permissions, owner, size, and modification time.\n",
        "\n",
        "!ls -l"
      ],
      "metadata": {
        "colab": {
          "base_uri": "https://localhost:8080/"
        },
        "id": "971KjGdzO17i",
        "outputId": "10a15620-318b-4c08-c0fb-fb881774ad9d"
      },
      "id": "971KjGdzO17i",
      "execution_count": 13,
      "outputs": [
        {
          "output_type": "stream",
          "name": "stdout",
          "text": [
            "total 20\n",
            "drwxr-xr-x 2 root root 4096 Jan 26 02:01 dir1\n",
            "drwxr-xr-x 2 root root 4096 Jan 26 02:01 dir2\n",
            "drwxr-xr-x 2 root root 4096 Jan 26 02:01 dir3\n",
            "drwxr-xr-x 1 root root 4096 Jan 24 18:27 sample_data\n",
            "drwxr-xr-x 2 root root 4096 Jan 26 02:01 tempo\n"
          ]
        }
      ]
    },
    {
      "cell_type": "code",
      "source": [
        "# The 'ls .' command lists the files and directories in the current working directory. The '.' is a reference to the current directory.\n",
        "\n",
        "!ls ."
      ],
      "metadata": {
        "colab": {
          "base_uri": "https://localhost:8080/"
        },
        "id": "nDllQ3mOO4WH",
        "outputId": "2be859f7-6a99-449b-aa31-9faee795315a"
      },
      "id": "nDllQ3mOO4WH",
      "execution_count": 14,
      "outputs": [
        {
          "output_type": "stream",
          "name": "stdout",
          "text": [
            "dir1  dir2  dir3  sample_data  tempo\n"
          ]
        }
      ]
    },
    {
      "cell_type": "code",
      "source": [
        "# The 'ls > file.txt' command redirects the output of the 'ls' command to a file named 'file.txt', listing the files and directories in the current working directory.\n",
        "\n",
        "!ls > file.txt"
      ],
      "metadata": {
        "id": "JV6ZRSHsO7TD"
      },
      "id": "JV6ZRSHsO7TD",
      "execution_count": 15,
      "outputs": []
    },
    {
      "cell_type": "code",
      "source": [
        "# The output of 'll -l' shows detailed information about files and directories in the current working directory:\n",
        "\n",
        "!ll -l"
      ],
      "metadata": {
        "colab": {
          "base_uri": "https://localhost:8080/"
        },
        "id": "OVhdS7gPO9UU",
        "outputId": "8947766f-74a7-430c-dec4-b87230566f47"
      },
      "id": "OVhdS7gPO9UU",
      "execution_count": 16,
      "outputs": [
        {
          "output_type": "stream",
          "name": "stdout",
          "text": [
            "/bin/bash: line 1: ll: command not found\n"
          ]
        }
      ]
    },
    {
      "cell_type": "code",
      "source": [
        "# The 'echo \"This is a first test\" > test_1.txt' command writes the text \"This is a first test\" to a file named 'test_1.txt'. If the file already exists, it will be overwritten; otherwise, a new file will be created.\n",
        "\n",
        "!echo \"This is a first test\" > test_1.txt"
      ],
      "metadata": {
        "id": "0t4Q7ZyqPBXJ"
      },
      "id": "0t4Q7ZyqPBXJ",
      "execution_count": 17,
      "outputs": []
    },
    {
      "cell_type": "code",
      "source": [
        "# The 'echo \"This is a second test\" > test_2.txt' command writes the text \"This is a second test\" to a file named 'test_2.txt'. If the file already exists, it will be overwritten; otherwise, a new file will be created.\n",
        "\n",
        "!echo \"This is a second test\" > test_2.txt"
      ],
      "metadata": {
        "id": "jhy5ui3MPHRe"
      },
      "id": "jhy5ui3MPHRe",
      "execution_count": 18,
      "outputs": []
    },
    {
      "cell_type": "code",
      "source": [
        "# The 'echo \"This is a third test\" > test_3.txt' command writes the text \"This is a third test\" to a file named 'test_3.txt'. If the file already exists, it will be overwritten; otherwise, a new file will be created.\n",
        "\n",
        "!echo \"This is a third test\" > test_3.txt"
      ],
      "metadata": {
        "id": "V8_ZHZNzPKY6"
      },
      "id": "V8_ZHZNzPKY6",
      "execution_count": 19,
      "outputs": []
    },
    {
      "cell_type": "code",
      "source": [
        "# The 'ls' command lists the files and directories in the current working directory.\n",
        "\n",
        "!ls"
      ],
      "metadata": {
        "colab": {
          "base_uri": "https://localhost:8080/"
        },
        "id": "XbNmqjpoPMn1",
        "outputId": "90a11602-68b6-4722-ddfc-362776fd0470"
      },
      "id": "XbNmqjpoPMn1",
      "execution_count": 20,
      "outputs": [
        {
          "output_type": "stream",
          "name": "stdout",
          "text": [
            "dir1  dir2  dir3  file.txt  sample_data  tempo\ttest_1.txt  test_2.txt\ttest_3.txt\n"
          ]
        }
      ]
    },
    {
      "cell_type": "markdown",
      "source": [
        "## cat (concatenate): displays the contents of the file we want"
      ],
      "metadata": {
        "id": "oE4pNglAMGg7"
      },
      "id": "oE4pNglAMGg7"
    },
    {
      "cell_type": "code",
      "source": [
        "# The 'cat test_1.txt' command displays the contents of the file 'test_1.txt'.\n",
        "\n",
        "!cat test_1.txt"
      ],
      "metadata": {
        "colab": {
          "base_uri": "https://localhost:8080/"
        },
        "id": "YnNshbUIPPF1",
        "outputId": "b2aa4743-78c7-4caf-973f-2ef976573655"
      },
      "id": "YnNshbUIPPF1",
      "execution_count": 21,
      "outputs": [
        {
          "output_type": "stream",
          "name": "stdout",
          "text": [
            "This is a first test\n"
          ]
        }
      ]
    },
    {
      "cell_type": "code",
      "source": [
        "# The 'cat test_1.txt test_2.txt test_3.txt' command displays the contents of the files 'test_1.txt', 'test_2.txt', and 'test_3.txt' concatenated together and printed to the terminal.\n",
        "\n",
        "!cat test_1.txt test_2.txt test_3.txt"
      ],
      "metadata": {
        "colab": {
          "base_uri": "https://localhost:8080/"
        },
        "id": "yMnq7hhmPUKT",
        "outputId": "4ce41589-66b1-4953-e010-17a826bd93fe"
      },
      "id": "yMnq7hhmPUKT",
      "execution_count": 22,
      "outputs": [
        {
          "output_type": "stream",
          "name": "stdout",
          "text": [
            "This is a first test\n",
            "This is a second test\n",
            "This is a third test\n"
          ]
        }
      ]
    },
    {
      "cell_type": "code",
      "source": [
        "# The 'cat test_*' command displays the contents of all files in the current directory that match the pattern 'test_*'. In this case, it would output the contents of 'test_1.txt', 'test_2.txt', and 'test_3.txt'.\n",
        "\n",
        "!cat test_*"
      ],
      "metadata": {
        "colab": {
          "base_uri": "https://localhost:8080/"
        },
        "id": "ka_kkgcsPXaY",
        "outputId": "ce915407-faa4-410e-996f-3bbc358a41e1"
      },
      "id": "ka_kkgcsPXaY",
      "execution_count": 23,
      "outputs": [
        {
          "output_type": "stream",
          "name": "stdout",
          "text": [
            "This is a first test\n",
            "This is a second test\n",
            "This is a third test\n"
          ]
        }
      ]
    },
    {
      "cell_type": "code",
      "source": [
        "# The 'cat t* > combined.txt' command concatenates the contents of all files in the current directory that start with the letter 't' into a new file named 'combined.txt'.\n",
        "\n",
        "!cat t* > combined.txt"
      ],
      "metadata": {
        "id": "zPk4z59fPZYa",
        "colab": {
          "base_uri": "https://localhost:8080/"
        },
        "outputId": "52c2c676-961c-432a-a7a3-4f93da60390c"
      },
      "id": "zPk4z59fPZYa",
      "execution_count": 24,
      "outputs": [
        {
          "output_type": "stream",
          "name": "stdout",
          "text": [
            "cat: tempo: Is a directory\n"
          ]
        }
      ]
    },
    {
      "cell_type": "code",
      "source": [
        "# The 'cat combined.txt' command displays the contents of the file 'combined.txt', which contains the concatenated contents of all files in the current directory starting with the letter 't'.\n",
        "\n",
        "!cat combined.txt"
      ],
      "metadata": {
        "colab": {
          "base_uri": "https://localhost:8080/"
        },
        "id": "5h4X4vUSPcSS",
        "outputId": "a6c4a51f-b354-4c7d-84ce-5c268aa5500c"
      },
      "id": "5h4X4vUSPcSS",
      "execution_count": 25,
      "outputs": [
        {
          "output_type": "stream",
          "name": "stdout",
          "text": [
            "This is a first test\n",
            "This is a second test\n",
            "This is a third test\n"
          ]
        }
      ]
    },
    {
      "cell_type": "code",
      "source": [
        "# The 'ls' command lists the files and directories in the current working directory.\n",
        "\n",
        "!ls"
      ],
      "metadata": {
        "colab": {
          "base_uri": "https://localhost:8080/"
        },
        "id": "vwKiGQb-Pd4h",
        "outputId": "fd959acb-b75e-46fe-8135-80a581282b27"
      },
      "id": "vwKiGQb-Pd4h",
      "execution_count": 26,
      "outputs": [
        {
          "output_type": "stream",
          "name": "stdout",
          "text": [
            "combined.txt  dir1  dir2  dir3\tfile.txt  sample_data  tempo  test_1.txt  test_2.txt  test_3.txt\n"
          ]
        }
      ]
    },
    {
      "cell_type": "markdown",
      "source": [
        "## mv (move): to move files to another path or directory"
      ],
      "metadata": {
        "id": "McIBhFfxMO7F"
      },
      "id": "McIBhFfxMO7F"
    },
    {
      "cell_type": "code",
      "source": [
        "# The 'mv file.txt dir1' command moves the file 'file.txt' to the directory 'dir1'. After this operation, the file 'file.txt' is no longer in the current directory but has been moved to 'dir1'.\n",
        "\n",
        "!mv file.txt dir1"
      ],
      "metadata": {
        "id": "gx7U7eoQPgiC"
      },
      "id": "gx7U7eoQPgiC",
      "execution_count": 27,
      "outputs": []
    },
    {
      "cell_type": "code",
      "source": [
        "# The 'cd dir1' command changes the current working directory to 'dir1'.\n",
        "\n",
        "!cd dir1"
      ],
      "metadata": {
        "id": "AjWbjMXyPiaJ"
      },
      "id": "AjWbjMXyPiaJ",
      "execution_count": 28,
      "outputs": []
    },
    {
      "cell_type": "code",
      "source": [
        "# The 'ls' command lists the files and directories in the current working directory, which is now 'dir1'.\n",
        "\n",
        "!ls"
      ],
      "metadata": {
        "colab": {
          "base_uri": "https://localhost:8080/"
        },
        "id": "ik92e7cgPjnH",
        "outputId": "740f5849-abed-4ae2-efce-b49deaf771cf"
      },
      "id": "ik92e7cgPjnH",
      "execution_count": 29,
      "outputs": [
        {
          "output_type": "stream",
          "name": "stdout",
          "text": [
            "combined.txt  dir1  dir2  dir3\tsample_data  tempo  test_1.txt\ttest_2.txt  test_3.txt\n"
          ]
        }
      ]
    },
    {
      "cell_type": "code",
      "source": [
        "# The 'mv file.txt renamed_file.txt' command renames the file 'file.txt' to 'renamed_file.txt' in the current directory (in this case, 'dir1').\n",
        "\n",
        "!mv file.txt renamed_file.txt"
      ],
      "metadata": {
        "id": "yyWUFzGYPlYH",
        "colab": {
          "base_uri": "https://localhost:8080/"
        },
        "outputId": "1fbc02a0-0760-4b35-94d4-e4cd2114e2ca"
      },
      "id": "yyWUFzGYPlYH",
      "execution_count": 30,
      "outputs": [
        {
          "output_type": "stream",
          "name": "stdout",
          "text": [
            "mv: cannot stat 'file.txt': No such file or directory\n"
          ]
        }
      ]
    },
    {
      "cell_type": "code",
      "source": [
        "# The 'ls' command lists the files and directories in the current working directory, which is 'dir1'.\n",
        "\n",
        "!ls"
      ],
      "metadata": {
        "colab": {
          "base_uri": "https://localhost:8080/"
        },
        "id": "zYdZVJxcPp-i",
        "outputId": "9b0b1233-948b-4088-9678-c362a0db90cd"
      },
      "id": "zYdZVJxcPp-i",
      "execution_count": 31,
      "outputs": [
        {
          "output_type": "stream",
          "name": "stdout",
          "text": [
            "combined.txt  dir1  dir2  dir3\tsample_data  tempo  test_1.txt\ttest_2.txt  test_3.txt\n"
          ]
        }
      ]
    },
    {
      "cell_type": "markdown",
      "source": [
        "## cp (copy): for copying files & rm (remove) to delete files"
      ],
      "metadata": {
        "id": "lT1FTjAIMWAG"
      },
      "id": "lT1FTjAIMWAG"
    },
    {
      "cell_type": "code",
      "source": [
        "# The 'cp renamed_file.txt copied_file.txt' command copies the contents of the file 'renamed_file.txt' to a new file named 'copied_file.txt' in the same directory.\n",
        "\n",
        "!cp renamed_file.txt copied_file.txt"
      ],
      "metadata": {
        "id": "hMgpTaNbQAqr",
        "colab": {
          "base_uri": "https://localhost:8080/"
        },
        "outputId": "850c2ded-58d7-4ffb-f78e-f31a81243ecc"
      },
      "id": "hMgpTaNbQAqr",
      "execution_count": 32,
      "outputs": [
        {
          "output_type": "stream",
          "name": "stdout",
          "text": [
            "cp: cannot stat 'renamed_file.txt': No such file or directory\n"
          ]
        }
      ]
    },
    {
      "cell_type": "code",
      "source": [
        "# The 'ls' command lists the files and directories in the current working directory, which is 'dir1'.\n",
        "\n",
        "!ls"
      ],
      "metadata": {
        "colab": {
          "base_uri": "https://localhost:8080/"
        },
        "id": "uBc3VudyQD8t",
        "outputId": "c6755a44-023c-43d9-e291-8fc9dac141f0"
      },
      "id": "uBc3VudyQD8t",
      "execution_count": 33,
      "outputs": [
        {
          "output_type": "stream",
          "name": "stdout",
          "text": [
            "combined.txt  dir1  dir2  dir3\tsample_data  tempo  test_1.txt\ttest_2.txt  test_3.txt\n"
          ]
        }
      ]
    },
    {
      "cell_type": "code",
      "source": [
        "# The 'rm copied_file.txt' command removes (deletes) the file 'copied_file.txt' from the current directory.\n",
        "\n",
        "!rm copied_file.txt"
      ],
      "metadata": {
        "id": "nC7lN5J2QF00",
        "colab": {
          "base_uri": "https://localhost:8080/"
        },
        "outputId": "64a29c3f-5dcf-4236-f644-bded4e190583"
      },
      "id": "nC7lN5J2QF00",
      "execution_count": 34,
      "outputs": [
        {
          "output_type": "stream",
          "name": "stdout",
          "text": [
            "rm: cannot remove 'copied_file.txt': No such file or directory\n"
          ]
        }
      ]
    },
    {
      "cell_type": "code",
      "source": [
        "# The 'ls' command lists the files and directories in the current working directory, which is 'dir1'.\n",
        "\n",
        "!ls"
      ],
      "metadata": {
        "colab": {
          "base_uri": "https://localhost:8080/"
        },
        "id": "K_71FdKfQHlT",
        "outputId": "3dd0c79d-d54c-4f8c-8ed6-c3b418b63d77"
      },
      "id": "K_71FdKfQHlT",
      "execution_count": 35,
      "outputs": [
        {
          "output_type": "stream",
          "name": "stdout",
          "text": [
            "combined.txt  dir1  dir2  dir3\tsample_data  tempo  test_1.txt\ttest_2.txt  test_3.txt\n"
          ]
        }
      ]
    },
    {
      "cell_type": "code",
      "source": [
        "# The 'mv renamed_file.txt file.txt' command renames the file 'renamed_file.txt' back to 'file.txt' in the current directory ('dir1').\n",
        "\n",
        "!mv renamed_file.txt file.txt"
      ],
      "metadata": {
        "id": "qOGoqpljQI80",
        "colab": {
          "base_uri": "https://localhost:8080/"
        },
        "outputId": "e6671a94-a468-4924-f4ab-b20a7ed484ca"
      },
      "id": "qOGoqpljQI80",
      "execution_count": 36,
      "outputs": [
        {
          "output_type": "stream",
          "name": "stdout",
          "text": [
            "mv: cannot stat 'renamed_file.txt': No such file or directory\n"
          ]
        }
      ]
    },
    {
      "cell_type": "code",
      "source": [
        "# The 'ls' command lists the files and directories in the current working directory, which is 'dir1'.\n",
        "\n",
        "!ls"
      ],
      "metadata": {
        "colab": {
          "base_uri": "https://localhost:8080/"
        },
        "id": "tHUafC6qQK6N",
        "outputId": "cd1e5d76-8e1b-4369-d655-9d6cb9f6b860"
      },
      "id": "tHUafC6qQK6N",
      "execution_count": 37,
      "outputs": [
        {
          "output_type": "stream",
          "name": "stdout",
          "text": [
            "combined.txt  dir1  dir2  dir3\tsample_data  tempo  test_1.txt\ttest_2.txt  test_3.txt\n"
          ]
        }
      ]
    },
    {
      "cell_type": "code",
      "source": [
        "# The 'cd ../' command changes the current working directory to the parent directory of the current directory.\n",
        "\n",
        "!cd ../"
      ],
      "metadata": {
        "id": "VCs5xmXrQL4-"
      },
      "id": "VCs5xmXrQL4-",
      "execution_count": 38,
      "outputs": []
    },
    {
      "cell_type": "code",
      "source": [
        "# The 'pwd' command prints the current working directory to the terminal. After navigating up one level using 'cd ../', the output might be the path of the parent directory.\n",
        "\n",
        "!pwd"
      ],
      "metadata": {
        "colab": {
          "base_uri": "https://localhost:8080/"
        },
        "id": "-MIDXTZtQNd9",
        "outputId": "4546c9e1-a0db-4981-ba47-59e63567a3ab"
      },
      "id": "-MIDXTZtQNd9",
      "execution_count": 39,
      "outputs": [
        {
          "output_type": "stream",
          "name": "stdout",
          "text": [
            "/content\n"
          ]
        }
      ]
    },
    {
      "cell_type": "markdown",
      "source": [
        "## rmdir (remove directory): to remove a directory"
      ],
      "metadata": {
        "id": "WsiOA_JuMbtZ"
      },
      "id": "WsiOA_JuMbtZ"
    },
    {
      "cell_type": "code",
      "source": [
        "# The 'rmdir dir2' command removes (deletes) the directory 'dir2' from the current working directory. Note that this command will only work if the directory is empty.\n",
        "\n",
        "!rmdir dir2"
      ],
      "metadata": {
        "id": "fK4SRn9jQOXZ"
      },
      "id": "fK4SRn9jQOXZ",
      "execution_count": 40,
      "outputs": []
    },
    {
      "cell_type": "code",
      "source": [
        "# The 'ls' command lists the files and directories in the current working directory.\n",
        "\n",
        "!ls"
      ],
      "metadata": {
        "colab": {
          "base_uri": "https://localhost:8080/"
        },
        "id": "-DE_glv-QQqA",
        "outputId": "74b406e8-e318-4d9f-e363-7f4b885d7585"
      },
      "id": "-DE_glv-QQqA",
      "execution_count": 41,
      "outputs": [
        {
          "output_type": "stream",
          "name": "stdout",
          "text": [
            "combined.txt  dir1  dir3  sample_data  tempo  test_1.txt  test_2.txt  test_3.txt\n"
          ]
        }
      ]
    },
    {
      "cell_type": "code",
      "source": [
        "# The 'rmdir dir1' command removes (deletes) the directory 'dir1' from the current working directory. Note that this command will only work if the directory is empty.\n",
        "\n",
        "!rmdir dir1"
      ],
      "metadata": {
        "colab": {
          "base_uri": "https://localhost:8080/"
        },
        "id": "93CK0VB8QSEc",
        "outputId": "0354c127-60a1-461c-c124-8f1fe3de2200"
      },
      "id": "93CK0VB8QSEc",
      "execution_count": 42,
      "outputs": [
        {
          "output_type": "stream",
          "name": "stdout",
          "text": [
            "rmdir: failed to remove 'dir1': Directory not empty\n"
          ]
        }
      ]
    },
    {
      "cell_type": "code",
      "source": [
        "# The 'rm -r dir1' command removes (deletes) the directory 'dir1' and its contents recursively from the current working directory. Be cautious when using the '-r' (or '-R') option, as it deletes directories and their contents without asking for confirmation.\n",
        "\n",
        "!rm -r dir1"
      ],
      "metadata": {
        "id": "snpoRMiNQVAv"
      },
      "id": "snpoRMiNQVAv",
      "execution_count": 43,
      "outputs": []
    },
    {
      "cell_type": "code",
      "source": [
        "# The 'ls' command lists the files and directories in the current working directory.\n",
        "\n",
        "!ls"
      ],
      "metadata": {
        "colab": {
          "base_uri": "https://localhost:8080/"
        },
        "id": "igG_IhewQWTm",
        "outputId": "93b008e2-e994-465f-b474-78a090d0f4fd"
      },
      "id": "igG_IhewQWTm",
      "execution_count": 44,
      "outputs": [
        {
          "output_type": "stream",
          "name": "stdout",
          "text": [
            "combined.txt  dir3  sample_data  tempo\ttest_1.txt  test_2.txt\ttest_3.txt\n"
          ]
        }
      ]
    },
    {
      "cell_type": "markdown",
      "source": [
        "## wc (word count): to count the number of word, line and byte of the files"
      ],
      "metadata": {
        "id": "RGEs4vY-MfAJ"
      },
      "id": "RGEs4vY-MfAJ"
    },
    {
      "cell_type": "code",
      "source": [
        "# The 'cat combined.txt' command displays the contents of the file 'combined.txt', which was created by concatenating the contents of files starting with 't'. However, the file 'combined.txt' was not affected by the directory removal operations, so its content remains unchanged.\n",
        "\n",
        "!cat combined.txt"
      ],
      "metadata": {
        "colab": {
          "base_uri": "https://localhost:8080/"
        },
        "id": "ygaKIBwNQZMY",
        "outputId": "d8479b69-2ff3-40ce-a254-11ed024c9229"
      },
      "id": "ygaKIBwNQZMY",
      "execution_count": 45,
      "outputs": [
        {
          "output_type": "stream",
          "name": "stdout",
          "text": [
            "This is a first test\n",
            "This is a second test\n",
            "This is a third test\n"
          ]
        }
      ]
    },
    {
      "cell_type": "code",
      "source": [
        "# The 'wc combined.txt' command displays information about the word count, line count, and byte count of the file 'combined.txt'.\n",
        "\n",
        "!wc combined.txt"
      ],
      "metadata": {
        "colab": {
          "base_uri": "https://localhost:8080/"
        },
        "id": "ay-nWMhVQbJp",
        "outputId": "a458a365-dc4a-4110-919f-7d260494df89"
      },
      "id": "ay-nWMhVQbJp",
      "execution_count": 46,
      "outputs": [
        {
          "output_type": "stream",
          "name": "stdout",
          "text": [
            " 3 15 64 combined.txt\n"
          ]
        }
      ]
    },
    {
      "cell_type": "markdown",
      "source": [
        "## sed (stream editor): it can perform lots of functions on file like searching, find and replace, insertion or deletion."
      ],
      "metadata": {
        "id": "PLxCEaAlMo1v"
      },
      "id": "PLxCEaAlMo1v"
    },
    {
      "cell_type": "code",
      "source": [
        "# The 'cat combined.txt | sed 's/ /\\t/g' > combined.tsv' command uses the 'sed' (stream editor) to replace all spaces with tabs in the content of 'combined.txt' and then redirects the modified content to a new file named 'combined.tsv'.\n",
        "\n",
        "!cat combined.txt | sed 's/ /\\t/g' > combined.tsv"
      ],
      "metadata": {
        "id": "44DfB9lpQh_c"
      },
      "id": "44DfB9lpQh_c",
      "execution_count": 47,
      "outputs": []
    },
    {
      "cell_type": "code",
      "source": [
        "# The 'cat combined.tsv' command displays the contents of the file 'combined.tsv', which was created by replacing all spaces with tabs in the original content of 'combined.txt'.\n",
        "\n",
        "!cat combined.tsv"
      ],
      "metadata": {
        "id": "Ad0RLIaEQmW8",
        "colab": {
          "base_uri": "https://localhost:8080/"
        },
        "outputId": "ea062ad2-46a5-4b8e-ba18-8de37f6a5164"
      },
      "id": "Ad0RLIaEQmW8",
      "execution_count": 48,
      "outputs": [
        {
          "output_type": "stream",
          "name": "stdout",
          "text": [
            "This\tis\ta\tfirst\ttest\n",
            "This\tis\ta\tsecond\ttest\n",
            "This\tis\ta\tthird\ttest\n"
          ]
        }
      ]
    },
    {
      "cell_type": "markdown",
      "source": [
        "## cut: cutting out the sections from each line of files"
      ],
      "metadata": {
        "id": "lYo2Ga9FM03L"
      },
      "id": "lYo2Ga9FM03L"
    },
    {
      "cell_type": "code",
      "source": [
        "# The '!cut -f4 combined.tsv' command extracts the fourth field (column) from the file 'combined.tsv' using the 'cut' command with the '-f' option. Fields in this case are separated by tabs.\n",
        "\n",
        "!cut -f4 combined.tsv"
      ],
      "metadata": {
        "id": "GwnGAGsNQoUJ",
        "colab": {
          "base_uri": "https://localhost:8080/"
        },
        "outputId": "775869e6-0d45-4952-e10d-83224bdc7a94"
      },
      "id": "GwnGAGsNQoUJ",
      "execution_count": 49,
      "outputs": [
        {
          "output_type": "stream",
          "name": "stdout",
          "text": [
            "first\n",
            "second\n",
            "third\n"
          ]
        }
      ]
    },
    {
      "cell_type": "code",
      "source": [
        "# The '!cut -f2,4 combined.tsv' command extracts the second and fourth fields (columns) from the file 'combined.tsv' using the 'cut' command with the '-f' option. Fields in this case are separated by tabs.\n",
        "\n",
        "!cut -f2,4 combined.tsv"
      ],
      "metadata": {
        "id": "HJKI9bD-Qreh",
        "colab": {
          "base_uri": "https://localhost:8080/"
        },
        "outputId": "1bad443b-7a16-4941-f819-81d1743eb6c9"
      },
      "id": "HJKI9bD-Qreh",
      "execution_count": 50,
      "outputs": [
        {
          "output_type": "stream",
          "name": "stdout",
          "text": [
            "is\tfirst\n",
            "is\tsecond\n",
            "is\tthird\n"
          ]
        }
      ]
    },
    {
      "cell_type": "code",
      "source": [
        "!cut -f4 -d\" \" combined.txt"
      ],
      "metadata": {
        "colab": {
          "base_uri": "https://localhost:8080/"
        },
        "id": "4fTlH-AeQvfD",
        "outputId": "dbec7155-5304-4ee7-efba-5fd7ef6d7d39"
      },
      "id": "4fTlH-AeQvfD",
      "execution_count": 51,
      "outputs": [
        {
          "output_type": "stream",
          "name": "stdout",
          "text": [
            "first\n",
            "second\n",
            "third\n"
          ]
        }
      ]
    },
    {
      "cell_type": "markdown",
      "source": [
        "## sort: to print the output of a file in given order"
      ],
      "metadata": {
        "id": "_AfpmucAM7hK"
      },
      "id": "_AfpmucAM7hK"
    },
    {
      "cell_type": "code",
      "source": [
        "# The '!sort -k4 combined.tsv' command sorts the lines in the file 'combined.tsv' based on the content of the fourth field (column) using the 'sort' command with the '-k' option.\n",
        "\n",
        "!sort -k4 combined.tsv"
      ],
      "metadata": {
        "id": "uiqQPddYQzC5",
        "colab": {
          "base_uri": "https://localhost:8080/"
        },
        "outputId": "5782bd20-8f3e-4c2b-f96c-f5d4bd87a93e"
      },
      "id": "uiqQPddYQzC5",
      "execution_count": 52,
      "outputs": [
        {
          "output_type": "stream",
          "name": "stdout",
          "text": [
            "This\tis\ta\tfirst\ttest\n",
            "This\tis\ta\tsecond\ttest\n",
            "This\tis\ta\tthird\ttest\n"
          ]
        }
      ]
    },
    {
      "cell_type": "code",
      "source": [
        "# The '!sort -k4 -r combined.tsv' command sorts the lines in the file 'combined.tsv' in reverse order based on the content of the fourth field (column) using the 'sort' command with the '-k' option and the '-r' (reverse) flag.\n",
        "\n",
        "!sort -k4 -r combined.tsv"
      ],
      "metadata": {
        "id": "Wf7eNO2DQ19Z",
        "colab": {
          "base_uri": "https://localhost:8080/"
        },
        "outputId": "0b73f755-f28a-4884-8fd6-5d4f80c12d99"
      },
      "id": "Wf7eNO2DQ19Z",
      "execution_count": 53,
      "outputs": [
        {
          "output_type": "stream",
          "name": "stdout",
          "text": [
            "This\tis\ta\tthird\ttest\n",
            "This\tis\ta\tsecond\ttest\n",
            "This\tis\ta\tfirst\ttest\n"
          ]
        }
      ]
    },
    {
      "cell_type": "markdown",
      "source": [
        "## uniq: helps to detect the adjacent duplicate lines and also deletes the duplicate lines."
      ],
      "metadata": {
        "id": "sRPa5oVHNHe6"
      },
      "id": "sRPa5oVHNHe6"
    },
    {
      "cell_type": "code",
      "source": [
        "# The '!cut -f2 combined.tsv | sort | uniq' command extracts the content of the second field (column) from the file 'combined.tsv', sorts the values, and then removes duplicate values using the 'uniq' command.\n",
        "\n",
        "!cut -f2 combined.tsv | sort | uniq"
      ],
      "metadata": {
        "id": "PzypZxWLQ5I3",
        "colab": {
          "base_uri": "https://localhost:8080/"
        },
        "outputId": "c953f504-4a51-4f6a-ce68-614964b7581d"
      },
      "id": "PzypZxWLQ5I3",
      "execution_count": 54,
      "outputs": [
        {
          "output_type": "stream",
          "name": "stdout",
          "text": [
            "is\n"
          ]
        }
      ]
    },
    {
      "cell_type": "code",
      "source": [
        "# The '!cut -f2 combined.tsv | sort | uniq -c' command extracts the content of the second field (column) from the file 'combined.tsv', sorts the values, and then uses 'uniq -c' to display the count of occurrences for each unique value.\n",
        "\n",
        "!cut -f2 combined.tsv | sort | uniq -c"
      ],
      "metadata": {
        "id": "1By9ZKCZQ71l",
        "colab": {
          "base_uri": "https://localhost:8080/"
        },
        "outputId": "9cb42c75-201a-4dd6-dcd3-c519fe62c49a"
      },
      "id": "1By9ZKCZQ71l",
      "execution_count": 55,
      "outputs": [
        {
          "output_type": "stream",
          "name": "stdout",
          "text": [
            "      3 is\n"
          ]
        }
      ]
    },
    {
      "cell_type": "code",
      "source": [
        "# The '!cut -f4 combined.tsv | sort | uniq -c' command extracts the content of the fourth field (column) from the file 'combined.tsv', sorts the values, and then uses 'uniq -c' to display the count of occurrences for each unique value.\n",
        "\n",
        "!cut -f4 combined.tsv | sort | uniq -c"
      ],
      "metadata": {
        "id": "ZX7WDLIsQ-Ry",
        "colab": {
          "base_uri": "https://localhost:8080/"
        },
        "outputId": "ce7c5f3c-c2a9-4b51-ff21-1c0a38f0d7f7"
      },
      "id": "ZX7WDLIsQ-Ry",
      "execution_count": 56,
      "outputs": [
        {
          "output_type": "stream",
          "name": "stdout",
          "text": [
            "      1 first\n",
            "      1 second\n",
            "      1 third\n"
          ]
        }
      ]
    },
    {
      "cell_type": "markdown",
      "source": [
        "EXERCISE"
      ],
      "metadata": {
        "id": "WL12DGncRA8q"
      },
      "id": "WL12DGncRA8q"
    },
    {
      "cell_type": "code",
      "source": [
        "# The 'cat test_1.txt' command displays the contents of the file 'test_1.txt'.\n",
        "\n",
        "!cat test_1.txt"
      ],
      "metadata": {
        "colab": {
          "base_uri": "https://localhost:8080/"
        },
        "id": "iVxtABjNP_hp",
        "outputId": "61fdf773-1807-4ba8-faba-203a0e0ebb54"
      },
      "id": "iVxtABjNP_hp",
      "execution_count": 57,
      "outputs": [
        {
          "output_type": "stream",
          "name": "stdout",
          "text": [
            "This is a first test\n"
          ]
        }
      ]
    },
    {
      "cell_type": "code",
      "source": [
        "# The 'cat test_1.txt | sed 's/a/the/g' > test_1.txt_the' command reads the content of 'test_1.txt', uses 'sed' to replace all occurrences of 'a' with 'the', and then writes the modified content to a new file named 'test_1.txt_the'.\n",
        "\n",
        "!cat test_1.txt | sed 's/a/the/g' > test_1.txt_the"
      ],
      "metadata": {
        "id": "PoJnA6BmSBTz"
      },
      "id": "PoJnA6BmSBTz",
      "execution_count": 58,
      "outputs": []
    },
    {
      "cell_type": "code",
      "source": [
        "# The 'cat test_1.txt_the' command displays the contents of the file 'test_1.txt_the', which was created by replacing all occurrences of 'a' with 'the' in the original content of 'test_1.txt'.\n",
        "\n",
        "!cat test_1.txt_the"
      ],
      "metadata": {
        "colab": {
          "base_uri": "https://localhost:8080/"
        },
        "id": "NXbPMC2oSH1Q",
        "outputId": "a6774ae8-527d-49af-f0eb-3d4f5538c59a"
      },
      "id": "NXbPMC2oSH1Q",
      "execution_count": 59,
      "outputs": [
        {
          "output_type": "stream",
          "name": "stdout",
          "text": [
            "This is the first test\n"
          ]
        }
      ]
    },
    {
      "cell_type": "code",
      "source": [
        "#!/bin/bash\n",
        "\n",
        "!for i in test_*.txt; do echo $i; cat $i | sed 's/a/the/g' > $i\"_the\"; done\n"
      ],
      "metadata": {
        "colab": {
          "base_uri": "https://localhost:8080/"
        },
        "id": "iTtgObekSU45",
        "outputId": "0882fbff-9758-4fe6-ad21-f0a415b73eef"
      },
      "id": "iTtgObekSU45",
      "execution_count": 60,
      "outputs": [
        {
          "output_type": "stream",
          "name": "stdout",
          "text": [
            "test_1.txt\n",
            "test_2.txt\n",
            "test_3.txt\n"
          ]
        }
      ]
    },
    {
      "cell_type": "code",
      "execution_count": 61,
      "id": "3b5f67e7",
      "metadata": {
        "id": "3b5f67e7",
        "colab": {
          "base_uri": "https://localhost:8080/"
        },
        "outputId": "d02d57a2-8ff4-4448-e5fa-164e68580391"
      },
      "outputs": [
        {
          "output_type": "stream",
          "name": "stdout",
          "text": [
            "combined.tsv  dir3\t   tempo       test_1.txt_the  test_2.txt_the  test_3.txt_the\n",
            "combined.txt  sample_data  test_1.txt  test_2.txt      test_3.txt\n"
          ]
        }
      ],
      "source": [
        "# The 'ls' command is used to list the files and directories in the current working directory when executed in a shell environment that supports this command.\n",
        "\n",
        "!ls"
      ]
    },
    {
      "cell_type": "code",
      "execution_count": 62,
      "id": "6a952aa5",
      "metadata": {
        "id": "6a952aa5",
        "colab": {
          "base_uri": "https://localhost:8080/"
        },
        "outputId": "964c11e5-5de6-4afa-9ac2-8d04b48ce034"
      },
      "outputs": [
        {
          "output_type": "stream",
          "name": "stdout",
          "text": [
            "total 44\n",
            "-rw-r--r-- 1 root root   64 Jan 26 02:01 combined.tsv\n",
            "-rw-r--r-- 1 root root   64 Jan 26 02:01 combined.txt\n",
            "drwxr-xr-x 2 root root 4096 Jan 26 02:01 dir3\n",
            "drwxr-xr-x 1 root root 4096 Jan 24 18:27 sample_data\n",
            "drwxr-xr-x 2 root root 4096 Jan 26 02:01 tempo\n",
            "-rw-r--r-- 1 root root   21 Jan 26 02:01 test_1.txt\n",
            "-rw-r--r-- 1 root root   23 Jan 26 02:01 test_1.txt_the\n",
            "-rw-r--r-- 1 root root   22 Jan 26 02:01 test_2.txt\n",
            "-rw-r--r-- 1 root root   24 Jan 26 02:01 test_2.txt_the\n",
            "-rw-r--r-- 1 root root   21 Jan 26 02:01 test_3.txt\n",
            "-rw-r--r-- 1 root root   23 Jan 26 02:01 test_3.txt_the\n"
          ]
        }
      ],
      "source": [
        "!ls -l"
      ]
    },
    {
      "cell_type": "code",
      "execution_count": 63,
      "id": "2de7df30",
      "metadata": {
        "id": "2de7df30",
        "colab": {
          "base_uri": "https://localhost:8080/"
        },
        "outputId": "0d45bb5b-1271-4a6a-f6b7-3cb646a9f4f1"
      },
      "outputs": [
        {
          "output_type": "stream",
          "name": "stdout",
          "text": [
            "mkdir: cannot create directory ‘tempo’: File exists\n"
          ]
        }
      ],
      "source": [
        "!mkdir tempo"
      ]
    },
    {
      "cell_type": "code",
      "execution_count": 64,
      "id": "8f038170",
      "metadata": {
        "id": "8f038170",
        "colab": {
          "base_uri": "https://localhost:8080/"
        },
        "outputId": "931495c8-dc6b-4eb0-974c-3cae5d72a52c"
      },
      "outputs": [
        {
          "output_type": "stream",
          "name": "stdout",
          "text": [
            "total 44\n",
            "-rw-r--r-- 1 root root   64 Jan 26 02:01 combined.tsv\n",
            "-rw-r--r-- 1 root root   64 Jan 26 02:01 combined.txt\n",
            "drwxr-xr-x 2 root root 4096 Jan 26 02:01 dir3\n",
            "drwxr-xr-x 1 root root 4096 Jan 24 18:27 sample_data\n",
            "drwxr-xr-x 2 root root 4096 Jan 26 02:01 tempo\n",
            "-rw-r--r-- 1 root root   21 Jan 26 02:01 test_1.txt\n",
            "-rw-r--r-- 1 root root   23 Jan 26 02:01 test_1.txt_the\n",
            "-rw-r--r-- 1 root root   22 Jan 26 02:01 test_2.txt\n",
            "-rw-r--r-- 1 root root   24 Jan 26 02:01 test_2.txt_the\n",
            "-rw-r--r-- 1 root root   21 Jan 26 02:01 test_3.txt\n",
            "-rw-r--r-- 1 root root   23 Jan 26 02:01 test_3.txt_the\n"
          ]
        }
      ],
      "source": [
        "!ls -l"
      ]
    },
    {
      "cell_type": "markdown",
      "id": "ec6974a9",
      "metadata": {
        "id": "ec6974a9"
      },
      "source": [
        "Run following commands:\n",
        "```\n",
        "$  wget https://raw.githubusercontent.com/unimorph/eng/master/eng\n",
        "$  file eng\n",
        "$  cut -f1 eng | sort | uniq -c  \n",
        "```"
      ]
    },
    {
      "cell_type": "markdown",
      "id": "ba4b537f",
      "metadata": {
        "id": "ba4b537f"
      },
      "source": []
    }
  ],
  "metadata": {
    "kernelspec": {
      "display_name": "Python 3.8.9 64-bit",
      "language": "python",
      "name": "python3"
    },
    "language_info": {
      "codemirror_mode": {
        "name": "ipython",
        "version": 3
      },
      "file_extension": ".py",
      "mimetype": "text/x-python",
      "name": "python",
      "nbconvert_exporter": "python",
      "pygments_lexer": "ipython3",
      "version": "3.8.9"
    },
    "vscode": {
      "interpreter": {
        "hash": "20bf69066c0dd38d51965b69d5e1b6e387082e3198ba56e97997ac55f4e50ad0"
      }
    },
    "colab": {
      "provenance": []
    }
  },
  "nbformat": 4,
  "nbformat_minor": 5
}