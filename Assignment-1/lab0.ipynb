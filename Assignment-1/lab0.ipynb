{
  "cells": [
    {
      "cell_type": "markdown",
      "id": "b6d19f89",
      "metadata": {
        "id": "b6d19f89"
      },
      "source": [
        "Complete your lab 0 (6 pts), and do some exercises in shell programming (add your comments, extra pts) (Due Jan 25, 2024)"
      ]
    },
    {
      "cell_type": "code",
      "source": [
        "!pwd"
      ],
      "metadata": {
        "colab": {
          "base_uri": "https://localhost:8080/"
        },
        "id": "oRyUFSPbNxeh",
        "outputId": "d08ed251-e83d-4f68-f8a6-d26a2252be5a"
      },
      "id": "oRyUFSPbNxeh",
      "execution_count": 8,
      "outputs": [
        {
          "output_type": "stream",
          "name": "stdout",
          "text": [
            "/\n"
          ]
        }
      ]
    },
    {
      "cell_type": "code",
      "source": [
        "!cd"
      ],
      "metadata": {
        "id": "dufMqxJMN2xG"
      },
      "id": "dufMqxJMN2xG",
      "execution_count": 9,
      "outputs": []
    },
    {
      "cell_type": "code",
      "source": [
        "!cd /"
      ],
      "metadata": {
        "id": "FV0TRN-ON5TG"
      },
      "id": "FV0TRN-ON5TG",
      "execution_count": 11,
      "outputs": []
    },
    {
      "cell_type": "code",
      "source": [
        "!pwd"
      ],
      "metadata": {
        "colab": {
          "base_uri": "https://localhost:8080/"
        },
        "id": "zmmSO2vfN67s",
        "outputId": "5c41b762-8eba-48ba-f1c9-f31fdcff57d4"
      },
      "id": "zmmSO2vfN67s",
      "execution_count": 12,
      "outputs": [
        {
          "output_type": "stream",
          "name": "stdout",
          "text": [
            "/\n"
          ]
        }
      ]
    },
    {
      "cell_type": "code",
      "source": [
        "!cd ~"
      ],
      "metadata": {
        "id": "x7htRHQsN9VD"
      },
      "id": "x7htRHQsN9VD",
      "execution_count": 14,
      "outputs": []
    },
    {
      "cell_type": "code",
      "source": [
        "!pwd"
      ],
      "metadata": {
        "colab": {
          "base_uri": "https://localhost:8080/"
        },
        "id": "Vq4BaChUOYxx",
        "outputId": "62424392-e673-4160-b660-2d7e6dccb9ed"
      },
      "id": "Vq4BaChUOYxx",
      "execution_count": 16,
      "outputs": [
        {
          "output_type": "stream",
          "name": "stdout",
          "text": [
            "/\n"
          ]
        }
      ]
    },
    {
      "cell_type": "markdown",
      "source": [
        "BORDER"
      ],
      "metadata": {
        "id": "46WBjs1_OfvL"
      },
      "id": "46WBjs1_OfvL"
    },
    {
      "cell_type": "code",
      "source": [
        "cd"
      ],
      "metadata": {
        "colab": {
          "base_uri": "https://localhost:8080/"
        },
        "id": "ZlOOeAWeOfL8",
        "outputId": "96fd92f2-ad04-44c4-d21f-6ceff714d743"
      },
      "id": "ZlOOeAWeOfL8",
      "execution_count": 26,
      "outputs": [
        {
          "output_type": "stream",
          "name": "stdout",
          "text": [
            "/root\n"
          ]
        }
      ]
    },
    {
      "cell_type": "code",
      "source": [
        "!mkdir tempo"
      ],
      "metadata": {
        "id": "X-an-i85OjJ4"
      },
      "id": "X-an-i85OjJ4",
      "execution_count": 27,
      "outputs": []
    },
    {
      "cell_type": "code",
      "source": [
        "cd tempo"
      ],
      "metadata": {
        "colab": {
          "base_uri": "https://localhost:8080/"
        },
        "id": "qbG0WQg0Ok-_",
        "outputId": "7b381893-1b97-43a7-dab8-39afc8d5bb13"
      },
      "id": "qbG0WQg0Ok-_",
      "execution_count": 28,
      "outputs": [
        {
          "output_type": "stream",
          "name": "stdout",
          "text": [
            "/root/tempo\n"
          ]
        }
      ]
    },
    {
      "cell_type": "code",
      "source": [
        "!pwd"
      ],
      "metadata": {
        "colab": {
          "base_uri": "https://localhost:8080/"
        },
        "id": "53D_IzplOm2x",
        "outputId": "bb17da8c-9806-423a-b22e-8e6bba6e8621"
      },
      "id": "53D_IzplOm2x",
      "execution_count": 29,
      "outputs": [
        {
          "output_type": "stream",
          "name": "stdout",
          "text": [
            "/root/tempo\n"
          ]
        }
      ]
    },
    {
      "cell_type": "code",
      "source": [
        "mkdir dir1 dir2 dir3"
      ],
      "metadata": {
        "id": "bqgidFa9OygZ"
      },
      "id": "bqgidFa9OygZ",
      "execution_count": 30,
      "outputs": []
    },
    {
      "cell_type": "code",
      "source": [
        "ls"
      ],
      "metadata": {
        "colab": {
          "base_uri": "https://localhost:8080/"
        },
        "id": "sEfZkhf8O1G4",
        "outputId": "980fe351-cfa6-4d20-817e-c91ddd86ec24"
      },
      "id": "sEfZkhf8O1G4",
      "execution_count": 31,
      "outputs": [
        {
          "output_type": "stream",
          "name": "stdout",
          "text": [
            "\u001b[0m\u001b[01;34mdir1\u001b[0m/  \u001b[01;34mdir2\u001b[0m/  \u001b[01;34mdir3\u001b[0m/\n"
          ]
        }
      ]
    },
    {
      "cell_type": "code",
      "source": [
        "ls -l"
      ],
      "metadata": {
        "colab": {
          "base_uri": "https://localhost:8080/"
        },
        "id": "971KjGdzO17i",
        "outputId": "89c85945-0b64-4c1d-9e73-43b77f17a8d1"
      },
      "id": "971KjGdzO17i",
      "execution_count": 32,
      "outputs": [
        {
          "output_type": "stream",
          "name": "stdout",
          "text": [
            "total 12\n",
            "drwxr-xr-x 2 root root 4096 Jan 25 01:28 \u001b[0m\u001b[01;34mdir1\u001b[0m/\n",
            "drwxr-xr-x 2 root root 4096 Jan 25 01:28 \u001b[01;34mdir2\u001b[0m/\n",
            "drwxr-xr-x 2 root root 4096 Jan 25 01:28 \u001b[01;34mdir3\u001b[0m/\n"
          ]
        }
      ]
    },
    {
      "cell_type": "code",
      "source": [
        "ls ."
      ],
      "metadata": {
        "colab": {
          "base_uri": "https://localhost:8080/"
        },
        "id": "nDllQ3mOO4WH",
        "outputId": "9409a665-1209-49ed-a5d8-3a021463824f"
      },
      "id": "nDllQ3mOO4WH",
      "execution_count": 33,
      "outputs": [
        {
          "output_type": "stream",
          "name": "stdout",
          "text": [
            "\u001b[0m\u001b[01;34mdir1\u001b[0m/  \u001b[01;34mdir2\u001b[0m/  \u001b[01;34mdir3\u001b[0m/\n"
          ]
        }
      ]
    },
    {
      "cell_type": "code",
      "source": [
        "ls > file.txt"
      ],
      "metadata": {
        "id": "JV6ZRSHsO7TD"
      },
      "id": "JV6ZRSHsO7TD",
      "execution_count": 34,
      "outputs": []
    },
    {
      "cell_type": "code",
      "source": [
        "ll -l"
      ],
      "metadata": {
        "colab": {
          "base_uri": "https://localhost:8080/"
        },
        "id": "OVhdS7gPO9UU",
        "outputId": "b308374b-ea30-4fef-97f5-b32392b688a1"
      },
      "id": "OVhdS7gPO9UU",
      "execution_count": 35,
      "outputs": [
        {
          "output_type": "stream",
          "name": "stdout",
          "text": [
            "total 16\n",
            "drwxr-xr-x 2 root 4096 Jan 25 01:28 \u001b[0m\u001b[01;34mdir1\u001b[0m/\n",
            "drwxr-xr-x 2 root 4096 Jan 25 01:28 \u001b[01;34mdir2\u001b[0m/\n",
            "drwxr-xr-x 2 root 4096 Jan 25 01:28 \u001b[01;34mdir3\u001b[0m/\n",
            "-rw-r--r-- 1 root   67 Jan 25 01:28 file.txt\n"
          ]
        }
      ]
    },
    {
      "cell_type": "code",
      "source": [
        "!echo \"This is a first test\" > test_1.txt"
      ],
      "metadata": {
        "id": "0t4Q7ZyqPBXJ"
      },
      "id": "0t4Q7ZyqPBXJ",
      "execution_count": 37,
      "outputs": []
    },
    {
      "cell_type": "code",
      "source": [
        "!echo \"This is a second test\" > test_2.txt"
      ],
      "metadata": {
        "id": "jhy5ui3MPHRe"
      },
      "id": "jhy5ui3MPHRe",
      "execution_count": 38,
      "outputs": []
    },
    {
      "cell_type": "code",
      "source": [
        "!echo \"This is a third test\" > test_3.txt"
      ],
      "metadata": {
        "id": "V8_ZHZNzPKY6"
      },
      "id": "V8_ZHZNzPKY6",
      "execution_count": 39,
      "outputs": []
    },
    {
      "cell_type": "code",
      "source": [
        "ls"
      ],
      "metadata": {
        "colab": {
          "base_uri": "https://localhost:8080/"
        },
        "id": "XbNmqjpoPMn1",
        "outputId": "c5e36dc1-9881-44f2-9f56-fe7d822a6434"
      },
      "id": "XbNmqjpoPMn1",
      "execution_count": 40,
      "outputs": [
        {
          "output_type": "stream",
          "name": "stdout",
          "text": [
            "\u001b[0m\u001b[01;34mdir1\u001b[0m/  \u001b[01;34mdir2\u001b[0m/  \u001b[01;34mdir3\u001b[0m/  file.txt  test_1.txt  test_2.txt  test_3.txt\n"
          ]
        }
      ]
    },
    {
      "cell_type": "code",
      "source": [
        "cat test_1.txt"
      ],
      "metadata": {
        "colab": {
          "base_uri": "https://localhost:8080/"
        },
        "id": "YnNshbUIPPF1",
        "outputId": "ddce4279-adf7-493a-d29e-e4b7e5889aae"
      },
      "id": "YnNshbUIPPF1",
      "execution_count": 43,
      "outputs": [
        {
          "output_type": "stream",
          "name": "stdout",
          "text": [
            "This is a first test\n"
          ]
        }
      ]
    },
    {
      "cell_type": "code",
      "source": [
        "cat test_1.txt test_2.txt test_3.txt"
      ],
      "metadata": {
        "colab": {
          "base_uri": "https://localhost:8080/"
        },
        "id": "yMnq7hhmPUKT",
        "outputId": "fc15e820-dc12-4933-941e-4a2b15c541af"
      },
      "id": "yMnq7hhmPUKT",
      "execution_count": 44,
      "outputs": [
        {
          "output_type": "stream",
          "name": "stdout",
          "text": [
            "This is a first test\n",
            "This is a second test\n",
            "This is a third test\n"
          ]
        }
      ]
    },
    {
      "cell_type": "code",
      "source": [
        "cat test_*"
      ],
      "metadata": {
        "colab": {
          "base_uri": "https://localhost:8080/"
        },
        "id": "ka_kkgcsPXaY",
        "outputId": "145a55e4-f681-4efd-9c84-6c1c6d861430"
      },
      "id": "ka_kkgcsPXaY",
      "execution_count": 45,
      "outputs": [
        {
          "output_type": "stream",
          "name": "stdout",
          "text": [
            "This is a first test\n",
            "This is a second test\n",
            "This is a third test\n"
          ]
        }
      ]
    },
    {
      "cell_type": "code",
      "source": [
        "cat t* > combined.txt"
      ],
      "metadata": {
        "id": "zPk4z59fPZYa"
      },
      "id": "zPk4z59fPZYa",
      "execution_count": 46,
      "outputs": []
    },
    {
      "cell_type": "code",
      "source": [
        "cat combined.txt"
      ],
      "metadata": {
        "colab": {
          "base_uri": "https://localhost:8080/"
        },
        "id": "5h4X4vUSPcSS",
        "outputId": "0eae35f6-1d9d-43bd-98d0-ced95e6183fc"
      },
      "id": "5h4X4vUSPcSS",
      "execution_count": 47,
      "outputs": [
        {
          "output_type": "stream",
          "name": "stdout",
          "text": [
            "This is a first test\n",
            "This is a second test\n",
            "This is a third test\n"
          ]
        }
      ]
    },
    {
      "cell_type": "code",
      "source": [
        "ls"
      ],
      "metadata": {
        "colab": {
          "base_uri": "https://localhost:8080/"
        },
        "id": "vwKiGQb-Pd4h",
        "outputId": "fbfb51a6-ce72-4f60-a2c0-bb435b7c7e3c"
      },
      "id": "vwKiGQb-Pd4h",
      "execution_count": 48,
      "outputs": [
        {
          "output_type": "stream",
          "name": "stdout",
          "text": [
            "combined.txt  \u001b[0m\u001b[01;34mdir1\u001b[0m/  \u001b[01;34mdir2\u001b[0m/  \u001b[01;34mdir3\u001b[0m/  file.txt  test_1.txt  test_2.txt  test_3.txt\n"
          ]
        }
      ]
    },
    {
      "cell_type": "code",
      "source": [
        "mv file.txt dir1"
      ],
      "metadata": {
        "id": "gx7U7eoQPgiC"
      },
      "id": "gx7U7eoQPgiC",
      "execution_count": 49,
      "outputs": []
    },
    {
      "cell_type": "code",
      "source": [
        "cd dir1"
      ],
      "metadata": {
        "colab": {
          "base_uri": "https://localhost:8080/"
        },
        "id": "AjWbjMXyPiaJ",
        "outputId": "61f1fcde-b796-45a9-c57c-00e55513da8e"
      },
      "id": "AjWbjMXyPiaJ",
      "execution_count": 50,
      "outputs": [
        {
          "output_type": "stream",
          "name": "stdout",
          "text": [
            "/root/tempo/dir1\n"
          ]
        }
      ]
    },
    {
      "cell_type": "code",
      "source": [
        "ls"
      ],
      "metadata": {
        "colab": {
          "base_uri": "https://localhost:8080/"
        },
        "id": "ik92e7cgPjnH",
        "outputId": "5a7b90a7-a89f-477d-ad5d-8ebcc2f7bb4d"
      },
      "id": "ik92e7cgPjnH",
      "execution_count": 56,
      "outputs": [
        {
          "output_type": "stream",
          "name": "stdout",
          "text": [
            "file.txt\n"
          ]
        }
      ]
    },
    {
      "cell_type": "code",
      "source": [
        "mv file.txt renamed_file.txt"
      ],
      "metadata": {
        "id": "yyWUFzGYPlYH"
      },
      "id": "yyWUFzGYPlYH",
      "execution_count": 57,
      "outputs": []
    },
    {
      "cell_type": "code",
      "source": [
        "ls"
      ],
      "metadata": {
        "colab": {
          "base_uri": "https://localhost:8080/"
        },
        "id": "zYdZVJxcPp-i",
        "outputId": "cf170d7d-2d12-486d-ac4d-b01efa9af076"
      },
      "id": "zYdZVJxcPp-i",
      "execution_count": 58,
      "outputs": [
        {
          "output_type": "stream",
          "name": "stdout",
          "text": [
            "renamed_file.txt\n"
          ]
        }
      ]
    },
    {
      "cell_type": "code",
      "source": [
        "cp renamed_file.txt copied_file.txt"
      ],
      "metadata": {
        "id": "hMgpTaNbQAqr"
      },
      "id": "hMgpTaNbQAqr",
      "execution_count": 59,
      "outputs": []
    },
    {
      "cell_type": "code",
      "source": [
        "ls"
      ],
      "metadata": {
        "colab": {
          "base_uri": "https://localhost:8080/"
        },
        "id": "uBc3VudyQD8t",
        "outputId": "eaed3c59-9dcb-40db-e0df-30a498e2c2ac"
      },
      "id": "uBc3VudyQD8t",
      "execution_count": 60,
      "outputs": [
        {
          "output_type": "stream",
          "name": "stdout",
          "text": [
            "copied_file.txt  renamed_file.txt\n"
          ]
        }
      ]
    },
    {
      "cell_type": "code",
      "source": [
        "rm copied_file.txt"
      ],
      "metadata": {
        "id": "nC7lN5J2QF00"
      },
      "id": "nC7lN5J2QF00",
      "execution_count": 61,
      "outputs": []
    },
    {
      "cell_type": "code",
      "source": [
        "ls"
      ],
      "metadata": {
        "colab": {
          "base_uri": "https://localhost:8080/"
        },
        "id": "K_71FdKfQHlT",
        "outputId": "18ccc5c5-8375-4377-811d-162aabbb7ab0"
      },
      "id": "K_71FdKfQHlT",
      "execution_count": 62,
      "outputs": [
        {
          "output_type": "stream",
          "name": "stdout",
          "text": [
            "renamed_file.txt\n"
          ]
        }
      ]
    },
    {
      "cell_type": "code",
      "source": [
        "mv renamed_file.txt file.txt"
      ],
      "metadata": {
        "id": "qOGoqpljQI80"
      },
      "id": "qOGoqpljQI80",
      "execution_count": 63,
      "outputs": []
    },
    {
      "cell_type": "code",
      "source": [
        "ls"
      ],
      "metadata": {
        "colab": {
          "base_uri": "https://localhost:8080/"
        },
        "id": "tHUafC6qQK6N",
        "outputId": "acfcfb6e-343d-4316-e0f8-31d916892b1e"
      },
      "id": "tHUafC6qQK6N",
      "execution_count": 64,
      "outputs": [
        {
          "output_type": "stream",
          "name": "stdout",
          "text": [
            "file.txt\n"
          ]
        }
      ]
    },
    {
      "cell_type": "code",
      "source": [
        "cd ../"
      ],
      "metadata": {
        "colab": {
          "base_uri": "https://localhost:8080/"
        },
        "id": "VCs5xmXrQL4-",
        "outputId": "42120c2b-cd4b-484e-a9b0-3b01b9b670bd"
      },
      "id": "VCs5xmXrQL4-",
      "execution_count": 65,
      "outputs": [
        {
          "output_type": "stream",
          "name": "stdout",
          "text": [
            "/root/tempo\n"
          ]
        }
      ]
    },
    {
      "cell_type": "code",
      "source": [
        "pwd"
      ],
      "metadata": {
        "colab": {
          "base_uri": "https://localhost:8080/",
          "height": 35
        },
        "id": "-MIDXTZtQNd9",
        "outputId": "125402ca-88ae-4197-9bde-e07eb8cc19fe"
      },
      "id": "-MIDXTZtQNd9",
      "execution_count": 66,
      "outputs": [
        {
          "output_type": "execute_result",
          "data": {
            "text/plain": [
              "'/root/tempo'"
            ],
            "application/vnd.google.colaboratory.intrinsic+json": {
              "type": "string"
            }
          },
          "metadata": {},
          "execution_count": 66
        }
      ]
    },
    {
      "cell_type": "code",
      "source": [
        "rmdir dir2"
      ],
      "metadata": {
        "id": "fK4SRn9jQOXZ"
      },
      "id": "fK4SRn9jQOXZ",
      "execution_count": 67,
      "outputs": []
    },
    {
      "cell_type": "code",
      "source": [
        "ls"
      ],
      "metadata": {
        "colab": {
          "base_uri": "https://localhost:8080/"
        },
        "id": "-DE_glv-QQqA",
        "outputId": "387854bb-e49b-490b-d89f-1168bedfd12e"
      },
      "id": "-DE_glv-QQqA",
      "execution_count": 68,
      "outputs": [
        {
          "output_type": "stream",
          "name": "stdout",
          "text": [
            "combined.txt  \u001b[0m\u001b[01;34mdir1\u001b[0m/  \u001b[01;34mdir3\u001b[0m/  test_1.txt  test_2.txt  test_3.txt\n"
          ]
        }
      ]
    },
    {
      "cell_type": "code",
      "source": [
        "rmdir dir1"
      ],
      "metadata": {
        "colab": {
          "base_uri": "https://localhost:8080/"
        },
        "id": "93CK0VB8QSEc",
        "outputId": "24e63d28-260c-4271-ea1b-0ffa5f52ee6a"
      },
      "id": "93CK0VB8QSEc",
      "execution_count": 69,
      "outputs": [
        {
          "output_type": "stream",
          "name": "stdout",
          "text": [
            "rmdir: failed to remove 'dir1': Directory not empty\n"
          ]
        }
      ]
    },
    {
      "cell_type": "code",
      "source": [
        "rm -r dir1"
      ],
      "metadata": {
        "id": "snpoRMiNQVAv"
      },
      "id": "snpoRMiNQVAv",
      "execution_count": 70,
      "outputs": []
    },
    {
      "cell_type": "code",
      "source": [
        "ls"
      ],
      "metadata": {
        "colab": {
          "base_uri": "https://localhost:8080/"
        },
        "id": "igG_IhewQWTm",
        "outputId": "e275a3b5-96cb-47c0-81e6-74ab57b75c38"
      },
      "id": "igG_IhewQWTm",
      "execution_count": 71,
      "outputs": [
        {
          "output_type": "stream",
          "name": "stdout",
          "text": [
            "combined.txt  \u001b[0m\u001b[01;34mdir3\u001b[0m/  test_1.txt  test_2.txt  test_3.txt\n"
          ]
        }
      ]
    },
    {
      "cell_type": "code",
      "source": [
        "cat combined.txt"
      ],
      "metadata": {
        "colab": {
          "base_uri": "https://localhost:8080/"
        },
        "id": "ygaKIBwNQZMY",
        "outputId": "c6087e0f-a7e1-4559-d5e8-cd99dba8e051"
      },
      "id": "ygaKIBwNQZMY",
      "execution_count": 72,
      "outputs": [
        {
          "output_type": "stream",
          "name": "stdout",
          "text": [
            "This is a first test\n",
            "This is a second test\n",
            "This is a third test\n"
          ]
        }
      ]
    },
    {
      "cell_type": "code",
      "source": [
        "!wc combined.txt"
      ],
      "metadata": {
        "colab": {
          "base_uri": "https://localhost:8080/"
        },
        "id": "ay-nWMhVQbJp",
        "outputId": "bce2fc86-50f1-40a6-f625-f316d1ea6100"
      },
      "id": "ay-nWMhVQbJp",
      "execution_count": 74,
      "outputs": [
        {
          "output_type": "stream",
          "name": "stdout",
          "text": [
            " 3 15 64 combined.txt\n"
          ]
        }
      ]
    },
    {
      "cell_type": "code",
      "source": [
        "cat combined.txt | sed ’s/ /\\t/g’ > combined.tsv"
      ],
      "metadata": {
        "colab": {
          "base_uri": "https://localhost:8080/"
        },
        "id": "44DfB9lpQh_c",
        "outputId": "1b41cf3a-8696-4913-9e3d-6c2edac5cc3d"
      },
      "id": "44DfB9lpQh_c",
      "execution_count": 75,
      "outputs": [
        {
          "output_type": "stream",
          "name": "stdout",
          "text": [
            "sed: -e expression #1, char 1: unknown command: `�'\n"
          ]
        }
      ]
    },
    {
      "cell_type": "code",
      "source": [
        "cat combined.tsv"
      ],
      "metadata": {
        "id": "Ad0RLIaEQmW8"
      },
      "id": "Ad0RLIaEQmW8",
      "execution_count": 76,
      "outputs": []
    },
    {
      "cell_type": "code",
      "source": [
        "!cut -f4 combined.tsv"
      ],
      "metadata": {
        "id": "GwnGAGsNQoUJ"
      },
      "id": "GwnGAGsNQoUJ",
      "execution_count": 78,
      "outputs": []
    },
    {
      "cell_type": "code",
      "source": [
        "!cut -f2,4 combined.tsv"
      ],
      "metadata": {
        "id": "HJKI9bD-Qreh"
      },
      "id": "HJKI9bD-Qreh",
      "execution_count": 79,
      "outputs": []
    },
    {
      "cell_type": "code",
      "source": [
        "!cut -f4 -d\" \" combined.txt"
      ],
      "metadata": {
        "colab": {
          "base_uri": "https://localhost:8080/"
        },
        "id": "4fTlH-AeQvfD",
        "outputId": "5a689820-659e-4c0b-ec01-d3b6abac3c3e"
      },
      "id": "4fTlH-AeQvfD",
      "execution_count": 80,
      "outputs": [
        {
          "output_type": "stream",
          "name": "stdout",
          "text": [
            "first\n",
            "second\n",
            "third\n"
          ]
        }
      ]
    },
    {
      "cell_type": "code",
      "source": [
        "!sort -k4 combined.tsv"
      ],
      "metadata": {
        "id": "uiqQPddYQzC5"
      },
      "id": "uiqQPddYQzC5",
      "execution_count": 82,
      "outputs": []
    },
    {
      "cell_type": "code",
      "source": [
        "!sort -k4 -r combined.tsv"
      ],
      "metadata": {
        "id": "Wf7eNO2DQ19Z"
      },
      "id": "Wf7eNO2DQ19Z",
      "execution_count": 83,
      "outputs": []
    },
    {
      "cell_type": "code",
      "source": [
        "!cut -f2 combined.tsv | sort | uniq"
      ],
      "metadata": {
        "id": "PzypZxWLQ5I3"
      },
      "id": "PzypZxWLQ5I3",
      "execution_count": 84,
      "outputs": []
    },
    {
      "cell_type": "code",
      "source": [
        "!cut -f2 combined.tsv | sort | uniq -c"
      ],
      "metadata": {
        "id": "1By9ZKCZQ71l"
      },
      "id": "1By9ZKCZQ71l",
      "execution_count": 85,
      "outputs": []
    },
    {
      "cell_type": "code",
      "source": [
        "!cut -f4 combined.tsv | sort | uniq -c"
      ],
      "metadata": {
        "id": "ZX7WDLIsQ-Ry"
      },
      "id": "ZX7WDLIsQ-Ry",
      "execution_count": 86,
      "outputs": []
    },
    {
      "cell_type": "markdown",
      "source": [
        "EXERCISE"
      ],
      "metadata": {
        "id": "WL12DGncRA8q"
      },
      "id": "WL12DGncRA8q"
    },
    {
      "cell_type": "code",
      "source": [
        "cat test_1.txt"
      ],
      "metadata": {
        "colab": {
          "base_uri": "https://localhost:8080/"
        },
        "id": "iVxtABjNP_hp",
        "outputId": "5aa14cbf-6cdc-41c2-d4c4-32c8a1d2c9e0"
      },
      "id": "iVxtABjNP_hp",
      "execution_count": 88,
      "outputs": [
        {
          "output_type": "stream",
          "name": "stdout",
          "text": [
            "This is a first test\n"
          ]
        }
      ]
    },
    {
      "cell_type": "code",
      "source": [
        "cat test_1.txt | sed 's/a/the/g' > test_1.txt_the"
      ],
      "metadata": {
        "id": "PoJnA6BmSBTz"
      },
      "id": "PoJnA6BmSBTz",
      "execution_count": 91,
      "outputs": []
    },
    {
      "cell_type": "code",
      "source": [
        "cat test_1.txt_the"
      ],
      "metadata": {
        "colab": {
          "base_uri": "https://localhost:8080/"
        },
        "id": "NXbPMC2oSH1Q",
        "outputId": "614fd817-414a-4e55-a757-23eb9076ad4d"
      },
      "id": "NXbPMC2oSH1Q",
      "execution_count": 93,
      "outputs": [
        {
          "output_type": "stream",
          "name": "stdout",
          "text": [
            "This is the first test\n"
          ]
        }
      ]
    },
    {
      "cell_type": "code",
      "source": [
        "for i in test_*.txt\n",
        "do\n",
        "    !echo $i\n",
        "    !cat $i | sed 's/a/the/g' > $i\"_the\"\n",
        "done\n"
      ],
      "metadata": {
        "colab": {
          "base_uri": "https://localhost:8080/",
          "height": 141
        },
        "id": "iTtgObekSU45",
        "outputId": "3fd59a65-94dd-4dea-9970-9c77eb37ffeb"
      },
      "id": "iTtgObekSU45",
      "execution_count": 101,
      "outputs": [
        {
          "output_type": "error",
          "ename": "SyntaxError",
          "evalue": "invalid syntax (<ipython-input-101-e986b8aabf9d>, line 1)",
          "traceback": [
            "\u001b[0;36m  File \u001b[0;32m\"<ipython-input-101-e986b8aabf9d>\"\u001b[0;36m, line \u001b[0;32m1\u001b[0m\n\u001b[0;31m    for i in test_*.txt\u001b[0m\n\u001b[0m                   ^\u001b[0m\n\u001b[0;31mSyntaxError\u001b[0m\u001b[0;31m:\u001b[0m invalid syntax\n"
          ]
        }
      ]
    },
    {
      "cell_type": "code",
      "execution_count": 92,
      "id": "3b5f67e7",
      "metadata": {
        "colab": {
          "base_uri": "https://localhost:8080/"
        },
        "id": "3b5f67e7",
        "outputId": "43cd006f-90ec-46cc-9bbb-41bff49375a0"
      },
      "outputs": [
        {
          "output_type": "stream",
          "name": "stdout",
          "text": [
            "combined.tsv  combined.txt  dir3  test_1.txt  test_1.txt_the  test_2.txt  test_3.txt\n"
          ]
        }
      ],
      "source": [
        "!ls"
      ]
    },
    {
      "cell_type": "code",
      "execution_count": null,
      "id": "6a952aa5",
      "metadata": {
        "id": "6a952aa5",
        "outputId": "6364660f-bd36-4dfd-c322-4b413aba42ce"
      },
      "outputs": [
        {
          "name": "stdout",
          "output_type": "stream",
          "text": [
            "total 35216\n",
            "-rw-rw-r--@ 1 jungyeul  staff  18023095 May  8 08:31 eng.txt\n",
            "-rw-r--r--@ 1 jungyeul  staff      1143 Sep  7 07:01 lab1.ipynb\n"
          ]
        }
      ],
      "source": [
        "!ls -l"
      ]
    },
    {
      "cell_type": "code",
      "execution_count": null,
      "id": "2de7df30",
      "metadata": {
        "id": "2de7df30"
      },
      "outputs": [],
      "source": [
        "!mkdir tempo"
      ]
    },
    {
      "cell_type": "code",
      "execution_count": null,
      "id": "8f038170",
      "metadata": {
        "id": "8f038170",
        "outputId": "cc7cfbf3-4556-40ae-a688-e71a6b0873c4"
      },
      "outputs": [
        {
          "name": "stdout",
          "output_type": "stream",
          "text": [
            "total 35216\n",
            "-rw-rw-r--@ 1 jungyeul  staff  18023095 May  8 08:31 eng.txt\n",
            "-rw-r--r--@ 1 jungyeul  staff      1143 Sep  7 07:01 lab1.ipynb\n",
            "drwxr-xr-x  2 jungyeul  staff        64 Sep  7 07:05 \u001b[34mtempo\u001b[m\u001b[m\n"
          ]
        }
      ],
      "source": [
        "!ls -l"
      ]
    },
    {
      "cell_type": "code",
      "execution_count": null,
      "id": "f770871a",
      "metadata": {
        "id": "f770871a"
      },
      "outputs": [],
      "source": []
    },
    {
      "cell_type": "code",
      "execution_count": null,
      "id": "4f07f5b8",
      "metadata": {
        "id": "4f07f5b8"
      },
      "outputs": [],
      "source": []
    },
    {
      "cell_type": "code",
      "execution_count": null,
      "id": "ace2acad",
      "metadata": {
        "id": "ace2acad"
      },
      "outputs": [],
      "source": []
    },
    {
      "cell_type": "code",
      "execution_count": null,
      "id": "d4420c69",
      "metadata": {
        "id": "d4420c69"
      },
      "outputs": [],
      "source": []
    },
    {
      "cell_type": "code",
      "execution_count": null,
      "id": "1d225248",
      "metadata": {
        "id": "1d225248"
      },
      "outputs": [],
      "source": []
    },
    {
      "cell_type": "markdown",
      "id": "ec6974a9",
      "metadata": {
        "id": "ec6974a9"
      },
      "source": [
        "Run following commands:\n",
        "```\n",
        "$  wget https://raw.githubusercontent.com/unimorph/eng/master/eng\n",
        "$  file eng\n",
        "$  cut -f1 eng | sort | uniq -c  \n",
        "```"
      ]
    },
    {
      "cell_type": "markdown",
      "id": "ba4b537f",
      "metadata": {
        "id": "ba4b537f"
      },
      "source": []
    }
  ],
  "metadata": {
    "kernelspec": {
      "display_name": "Python 3.8.9 64-bit",
      "language": "python",
      "name": "python3"
    },
    "language_info": {
      "codemirror_mode": {
        "name": "ipython",
        "version": 3
      },
      "file_extension": ".py",
      "mimetype": "text/x-python",
      "name": "python",
      "nbconvert_exporter": "python",
      "pygments_lexer": "ipython3",
      "version": "3.8.9"
    },
    "vscode": {
      "interpreter": {
        "hash": "20bf69066c0dd38d51965b69d5e1b6e387082e3198ba56e97997ac55f4e50ad0"
      }
    },
    "colab": {
      "provenance": []
    }
  },
  "nbformat": 4,
  "nbformat_minor": 5
}