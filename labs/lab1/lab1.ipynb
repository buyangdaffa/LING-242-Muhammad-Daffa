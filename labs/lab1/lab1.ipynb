{
  "cells": [
    {
      "cell_type": "markdown",
      "id": "c6dc4453",
      "metadata": {
        "id": "c6dc4453"
      },
      "source": [
        "Complete your lab 1 (6 pts) according to your Lab 1 slides and submit this file (`lab1.ipynb`) to Canvas (Due Sep 27, 2022)\n",
        "\n",
        "Note that this ipynb provides only partial commands described in Lab slides. You should complete all commands in Lab slides in this notebook."
      ]
    },
    {
      "cell_type": "markdown",
      "id": "8e695af4",
      "metadata": {
        "id": "8e695af4"
      },
      "source": [
        "# 1. Linguistic analysis"
      ]
    },
    {
      "cell_type": "markdown",
      "id": "ced5eaa8",
      "metadata": {
        "id": "ced5eaa8"
      },
      "source": [
        "- specify `en_ewt-ud-dev-ling-result.txt` path to show the result\n",
        "- not required to submit `en_ewt-ud-dev-ling-result.txt`\n"
      ]
    },
    {
      "cell_type": "code",
      "execution_count": 1,
      "id": "d3049612",
      "metadata": {
        "colab": {
          "base_uri": "https://localhost:8080/"
        },
        "id": "d3049612",
        "outputId": "dda70a94-72fd-464c-dbd7-ed47de4366ae"
      },
      "outputs": [
        {
          "output_type": "stream",
          "name": "stdout",
          "text": [
            "From the AP comes this story : \n",
            "\n",
            "President Bush on Tuesday nominated two individuals to replace retiring jurists\n",
            "on federal courts in the Washington area . Bush nominated Jennifer M. Anderson\n",
            "for a 15-year term as associate judge of the Superior Court of the District of\n",
            "Columbia , replacing Steffen W. Graae . *** Bush also nominated A. Noel Anketell\n",
            "Kramer for a 15-year term as associate judge of the District of Columbia Court\n",
            "of Appeals , replacing John Montague Steadman . \n",
            "\n",
            "The sheikh in wheel-chair has been attacked with a F-16-launched bomb . He could\n",
            "be killed years ago and the israelians have all the reasons , since he founded\n",
            "and he is the spiritual leader of Hamas , but they did n't. Today's incident\n",
            "proves that Sharon has lost his patience and his hope in peace . \n"
          ]
        }
      ],
      "source": [
        "!cat en_ewt-ud-dev-ling-result.txt"
      ]
    },
    {
      "cell_type": "markdown",
      "id": "9c7caf4a",
      "metadata": {
        "id": "9c7caf4a"
      },
      "source": [
        "# 2. Tokenization"
      ]
    },
    {
      "cell_type": "code",
      "source": [
        "!head en_ewt-ud-dev.txt"
      ],
      "metadata": {
        "colab": {
          "base_uri": "https://localhost:8080/"
        },
        "id": "VSe8nBPqEhwb",
        "outputId": "c0558443-a1a6-470a-b53c-a546a5293e34"
      },
      "id": "VSe8nBPqEhwb",
      "execution_count": 2,
      "outputs": [
        {
          "output_type": "stream",
          "name": "stdout",
          "text": [
            "From the AP comes this story : \n",
            "\n",
            "President Bush on Tuesday nominated two individuals to replace retiring jurists\n",
            "on federal courts in the Washington area. Bush nominated Jennifer M. Anderson\n",
            "for a 15-year term as associate judge of the Superior Court of the District of\n",
            "Columbia, replacing Steffen W. Graae. *** Bush also nominated A. Noel Anketell\n",
            "Kramer for a 15-year term as associate judge of the District of Columbia Court\n",
            "of Appeals, replacing John Montague Steadman. \n",
            "\n",
            "The sheikh in wheel-chair has been attacked with a F-16-launched bomb. He could\n"
          ]
        }
      ]
    },
    {
      "cell_type": "code",
      "source": [
        "!head en_ewt-ud-dev-alt.txt"
      ],
      "metadata": {
        "colab": {
          "base_uri": "https://localhost:8080/"
        },
        "id": "TAtUZbk_EqRf",
        "outputId": "56b2485b-b879-48e3-d0cb-d04f3f8d43fa"
      },
      "id": "TAtUZbk_EqRf",
      "execution_count": 3,
      "outputs": [
        {
          "output_type": "stream",
          "name": "stdout",
          "text": [
            "From the AP comes this story : \n",
            "President Bush on Tuesday nominated two individuals to replace retiring jurists on federal courts in the Washington area. Bush nominated Jennifer M. Anderson for a 15-year term as associate judge of the Superior Court of the District of Columbia, replacing Steffen W. Graae. *** Bush also nominated A. Noel Anketell Kramer for a 15-year term as associate judge of the District of Columbia Court of Appeals, replacing John Montague Steadman. \n",
            "The sheikh in wheel-chair has been attacked with a F-16-launched bomb. He could be killed years ago and the israelians have all the reasons, since he founded and he is the spiritual leader of Hamas, but they didn't. Today's incident proves that Sharon has lost his patience and his hope in peace. \n"
          ]
        }
      ]
    },
    {
      "cell_type": "code",
      "execution_count": 4,
      "id": "informal-aquatic",
      "metadata": {
        "scrolled": true,
        "colab": {
          "base_uri": "https://localhost:8080/"
        },
        "id": "informal-aquatic",
        "outputId": "17b7cb4e-cbe1-4c1f-b8f0-db1fa6545f92"
      },
      "outputs": [
        {
          "output_type": "stream",
          "name": "stdout",
          "text": [
            "--2024-01-19 19:41:01--  ftp://ftp.cis.upenn.edu/pub/treebank/public_html/tokenizer.sed\n",
            "           => ‘tokenizer.sed.6’\n",
            "Resolving ftp.cis.upenn.edu (ftp.cis.upenn.edu)... 158.130.97.4\n",
            "Connecting to ftp.cis.upenn.edu (ftp.cis.upenn.edu)|158.130.97.4|:21... connected.\n",
            "Logging in as anonymous ... Logged in!\n",
            "==> SYST ... done.    ==> PWD ... done.\n",
            "==> TYPE I ... done.  ==> CWD (1) /pub/treebank/public_html ... done.\n",
            "==> SIZE tokenizer.sed ... 2204\n",
            "==> PASV ... done.    ==> RETR tokenizer.sed ... done.\n",
            "Length: 2204 (2.2K) (unauthoritative)\n",
            "\n",
            "tokenizer.sed.6     100%[===================>]   2.15K  --.-KB/s    in 0s      \n",
            "\n",
            "2024-01-19 19:41:02 (306 MB/s) - ‘tokenizer.sed.6’ saved [2204]\n",
            "\n"
          ]
        }
      ],
      "source": [
        "!wget ftp://ftp.cis.upenn.edu/pub/treebank/public_html/tokenizer.sed"
      ]
    },
    {
      "cell_type": "code",
      "execution_count": 5,
      "id": "indoor-fault",
      "metadata": {
        "colab": {
          "base_uri": "https://localhost:8080/"
        },
        "id": "indoor-fault",
        "outputId": "0c94bd92-525a-4879-ca86-6572703d9967"
      },
      "outputs": [
        {
          "output_type": "stream",
          "name": "stdout",
          "text": [
            "-rwxr-xr-x 1 root root 2204 Jan 19 18:40 tokenizer.sed\n"
          ]
        }
      ],
      "source": [
        "!ls -l tokenizer.sed"
      ]
    },
    {
      "cell_type": "code",
      "execution_count": 6,
      "id": "communist-viewer",
      "metadata": {
        "id": "communist-viewer"
      },
      "outputs": [],
      "source": [
        "!chmod 755 tokenizer.sed"
      ]
    },
    {
      "cell_type": "code",
      "source": [
        "!head -n 1 tokenizer.sed"
      ],
      "metadata": {
        "colab": {
          "base_uri": "https://localhost:8080/"
        },
        "id": "9m29WPkQF5EP",
        "outputId": "d6fc89cf-b51b-487c-84d9-0d27614d9864"
      },
      "id": "9m29WPkQF5EP",
      "execution_count": 7,
      "outputs": [
        {
          "output_type": "stream",
          "name": "stdout",
          "text": [
            "#!/bin/sed -f\n"
          ]
        }
      ]
    },
    {
      "cell_type": "code",
      "execution_count": 8,
      "id": "fluid-mercury",
      "metadata": {
        "colab": {
          "base_uri": "https://localhost:8080/"
        },
        "id": "fluid-mercury",
        "outputId": "2624faa7-78e4-4fb5-f344-4157ee11394b"
      },
      "outputs": [
        {
          "output_type": "stream",
          "name": "stdout",
          "text": [
            "4 -rwxr-xr-x 1 root root 2204 Jan 19 18:40 tokenizer.sed\n"
          ]
        }
      ],
      "source": [
        "!ls -ls tokenizer.sed"
      ]
    },
    {
      "cell_type": "code",
      "execution_count": 9,
      "id": "forced-diesel",
      "metadata": {
        "colab": {
          "base_uri": "https://localhost:8080/"
        },
        "id": "forced-diesel",
        "outputId": "32325888-ab6a-4e03-8db3-e0a392a13b10"
      },
      "outputs": [
        {
          "output_type": "stream",
          "name": "stdout",
          "text": [
            "From the AP comes this story : \n",
            "\n",
            "President Bush on Tuesday nominated two individuals to replace retiring jurists \n",
            "on federal courts in the Washington area. Bush nominated Jennifer M. Anderson \n",
            "for a 15-year term as associate judge of the Superior Court of the District of \n",
            "Columbia , replacing Steffen W. Graae. *** Bush also nominated A. Noel Anketell \n",
            "Kramer for a 15-year term as associate judge of the District of Columbia Court \n",
            "of Appeals , replacing John Montague Steadman . \n",
            "\n",
            "The sheikh in wheel-chair has been attacked with a F-16-launched bomb. He could \n"
          ]
        }
      ],
      "source": [
        "!./tokenizer.sed en_ewt-ud-dev.txt | head"
      ]
    },
    {
      "cell_type": "code",
      "execution_count": 10,
      "id": "packed-belfast",
      "metadata": {
        "colab": {
          "base_uri": "https://localhost:8080/"
        },
        "id": "packed-belfast",
        "outputId": "7fd1053e-25ab-40f5-d207-07edb3cd28f4"
      },
      "outputs": [
        {
          "output_type": "stream",
          "name": "stdout",
          "text": [
            "/usr/bin/sed\n"
          ]
        }
      ],
      "source": [
        "!which sed"
      ]
    },
    {
      "cell_type": "code",
      "execution_count": 11,
      "id": "crucial-manner",
      "metadata": {
        "id": "crucial-manner"
      },
      "outputs": [],
      "source": [
        "!cat tokenizer.sed | sed 's/\\/bin\\/sed/\\/usr\\/bin\\/sed/g' > tokenizer_corrected.sed"
      ]
    },
    {
      "cell_type": "code",
      "execution_count": 12,
      "id": "frozen-brooklyn",
      "metadata": {
        "colab": {
          "base_uri": "https://localhost:8080/"
        },
        "id": "frozen-brooklyn",
        "outputId": "024598f2-eae2-4b35-e259-52617cf1c906"
      },
      "outputs": [
        {
          "output_type": "stream",
          "name": "stdout",
          "text": [
            "4 -rw-r--r-- 1 root root 2208 Jan 19 19:41 tokenizer_corrected.sed\n"
          ]
        }
      ],
      "source": [
        "!ls -ls tokenizer_corrected.sed"
      ]
    },
    {
      "cell_type": "code",
      "execution_count": 13,
      "id": "expired-ladder",
      "metadata": {
        "colab": {
          "base_uri": "https://localhost:8080/"
        },
        "id": "expired-ladder",
        "outputId": "e885c6c9-f95c-4a2d-b2c6-60696c5142df"
      },
      "outputs": [
        {
          "output_type": "stream",
          "name": "stdout",
          "text": [
            "/bin/bash: line 1: ./tokenizer_corrected.sed: Permission denied\n"
          ]
        }
      ],
      "source": [
        "!./tokenizer_corrected.sed en_ewt-ud-dev.txt > en_ewt-ud-dev.txt.tokenized_sed"
      ]
    },
    {
      "cell_type": "code",
      "execution_count": 14,
      "id": "posted-pizza",
      "metadata": {
        "id": "posted-pizza"
      },
      "outputs": [],
      "source": [
        "!head en_ewt-ud-dev.txt.tokenized_sed"
      ]
    },
    {
      "cell_type": "code",
      "execution_count": 15,
      "id": "worth-carpet",
      "metadata": {
        "colab": {
          "base_uri": "https://localhost:8080/"
        },
        "id": "worth-carpet",
        "outputId": "137c2b01-5ef3-45c0-82fa-221dedceaae3"
      },
      "outputs": [
        {
          "output_type": "stream",
          "name": "stdout",
          "text": [
            "--2024-01-19 19:41:03--  https://www.statmt.org/wmt09/scripts.tgz\n",
            "Resolving www.statmt.org (www.statmt.org)... 129.215.32.28\n",
            "Connecting to www.statmt.org (www.statmt.org)|129.215.32.28|:443... connected.\n",
            "HTTP request sent, awaiting response... 200 OK\n",
            "Length: 4927 (4.8K) [application/x-gzip]\n",
            "Saving to: ‘scripts.tgz.4’\n",
            "\n",
            "scripts.tgz.4       100%[===================>]   4.81K  --.-KB/s    in 0s      \n",
            "\n",
            "2024-01-19 19:41:04 (2.49 GB/s) - ‘scripts.tgz.4’ saved [4927/4927]\n",
            "\n"
          ]
        }
      ],
      "source": [
        "!wget https://www.statmt.org/wmt09/scripts.tgz"
      ]
    },
    {
      "cell_type": "code",
      "execution_count": 16,
      "id": "convertible-messaging",
      "metadata": {
        "colab": {
          "base_uri": "https://localhost:8080/"
        },
        "id": "convertible-messaging",
        "outputId": "265f1f26-a3e5-4962-df61-6fb5de5cc89e"
      },
      "outputs": [
        {
          "output_type": "stream",
          "name": "stdout",
          "text": [
            "scripts/\n",
            "scripts/detokenizer.perl\n",
            "scripts/wrap-xml.perl\n",
            "scripts/lowercase.perl\n",
            "scripts/tokenizer.perl\n",
            "scripts/reuse-weights.perl\n",
            "scripts/nonbreaking_prefixes/\n",
            "scripts/nonbreaking_prefixes/nonbreaking_prefix.de\n",
            "scripts/nonbreaking_prefixes/nonbreaking_prefix.en\n",
            "scripts/nonbreaking_prefixes/nonbreaking_prefix.el\n"
          ]
        }
      ],
      "source": [
        "!tar xvfz scripts.tgz"
      ]
    },
    {
      "cell_type": "code",
      "source": [
        "!ls -l scripts/tokenizer.perl"
      ],
      "metadata": {
        "colab": {
          "base_uri": "https://localhost:8080/"
        },
        "id": "YOvFvr0_Jkk8",
        "outputId": "a3fbff3e-724d-4feb-c28b-aac8e0074d82"
      },
      "id": "YOvFvr0_Jkk8",
      "execution_count": 17,
      "outputs": [
        {
          "output_type": "stream",
          "name": "stdout",
          "text": [
            "-rwxr-xr-x 1 309948 10000 4207 Sep 27  2007 scripts/tokenizer.perl\n"
          ]
        }
      ]
    },
    {
      "cell_type": "code",
      "execution_count": 18,
      "id": "finished-seller",
      "metadata": {
        "colab": {
          "base_uri": "https://localhost:8080/"
        },
        "id": "finished-seller",
        "outputId": "9d2dfdb4-8ac1-4d6e-8731-ac71a3f9aa6b"
      },
      "outputs": [
        {
          "output_type": "stream",
          "name": "stdout",
          "text": [
            "Tokenizer v3\n",
            "Language: en\n"
          ]
        }
      ],
      "source": [
        "!./scripts/tokenizer.perl -l en < en_ewt-ud-dev.txt > en_ewt-ud-dev.txt.tokenized_moses"
      ]
    },
    {
      "cell_type": "code",
      "execution_count": 19,
      "id": "suspended-intermediate",
      "metadata": {
        "colab": {
          "base_uri": "https://localhost:8080/"
        },
        "id": "suspended-intermediate",
        "outputId": "d8b12862-1523-4921-f332-0f51f5dad030"
      },
      "outputs": [
        {
          "output_type": "stream",
          "name": "stdout",
          "text": [
            "From the AP comes this story :\n",
            "\n",
            "President Bush on Tuesday nominated two individuals to replace retiring jurists\n",
            "on federal courts in the Washington area . Bush nominated Jennifer M. Anderson\n",
            "for a 15-year term as associate judge of the Superior Court of the District of\n",
            "Columbia , replacing Steffen W. Graae . * * * Bush also nominated A. Noel Anketell\n",
            "Kramer for a 15-year term as associate judge of the District of Columbia Court\n",
            "of Appeals , replacing John Montague Steadman .\n",
            "\n",
            "The sheikh in wheel-chair has been attacked with a F-16-launched bomb . He could\n"
          ]
        }
      ],
      "source": [
        "!head en_ewt-ud-dev.txt.tokenized_moses"
      ]
    },
    {
      "cell_type": "markdown",
      "id": "f6b4e8d0",
      "metadata": {
        "id": "f6b4e8d0"
      },
      "source": [
        "Describe why `en_ewt-ud-dev.txt.tokenized_moses` (based on `en_ewt-ud-dev.txt`) results are so bad."
      ]
    },
    {
      "cell_type": "code",
      "execution_count": 20,
      "id": "separated-vulnerability",
      "metadata": {
        "colab": {
          "base_uri": "https://localhost:8080/"
        },
        "id": "separated-vulnerability",
        "outputId": "71ac4133-90fc-4059-813e-8545e05b1ce8"
      },
      "outputs": [
        {
          "output_type": "stream",
          "name": "stdout",
          "text": [
            "Usage: java [options] <mainclass> [args...]\n",
            "           (to execute a class)\n",
            "   or  java [options] -jar <jarfile> [args...]\n",
            "           (to execute a jar file)\n",
            "   or  java [options] -m <module>[/<mainclass>] [args...]\n",
            "       java [options] --module <module>[/<mainclass>] [args...]\n",
            "           (to execute the main class in a module)\n",
            "   or  java [options] <sourcefile> [args]\n",
            "           (to execute a single source-file program)\n",
            "\n",
            " Arguments following the main class, source file, -jar <jarfile>,\n",
            " -m or --module <module>/<mainclass> are passed as the arguments to\n",
            " main class.\n",
            "\n",
            " where options include:\n",
            "\n",
            "    -zero\t  to select the \"zero\" VM\n",
            "    -dcevm\t  to select the \"dcevm\" VM\n",
            "    -cp <class search path of directories and zip/jar files>\n",
            "    -classpath <class search path of directories and zip/jar files>\n",
            "    --class-path <class search path of directories and zip/jar files>\n",
            "                  A : separated list of directories, JAR archives,\n",
            "                  and ZIP archives to search for class files.\n",
            "    -p <module path>\n",
            "    --module-path <module path>...\n",
            "                  A : separated list of directories, each directory\n",
            "                  is a directory of modules.\n",
            "    --upgrade-module-path <module path>...\n",
            "                  A : separated list of directories, each directory\n",
            "                  is a directory of modules that replace upgradeable\n",
            "                  modules in the runtime image\n",
            "    --add-modules <module name>[,<module name>...]\n",
            "                  root modules to resolve in addition to the initial module.\n",
            "                  <module name> can also be ALL-DEFAULT, ALL-SYSTEM,\n",
            "                  ALL-MODULE-PATH.\n",
            "    --list-modules\n",
            "                  list observable modules and exit\n",
            "    -d <module name>\n",
            "    --describe-module <module name>\n",
            "                  describe a module and exit\n",
            "    --dry-run     create VM and load main class but do not execute main method.\n",
            "                  The --dry-run option may be useful for validating the\n",
            "                  command-line options such as the module system configuration.\n",
            "    --validate-modules\n",
            "                  validate all modules and exit\n",
            "                  The --validate-modules option may be useful for finding\n",
            "                  conflicts and other errors with modules on the module path.\n",
            "    -D<name>=<value>\n",
            "                  set a system property\n",
            "    -verbose:[class|module|gc|jni]\n",
            "                  enable verbose output\n",
            "    -version      print product version to the error stream and exit\n",
            "    --version     print product version to the output stream and exit\n",
            "    -showversion  print product version to the error stream and continue\n",
            "    --show-version\n",
            "                  print product version to the output stream and continue\n",
            "    --show-module-resolution\n",
            "                  show module resolution output during startup\n",
            "    -? -h -help\n",
            "                  print this help message to the error stream\n",
            "    --help        print this help message to the output stream\n",
            "    -X            print help on extra options to the error stream\n",
            "    --help-extra  print help on extra options to the output stream\n",
            "    -ea[:<packagename>...|:<classname>]\n",
            "    -enableassertions[:<packagename>...|:<classname>]\n",
            "                  enable assertions with specified granularity\n",
            "    -da[:<packagename>...|:<classname>]\n",
            "    -disableassertions[:<packagename>...|:<classname>]\n",
            "                  disable assertions with specified granularity\n",
            "    -esa | -enablesystemassertions\n",
            "                  enable system assertions\n",
            "    -dsa | -disablesystemassertions\n",
            "                  disable system assertions\n",
            "    -agentlib:<libname>[=<options>]\n",
            "                  load native agent library <libname>, e.g. -agentlib:jdwp\n",
            "                  see also -agentlib:jdwp=help\n",
            "    -agentpath:<pathname>[=<options>]\n",
            "                  load native agent library by full pathname\n",
            "    -javaagent:<jarpath>[=<options>]\n",
            "                  load Java programming language agent, see java.lang.instrument\n",
            "    -splash:<imagepath>\n",
            "                  show splash screen with specified image\n",
            "                  HiDPI scaled images are automatically supported and used\n",
            "                  if available. The unscaled image filename, e.g. image.ext,\n",
            "                  should always be passed as the argument to the -splash option.\n",
            "                  The most appropriate scaled image provided will be picked up\n",
            "                  automatically.\n",
            "                  See the SplashScreen API documentation for more information\n",
            "    @argument files\n",
            "                  one or more argument files containing options\n",
            "    -disable-@files\n",
            "                  prevent further argument file expansion\n",
            "    --enable-preview\n",
            "                  allow classes to depend on preview features of this release\n",
            "To specify an argument for a long option, you can use --<name>=<value> or\n",
            "--<name> <value>.\n",
            "\n"
          ]
        }
      ],
      "source": [
        "!java"
      ]
    },
    {
      "cell_type": "code",
      "execution_count": 21,
      "id": "nominated-creator",
      "metadata": {
        "colab": {
          "base_uri": "https://localhost:8080/"
        },
        "id": "nominated-creator",
        "outputId": "948a5f36-475b-47b4-fae0-f11412608b7f"
      },
      "outputs": [
        {
          "output_type": "stream",
          "name": "stdout",
          "text": [
            "/bin/bash: line 1: cd: stanford-corenlp-4.2.2/: No such file or directory\n"
          ]
        }
      ],
      "source": [
        "!cd stanford-corenlp-4.2.2/"
      ]
    },
    {
      "cell_type": "code",
      "execution_count": 22,
      "id": "refined-sunset",
      "metadata": {
        "colab": {
          "base_uri": "https://localhost:8080/"
        },
        "id": "refined-sunset",
        "outputId": "7551da2e-7e0c-4d86-ece0-242d6edf01ff"
      },
      "outputs": [
        {
          "output_type": "stream",
          "name": "stdout",
          "text": [
            "/content\n"
          ]
        }
      ],
      "source": [
        "!pwd"
      ]
    },
    {
      "cell_type": "code",
      "execution_count": 23,
      "id": "minute-bathroom",
      "metadata": {
        "scrolled": true,
        "colab": {
          "base_uri": "https://localhost:8080/"
        },
        "id": "minute-bathroom",
        "outputId": "fe04544a-db20-4d94-92ae-bc1ab3fa9505"
      },
      "outputs": [
        {
          "output_type": "stream",
          "name": "stdout",
          "text": [
            "/bin/bash: line 1: ./stanford-corenlp-4.2.2/corenlp.sh: No such file or directory\n"
          ]
        }
      ],
      "source": [
        "!./stanford-corenlp-4.2.2/corenlp.sh -annotators tokenize -file en_ewt-ud-dev-corrected.txt"
      ]
    },
    {
      "cell_type": "markdown",
      "id": "7d6e3b8a",
      "metadata": {
        "id": "7d6e3b8a"
      },
      "source": [
        "Show CoreNLP's tokenization results, and rename CoreNLP's tokenization result into `en_ewt-ud-dev.txt.tokenized_corenlp`\n",
        "\n",
        "```\n",
        "!cat en_ewt-ud-dev-corrected.txt.out| grep \"^\\[Text=\" | cut -f1 -d\" \" | sed 's/\\[Text=//g' | tr '\\012' \" \" > en_ewt-ud-dev.txt.tokenized_corenlp\n",
        "```"
      ]
    },
    {
      "cell_type": "code",
      "execution_count": 23,
      "id": "exotic-spare",
      "metadata": {
        "id": "exotic-spare"
      },
      "outputs": [],
      "source": []
    },
    {
      "cell_type": "markdown",
      "id": "438d8f46",
      "metadata": {
        "id": "438d8f46"
      },
      "source": [
        "# 3. SBD"
      ]
    },
    {
      "cell_type": "markdown",
      "id": "a5168810",
      "metadata": {
        "id": "a5168810"
      },
      "source": []
    },
    {
      "cell_type": "code",
      "execution_count": 24,
      "id": "contemporary-failing",
      "metadata": {
        "colab": {
          "base_uri": "https://localhost:8080/"
        },
        "id": "contemporary-failing",
        "outputId": "c68492d0-d828-44cf-c186-dfbf2b9f417e"
      },
      "outputs": [
        {
          "output_type": "stream",
          "name": "stdout",
          "text": [
            "==> en_ewt-ud-dev.txt.tokenized_moses <==\n",
            "From the AP comes this story :\n",
            "\n",
            "President Bush on Tuesday nominated two individuals to replace retiring jurists\n",
            "on federal courts in the Washington area . Bush nominated Jennifer M. Anderson\n",
            "for a 15-year term as associate judge of the Superior Court of the District of\n",
            "\n",
            "==> en_ewt-ud-dev.txt.tokenized_sed <==\n"
          ]
        }
      ],
      "source": [
        "!head -n 5 en_ewt-ud-dev.txt.tokenized_*"
      ]
    },
    {
      "cell_type": "code",
      "execution_count": 25,
      "id": "early-tiger",
      "metadata": {
        "colab": {
          "base_uri": "https://localhost:8080/"
        },
        "id": "early-tiger",
        "outputId": "6c7cd5f2-66b7-4dda-f659-3ef4a179429c"
      },
      "outputs": [
        {
          "output_type": "stream",
          "name": "stdout",
          "text": [
            "--2024-01-19 19:41:05--  https://files.pythonhosted.org/packages/cf/d2/9771eb65f1dc3925dbcfc7c4b2adaefa38e1549e4e4e75409df316f8c453/splitta-0.1.0.tar.gz\n",
            "Resolving files.pythonhosted.org (files.pythonhosted.org)... 199.232.96.223, 2a04:4e42:58::223\n",
            "Connecting to files.pythonhosted.org (files.pythonhosted.org)|199.232.96.223|:443... connected.\n",
            "HTTP request sent, awaiting response... 200 OK\n",
            "Length: 6943603 (6.6M) [application/octet-stream]\n",
            "Saving to: ‘splitta-0.1.0.tar.gz.3’\n",
            "\n",
            "splitta-0.1.0.tar.g 100%[===================>]   6.62M  23.5MB/s    in 0.3s    \n",
            "\n",
            "2024-01-19 19:41:05 (23.5 MB/s) - ‘splitta-0.1.0.tar.gz.3’ saved [6943603/6943603]\n",
            "\n"
          ]
        }
      ],
      "source": [
        "!wget https://files.pythonhosted.org/packages/cf/d2/9771eb65f1dc3925dbcfc7c4b2adaefa38e1549e4e4e75409df316f8c453/splitta-0.1.0.tar.gz"
      ]
    },
    {
      "cell_type": "code",
      "source": [
        "!tar xvfz splitta-0.1.0b.tar.gz"
      ],
      "metadata": {
        "colab": {
          "base_uri": "https://localhost:8080/"
        },
        "id": "I4UUvMKBGv-c",
        "outputId": "14b847ea-4914-4456-8fa1-d1e1ad62f8f5"
      },
      "id": "I4UUvMKBGv-c",
      "execution_count": 26,
      "outputs": [
        {
          "output_type": "stream",
          "name": "stdout",
          "text": [
            "splitta-0.1.0b/\n",
            "splitta-0.1.0b/PKG-INFO\n",
            "splitta-0.1.0b/splitta/\n",
            "splitta-0.1.0b/MANIFEST.in\n",
            "splitta-0.1.0b/setup.py\n",
            "splitta-0.1.0b/splitta.egg-info/\n",
            "splitta-0.1.0b/setup.cfg\n",
            "splitta-0.1.0b/README.rst\n",
            "splitta-0.1.0b/splitta.egg-info/PKG-INFO\n",
            "splitta-0.1.0b/splitta.egg-info/SOURCES.txt\n",
            "splitta-0.1.0b/splitta.egg-info/top_level.txt\n",
            "splitta-0.1.0b/splitta.egg-info/dependency_links.txt\n",
            "splitta-0.1.0b/splitta/sbd_util.py\n",
            "splitta-0.1.0b/splitta/model_svm/\n",
            "splitta-0.1.0b/splitta/__init__.py\n",
            "splitta-0.1.0b/splitta/sbd.py\n",
            "splitta-0.1.0b/splitta/model_nb/\n",
            "splitta-0.1.0b/splitta/word_tokenize.py\n",
            "splitta-0.1.0b/splitta/model_nb/feats\n",
            "splitta-0.1.0b/splitta/model_nb/non_abbrs\n",
            "splitta-0.1.0b/splitta/model_nb/lower_words\n",
            "splitta-0.1.0b/splitta/model_svm/feats\n",
            "splitta-0.1.0b/splitta/model_svm/sbd.py\n",
            "splitta-0.1.0b/splitta/model_svm/non_abbrs\n",
            "splitta-0.1.0b/splitta/model_svm/svm_model\n",
            "splitta-0.1.0b/splitta/model_svm/lower_words\n",
            "splitta-0.1.0b/splitta/model_svm/sample.txt\n"
          ]
        }
      ]
    },
    {
      "cell_type": "code",
      "source": [
        "cd splitta-0.1.0b"
      ],
      "metadata": {
        "colab": {
          "base_uri": "https://localhost:8080/"
        },
        "id": "4yGLmgwiG0xz",
        "outputId": "6778fe7b-4fc6-4345-b01a-0592f44e26e5"
      },
      "id": "4yGLmgwiG0xz",
      "execution_count": 27,
      "outputs": [
        {
          "output_type": "stream",
          "name": "stdout",
          "text": [
            "/content/splitta-0.1.0b\n"
          ]
        }
      ]
    },
    {
      "cell_type": "code",
      "source": [
        "!python3 ./splitta/sbd.py"
      ],
      "metadata": {
        "colab": {
          "base_uri": "https://localhost:8080/"
        },
        "id": "QfNDIORzL3Tj",
        "outputId": "b0282d52-b904-4d5e-84fd-d3a4d55e7910"
      },
      "id": "QfNDIORzL3Tj",
      "execution_count": 28,
      "outputs": [
        {
          "output_type": "stream",
          "name": "stdout",
          "text": [
            "\n",
            " E R R O R :   y o u   d i d   n o t   s p e c i f y   e i t h e r   t r a i n   o r   t e s t !\n"
          ]
        }
      ]
    },
    {
      "cell_type": "code",
      "source": [
        "!python3 ./splitta/sbd.py --help"
      ],
      "metadata": {
        "colab": {
          "base_uri": "https://localhost:8080/"
        },
        "id": "tgKrs2e2OqD4",
        "outputId": "97c55352-120a-4652-b46f-7ceeb316c656"
      },
      "id": "tgKrs2e2OqD4",
      "execution_count": 29,
      "outputs": [
        {
          "output_type": "stream",
          "name": "stdout",
          "text": [
            "Usage: sbd.py [options] <text_file>\n",
            "\n",
            "Options:\n",
            "  -h, --help            show this help message and exit\n",
            "  -v, --verbose         verbose output\n",
            "  -t, --tokenize        write tokenized output\n",
            "  -m MODEL_PATH, --model=MODEL_PATH\n",
            "                        model path\n",
            "  -o OUTPUT, --output=OUTPUT\n",
            "                        write sentences to this file\n",
            "  -x TRAIN, --train=TRAIN\n",
            "                        train a new model using this labeled data file\n",
            "  -c, --svm             use SVM instead of Naive Bayes for training\n"
          ]
        }
      ]
    },
    {
      "cell_type": "code",
      "source": [
        "!python3 ./splitta/sby.py -m ./splitta/model_svm ../en_ewt-ud-dev.txt"
      ],
      "metadata": {
        "colab": {
          "base_uri": "https://localhost:8080/"
        },
        "id": "B9X98eooO0MU",
        "outputId": "92299eb6-8f40-4f8d-d561-6c7d71905849"
      },
      "id": "B9X98eooO0MU",
      "execution_count": 41,
      "outputs": [
        {
          "output_type": "stream",
          "name": "stdout",
          "text": [
            "python3: can't open file '/content/splitta-0.1.0b/./splitta/sby.py': [Errno 2] No such file or directory\n"
          ]
        }
      ]
    },
    {
      "cell_type": "code",
      "execution_count": 42,
      "id": "perfect-sunrise",
      "metadata": {
        "colab": {
          "base_uri": "https://localhost:8080/"
        },
        "id": "perfect-sunrise",
        "outputId": "6dc13af9-ebd6-42bf-b12d-fff36f28fab7"
      },
      "outputs": [
        {
          "output_type": "stream",
          "name": "stdout",
          "text": [
            "--2024-01-19 19:47:13--  http://download.joachims.org/svm_light/current/svm_light.tar.gz\n",
            "Resolving download.joachims.org (download.joachims.org)... 185.3.235.176\n",
            "Connecting to download.joachims.org (download.joachims.org)|185.3.235.176|:80... connected.\n",
            "HTTP request sent, awaiting response... ^C\n"
          ]
        }
      ],
      "source": [
        "!wget http://download.joachims.org/svm_light/current/svm_light.tar.gz"
      ]
    },
    {
      "cell_type": "code",
      "source": [
        "!tar xvfz svm_light.tar.gz"
      ],
      "metadata": {
        "colab": {
          "base_uri": "https://localhost:8080/"
        },
        "id": "eUIRcHPfHipo",
        "outputId": "b298d12e-505f-4f89-b935-c6dd7981c28f"
      },
      "id": "eUIRcHPfHipo",
      "execution_count": 43,
      "outputs": [
        {
          "output_type": "stream",
          "name": "stdout",
          "text": [
            "tar (child): svm_light.tar.gz: Cannot open: No such file or directory\n",
            "tar (child): Error is not recoverable: exiting now\n",
            "tar: Child returned status 2\n",
            "tar: Error is not recoverable: exiting now\n"
          ]
        }
      ]
    },
    {
      "cell_type": "code",
      "execution_count": 44,
      "id": "earlier-style",
      "metadata": {
        "colab": {
          "base_uri": "https://localhost:8080/"
        },
        "id": "earlier-style",
        "outputId": "47addcfa-1b05-4879-a346-4a5eea90622d"
      },
      "outputs": [
        {
          "output_type": "stream",
          "name": "stdout",
          "text": [
            "mkdir: cannot create directory ‘svm_light’: File exists\n"
          ]
        }
      ],
      "source": [
        "!mkdir svm_light"
      ]
    },
    {
      "cell_type": "code",
      "execution_count": 45,
      "id": "worthy-episode",
      "metadata": {
        "colab": {
          "base_uri": "https://localhost:8080/"
        },
        "id": "worthy-episode",
        "outputId": "532b9569-02f2-451d-e4c2-aa26ba826c99"
      },
      "outputs": [
        {
          "output_type": "stream",
          "name": "stdout",
          "text": [
            "mv: cannot stat 'svm_light.tar.gz': No such file or directory\n"
          ]
        }
      ],
      "source": [
        "!mv svm_light.tar.gz svm_light/"
      ]
    },
    {
      "cell_type": "code",
      "execution_count": 54,
      "id": "italic-roommate",
      "metadata": {
        "colab": {
          "base_uri": "https://localhost:8080/"
        },
        "id": "italic-roommate",
        "outputId": "d0f11f0f-4817-415d-8ef4-68fa5c9426de"
      },
      "outputs": [
        {
          "output_type": "stream",
          "name": "stdout",
          "text": [
            "/content/splitta-0.1.0b/svm_light\n"
          ]
        }
      ],
      "source": [
        "cd svm_light"
      ]
    },
    {
      "cell_type": "code",
      "execution_count": 55,
      "id": "baking-louis",
      "metadata": {
        "colab": {
          "base_uri": "https://localhost:8080/"
        },
        "id": "baking-louis",
        "outputId": "30d07016-87f5-48fc-c6de-37090e7db71b"
      },
      "outputs": [
        {
          "output_type": "stream",
          "name": "stdout",
          "text": [
            "/content/splitta-0.1.0b/svm_light\n"
          ]
        }
      ],
      "source": [
        "!pwd"
      ]
    },
    {
      "cell_type": "code",
      "execution_count": 56,
      "id": "indoor-fossil",
      "metadata": {
        "colab": {
          "base_uri": "https://localhost:8080/"
        },
        "id": "indoor-fossil",
        "outputId": "177eb56c-b5db-449b-bfdc-7cec8e22f5ff"
      },
      "outputs": [
        {
          "output_type": "stream",
          "name": "stdout",
          "text": [
            "make: *** No rule to make target 'all'.  Stop.\n"
          ]
        }
      ],
      "source": [
        "!make all"
      ]
    },
    {
      "cell_type": "code",
      "execution_count": 57,
      "id": "latin-manual",
      "metadata": {
        "colab": {
          "base_uri": "https://localhost:8080/"
        },
        "id": "latin-manual",
        "outputId": "8151696e-e2c4-4862-c84b-f8bebd9eda23"
      },
      "outputs": [
        {
          "output_type": "stream",
          "name": "stdout",
          "text": [
            "ls: cannot access 'svm_classify': No such file or directory\n"
          ]
        }
      ],
      "source": [
        "!ls svm_classify"
      ]
    },
    {
      "cell_type": "code",
      "source": [
        "svm_classify"
      ],
      "metadata": {
        "colab": {
          "base_uri": "https://localhost:8080/",
          "height": 176
        },
        "id": "PTUX6YzLH6FT",
        "outputId": "ad01566b-9bad-4254-ee47-da625feb0739"
      },
      "id": "PTUX6YzLH6FT",
      "execution_count": 38,
      "outputs": [
        {
          "output_type": "error",
          "ename": "NameError",
          "evalue": "name 'svm_classify' is not defined",
          "traceback": [
            "\u001b[0;31m---------------------------------------------------------------------------\u001b[0m",
            "\u001b[0;31mNameError\u001b[0m                                 Traceback (most recent call last)",
            "\u001b[0;32m<ipython-input-38-e42f03f0d5fd>\u001b[0m in \u001b[0;36m<cell line: 1>\u001b[0;34m()\u001b[0m\n\u001b[0;32m----> 1\u001b[0;31m \u001b[0msvm_classify\u001b[0m\u001b[0;34m\u001b[0m\u001b[0;34m\u001b[0m\u001b[0m\n\u001b[0m",
            "\u001b[0;31mNameError\u001b[0m: name 'svm_classify' is not defined"
          ]
        }
      ]
    },
    {
      "cell_type": "code",
      "execution_count": null,
      "id": "sporting-edition",
      "metadata": {
        "id": "sporting-edition"
      },
      "outputs": [],
      "source": []
    },
    {
      "cell_type": "markdown",
      "id": "80032312",
      "metadata": {
        "id": "80032312"
      },
      "source": [
        "# Discussion\n",
        "\n",
        "Discuss the difference between what you tokenized and detect sentence boundries, and CoreNLP's results for tokenization and SBD."
      ]
    },
    {
      "cell_type": "markdown",
      "id": "cfbbee30",
      "metadata": {
        "id": "cfbbee30"
      },
      "source": []
    },
    {
      "cell_type": "markdown",
      "id": "ca685dd2",
      "metadata": {
        "id": "ca685dd2"
      },
      "source": []
    }
  ],
  "metadata": {
    "kernelspec": {
      "display_name": "Python 3",
      "language": "python",
      "name": "python3"
    },
    "language_info": {
      "codemirror_mode": {
        "name": "ipython",
        "version": 3
      },
      "file_extension": ".py",
      "mimetype": "text/x-python",
      "name": "python",
      "nbconvert_exporter": "python",
      "pygments_lexer": "ipython3",
      "version": "3.8.2"
    },
    "colab": {
      "provenance": []
    }
  },
  "nbformat": 4,
  "nbformat_minor": 5
}