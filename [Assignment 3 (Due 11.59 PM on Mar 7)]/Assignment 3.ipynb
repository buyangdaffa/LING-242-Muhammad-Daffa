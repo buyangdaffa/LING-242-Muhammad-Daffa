{
  "cells": [
    {
      "cell_type": "code",
      "source": [
        "# Downloading all files in lab3 repository from Jungyeul\n",
        "!wget https://raw.githubusercontent.com/jungyeul/computational-tools-for-linguistic-analysis-ubc/main/labs/lab3/esp.testa\n",
        "!wget https://raw.githubusercontent.com/jungyeul/computational-tools-for-linguistic-analysis-ubc/main/labs/lab3/esp.testb\n",
        "!wget https://raw.githubusercontent.com/jungyeul/computational-tools-for-linguistic-analysis-ubc/main/labs/lab3/esp.train\n",
        "!wget https://raw.githubusercontent.com/jungyeul/computational-tools-for-linguistic-analysis-ubc/main/labs/lab3/pattern-chunking.txt\n",
        "!wget https://raw.githubusercontent.com/jungyeul/computational-tools-for-linguistic-analysis-ubc/main/labs/lab3/pattern-ner.txt\n",
        "!wget https://raw.githubusercontent.com/jungyeul/computational-tools-for-linguistic-analysis-ubc/main/labs/lab3/pattern-pos.txt"
      ],
      "metadata": {
        "colab": {
          "base_uri": "https://localhost:8080/"
        },
        "id": "fn5dhFbMXHKN",
        "outputId": "e4c99388-abef-4707-fa80-770b1c80159a"
      },
      "id": "fn5dhFbMXHKN",
      "execution_count": 1,
      "outputs": [
        {
          "output_type": "stream",
          "name": "stdout",
          "text": [
            "--2024-03-05 04:31:04--  https://raw.githubusercontent.com/jungyeul/computational-tools-for-linguistic-analysis-ubc/main/labs/lab3/esp.testa\n",
            "Resolving raw.githubusercontent.com (raw.githubusercontent.com)... 185.199.110.133, 185.199.108.133, 185.199.109.133, ...\n",
            "Connecting to raw.githubusercontent.com (raw.githubusercontent.com)|185.199.110.133|:443... connected.\n",
            "HTTP request sent, awaiting response... 200 OK\n",
            "Length: 594058 (580K) [text/plain]\n",
            "Saving to: ‘esp.testa’\n",
            "\n",
            "\resp.testa             0%[                    ]       0  --.-KB/s               \resp.testa           100%[===================>] 580.13K  --.-KB/s    in 0.02s   \n",
            "\n",
            "2024-03-05 04:31:05 (32.4 MB/s) - ‘esp.testa’ saved [594058/594058]\n",
            "\n",
            "--2024-03-05 04:31:05--  https://raw.githubusercontent.com/jungyeul/computational-tools-for-linguistic-analysis-ubc/main/labs/lab3/esp.testb\n",
            "Resolving raw.githubusercontent.com (raw.githubusercontent.com)... 185.199.109.133, 185.199.108.133, 185.199.110.133, ...\n",
            "Connecting to raw.githubusercontent.com (raw.githubusercontent.com)|185.199.109.133|:443... connected.\n",
            "HTTP request sent, awaiting response... 200 OK\n",
            "Length: 575807 (562K) [text/plain]\n",
            "Saving to: ‘esp.testb’\n",
            "\n",
            "esp.testb           100%[===================>] 562.31K  --.-KB/s    in 0.02s   \n",
            "\n",
            "2024-03-05 04:31:05 (32.7 MB/s) - ‘esp.testb’ saved [575807/575807]\n",
            "\n",
            "--2024-03-05 04:31:05--  https://raw.githubusercontent.com/jungyeul/computational-tools-for-linguistic-analysis-ubc/main/labs/lab3/esp.train\n",
            "Resolving raw.githubusercontent.com (raw.githubusercontent.com)... 185.199.108.133, 185.199.109.133, 185.199.110.133, ...\n",
            "Connecting to raw.githubusercontent.com (raw.githubusercontent.com)|185.199.108.133|:443... connected.\n",
            "HTTP request sent, awaiting response... 200 OK\n",
            "Length: 2970825 (2.8M) [text/plain]\n",
            "Saving to: ‘esp.train’\n",
            "\n",
            "esp.train           100%[===================>]   2.83M  --.-KB/s    in 0.03s   \n",
            "\n",
            "2024-03-05 04:31:05 (97.9 MB/s) - ‘esp.train’ saved [2970825/2970825]\n",
            "\n",
            "--2024-03-05 04:31:05--  https://raw.githubusercontent.com/jungyeul/computational-tools-for-linguistic-analysis-ubc/main/labs/lab3/pattern-chunking.txt\n",
            "Resolving raw.githubusercontent.com (raw.githubusercontent.com)... 185.199.109.133, 185.199.108.133, 185.199.111.133, ...\n",
            "Connecting to raw.githubusercontent.com (raw.githubusercontent.com)|185.199.109.133|:443... connected.\n",
            "HTTP request sent, awaiting response... 200 OK\n",
            "Length: 198 [text/plain]\n",
            "Saving to: ‘pattern-chunking.txt’\n",
            "\n",
            "pattern-chunking.tx 100%[===================>]     198  --.-KB/s    in 0s      \n",
            "\n",
            "2024-03-05 04:31:06 (6.53 MB/s) - ‘pattern-chunking.txt’ saved [198/198]\n",
            "\n",
            "--2024-03-05 04:31:06--  https://raw.githubusercontent.com/jungyeul/computational-tools-for-linguistic-analysis-ubc/main/labs/lab3/pattern-ner.txt\n",
            "Resolving raw.githubusercontent.com (raw.githubusercontent.com)... 185.199.108.133, 185.199.109.133, 185.199.110.133, ...\n",
            "Connecting to raw.githubusercontent.com (raw.githubusercontent.com)|185.199.108.133|:443... connected.\n",
            "HTTP request sent, awaiting response... 200 OK\n",
            "Length: 516 [text/plain]\n",
            "Saving to: ‘pattern-ner.txt’\n",
            "\n",
            "pattern-ner.txt     100%[===================>]     516  --.-KB/s    in 0s      \n",
            "\n",
            "2024-03-05 04:31:06 (46.2 MB/s) - ‘pattern-ner.txt’ saved [516/516]\n",
            "\n",
            "--2024-03-05 04:31:06--  https://raw.githubusercontent.com/jungyeul/computational-tools-for-linguistic-analysis-ubc/main/labs/lab3/pattern-pos.txt\n",
            "Resolving raw.githubusercontent.com (raw.githubusercontent.com)... 185.199.108.133, 185.199.109.133, 185.199.110.133, ...\n",
            "Connecting to raw.githubusercontent.com (raw.githubusercontent.com)|185.199.108.133|:443... connected.\n",
            "HTTP request sent, awaiting response... 200 OK\n",
            "Length: 1039 (1.0K) [text/plain]\n",
            "Saving to: ‘pattern-pos.txt’\n",
            "\n",
            "pattern-pos.txt     100%[===================>]   1.01K  --.-KB/s    in 0s      \n",
            "\n",
            "2024-03-05 04:31:06 (47.3 MB/s) - ‘pattern-pos.txt’ saved [1039/1039]\n",
            "\n"
          ]
        }
      ]
    },
    {
      "cell_type": "markdown",
      "id": "rocky-declaration",
      "metadata": {
        "id": "rocky-declaration"
      },
      "source": [
        "# Sequence Labelling\n",
        "\n",
        "You are required to undergo training using `Wapiti`, predict results, and evaluate them for all tasks: POS tagging, chunking, and NER."
      ]
    },
    {
      "cell_type": "code",
      "execution_count": 2,
      "id": "54788d93",
      "metadata": {
        "id": "54788d93"
      },
      "outputs": [],
      "source": [
        "# !wget https://wapiti.limsi.fr/wapiti-1.5.0.tar.gz\n",
        "# !tar xvfz wapiti-1.5.0.tar.gz\n",
        "# %cd wapiti-1.5.0\n",
        "# !make"
      ]
    },
    {
      "cell_type": "code",
      "source": [
        "# Download Wapiti package\n",
        "!wget https://wapiti.limsi.fr/wapiti-1.5.0.tar.gz"
      ],
      "metadata": {
        "colab": {
          "base_uri": "https://localhost:8080/"
        },
        "id": "A09H1uzoTq1-",
        "outputId": "13663980-a147-44aa-bf03-5157521afb29"
      },
      "id": "A09H1uzoTq1-",
      "execution_count": 3,
      "outputs": [
        {
          "output_type": "stream",
          "name": "stdout",
          "text": [
            "--2024-03-05 04:31:06--  https://wapiti.limsi.fr/wapiti-1.5.0.tar.gz\n",
            "Resolving wapiti.limsi.fr (wapiti.limsi.fr)... 129.175.134.198\n",
            "Connecting to wapiti.limsi.fr (wapiti.limsi.fr)|129.175.134.198|:443... connected.\n",
            "HTTP request sent, awaiting response... 200 OK\n",
            "Length: 218486 (213K) [application/x-gzip]\n",
            "Saving to: ‘wapiti-1.5.0.tar.gz’\n",
            "\n",
            "wapiti-1.5.0.tar.gz 100%[===================>] 213.37K  --.-KB/s    in 0.05s   \n",
            "\n",
            "2024-03-05 04:31:06 (4.08 MB/s) - ‘wapiti-1.5.0.tar.gz’ saved [218486/218486]\n",
            "\n"
          ]
        }
      ]
    },
    {
      "cell_type": "code",
      "source": [
        "# Extract Wapiti package\n",
        "!tar xvfz wapiti-1.5.0.tar.gz"
      ],
      "metadata": {
        "colab": {
          "base_uri": "https://localhost:8080/"
        },
        "id": "Aa2umMWmTqls",
        "outputId": "31afd6c4-8e95-437a-b240-319d50c7cfbd"
      },
      "id": "Aa2umMWmTqls",
      "execution_count": 4,
      "outputs": [
        {
          "output_type": "stream",
          "name": "stdout",
          "text": [
            "wapiti-1.5.0/\n",
            "wapiti-1.5.0/COPYING\n",
            "wapiti-1.5.0/HISTORY\n",
            "wapiti-1.5.0/INSTALL\n",
            "wapiti-1.5.0/Makefile\n",
            "wapiti-1.5.0/README.mkd\n",
            "wapiti-1.5.0/dat/\n",
            "wapiti-1.5.0/dat/chpattern.txt\n",
            "wapiti-1.5.0/dat/chtest.txt\n",
            "wapiti-1.5.0/dat/chtrain.txt\n",
            "wapiti-1.5.0/dat/nppattern.txt\n",
            "wapiti-1.5.0/dat/nptest.txt\n",
            "wapiti-1.5.0/dat/nptrain.txt\n",
            "wapiti-1.5.0/dat/pattern.txt\n",
            "wapiti-1.5.0/dat/test.txt\n",
            "wapiti-1.5.0/dat/train.txt\n",
            "wapiti-1.5.0/doc/\n",
            "wapiti-1.5.0/doc/wapiti.1\n",
            "wapiti-1.5.0/src/\n",
            "wapiti-1.5.0/src/bcd.c\n",
            "wapiti-1.5.0/src/decoder.c\n",
            "wapiti-1.5.0/src/decoder.h\n",
            "wapiti-1.5.0/src/gradient.c\n",
            "wapiti-1.5.0/src/gradient.h\n",
            "wapiti-1.5.0/src/lbfgs.c\n",
            "wapiti-1.5.0/src/model.c\n",
            "wapiti-1.5.0/src/model.h\n",
            "wapiti-1.5.0/src/options.c\n",
            "wapiti-1.5.0/src/options.h\n",
            "wapiti-1.5.0/src/pattern.c\n",
            "wapiti-1.5.0/src/pattern.h\n",
            "wapiti-1.5.0/src/progress.c\n",
            "wapiti-1.5.0/src/progress.h\n",
            "wapiti-1.5.0/src/quark.c\n",
            "wapiti-1.5.0/src/quark.h\n",
            "wapiti-1.5.0/src/reader.c\n",
            "wapiti-1.5.0/src/reader.h\n",
            "wapiti-1.5.0/src/rprop.c\n",
            "wapiti-1.5.0/src/sequence.h\n",
            "wapiti-1.5.0/src/sgdl1.c\n",
            "wapiti-1.5.0/src/thread.c\n",
            "wapiti-1.5.0/src/thread.h\n",
            "wapiti-1.5.0/src/tools.c\n",
            "wapiti-1.5.0/src/tools.h\n",
            "wapiti-1.5.0/src/trainers.h\n",
            "wapiti-1.5.0/src/vmath.c\n",
            "wapiti-1.5.0/src/vmath.h\n",
            "wapiti-1.5.0/src/wapiti.c\n",
            "wapiti-1.5.0/src/wapiti.h\n"
          ]
        }
      ]
    },
    {
      "cell_type": "code",
      "source": [
        "# Change directory to Wapiti\n",
        "%cd wapiti-1.5.0"
      ],
      "metadata": {
        "colab": {
          "base_uri": "https://localhost:8080/"
        },
        "id": "KTO6IM6XTqWj",
        "outputId": "8a221ce1-5327-4817-ab63-904bc3f4661e"
      },
      "id": "KTO6IM6XTqWj",
      "execution_count": 5,
      "outputs": [
        {
          "output_type": "stream",
          "name": "stdout",
          "text": [
            "/content/wapiti-1.5.0\n"
          ]
        }
      ]
    },
    {
      "cell_type": "code",
      "source": [
        "# Compile Wapiti\n",
        "!make"
      ],
      "metadata": {
        "colab": {
          "base_uri": "https://localhost:8080/"
        },
        "id": "CxDJi5I7TqIx",
        "outputId": "c45420a2-db72-4e98-bb5a-cb650cf8a805"
      },
      "id": "CxDJi5I7TqIx",
      "execution_count": 6,
      "outputs": [
        {
          "output_type": "stream",
          "name": "stdout",
          "text": [
            "CC: wapiti.c --> wapiti\n"
          ]
        }
      ]
    },
    {
      "cell_type": "code",
      "source": [
        "# Move back to the parent directory\n",
        "%cd ../"
      ],
      "metadata": {
        "colab": {
          "base_uri": "https://localhost:8080/"
        },
        "id": "dh8XewgrUXUX",
        "outputId": "819456e2-751e-47ed-f0ad-5001d1d9c899"
      },
      "id": "dh8XewgrUXUX",
      "execution_count": 7,
      "outputs": [
        {
          "output_type": "stream",
          "name": "stdout",
          "text": [
            "/content\n"
          ]
        }
      ]
    },
    {
      "cell_type": "markdown",
      "id": "72c9d626",
      "metadata": {
        "id": "72c9d626"
      },
      "source": [
        "## 1. POS Tagging\n",
        "\n",
        "POS tagging and chunking data `train.txt.gz` and `test.txt.gz` are available at https://www.cnts.ua.ac.be/conll2000/chunking/ : download and unzip them."
      ]
    },
    {
      "cell_type": "code",
      "execution_count": 8,
      "id": "874831cc",
      "metadata": {
        "id": "874831cc"
      },
      "outputs": [],
      "source": [
        "# # complete wget for train and text files:\n",
        "# !wget ...\n",
        "# !wget ..."
      ]
    },
    {
      "cell_type": "code",
      "execution_count": 9,
      "id": "63dc430e",
      "metadata": {
        "id": "63dc430e"
      },
      "outputs": [],
      "source": [
        "# !gzip -d train.txt.gz\n",
        "# !gzip -d test.txt.gz\n",
        "# !cut -f1,2 -d\" \" train.txt > train_pos.txt\n",
        "# !head train_pos.txt"
      ]
    },
    {
      "cell_type": "code",
      "source": [
        "# Download training data\n",
        "!wget https://www.cnts.ua.ac.be/conll2000/chunking/train.txt.gz"
      ],
      "metadata": {
        "colab": {
          "base_uri": "https://localhost:8080/"
        },
        "id": "2Dp1OyzvT62p",
        "outputId": "bb310e93-cea4-43e1-a100-66be2e76b0e0"
      },
      "id": "2Dp1OyzvT62p",
      "execution_count": 10,
      "outputs": [
        {
          "output_type": "stream",
          "name": "stdout",
          "text": [
            "--2024-03-05 04:31:11--  https://www.cnts.ua.ac.be/conll2000/chunking/train.txt.gz\n",
            "Resolving www.cnts.ua.ac.be (www.cnts.ua.ac.be)... 146.175.13.81\n",
            "Connecting to www.cnts.ua.ac.be (www.cnts.ua.ac.be)|146.175.13.81|:443... connected.\n",
            "HTTP request sent, awaiting response... 200 OK\n",
            "Length: 611540 (597K) [application/x-gzip]\n",
            "Saving to: ‘train.txt.gz’\n",
            "\n",
            "train.txt.gz        100%[===================>] 597.21K  --.-KB/s    in 0.05s   \n",
            "\n",
            "2024-03-05 04:31:12 (12.5 MB/s) - ‘train.txt.gz’ saved [611540/611540]\n",
            "\n"
          ]
        }
      ]
    },
    {
      "cell_type": "code",
      "source": [
        "# Decompress training data\n",
        "!gzip -d train.txt.gz"
      ],
      "metadata": {
        "id": "e_mniXRtUPjf"
      },
      "id": "e_mniXRtUPjf",
      "execution_count": 11,
      "outputs": []
    },
    {
      "cell_type": "code",
      "source": [
        "# Display the first few lines of the training data\n",
        "!head train.txt"
      ],
      "metadata": {
        "colab": {
          "base_uri": "https://localhost:8080/"
        },
        "id": "c0TPcbj2VaEc",
        "outputId": "1522614d-dc70-4ff7-b5b3-e9126199f4e7"
      },
      "id": "c0TPcbj2VaEc",
      "execution_count": 12,
      "outputs": [
        {
          "output_type": "stream",
          "name": "stdout",
          "text": [
            "Confidence NN B-NP\n",
            "in IN B-PP\n",
            "the DT B-NP\n",
            "pound NN I-NP\n",
            "is VBZ B-VP\n",
            "widely RB I-VP\n",
            "expected VBN I-VP\n",
            "to TO I-VP\n",
            "take VB I-VP\n",
            "another DT B-NP\n"
          ]
        }
      ]
    },
    {
      "cell_type": "code",
      "source": [
        "# Extract words and POS tags from training data\n",
        "!cut -f1,2 -d\" \" train.txt > train_pos.txt"
      ],
      "metadata": {
        "id": "rdKLwai8Vcql"
      },
      "id": "rdKLwai8Vcql",
      "execution_count": 13,
      "outputs": []
    },
    {
      "cell_type": "code",
      "source": [
        "# Display the first few lines of the POS Tagging training data\n",
        "!head train_pos.txt"
      ],
      "metadata": {
        "colab": {
          "base_uri": "https://localhost:8080/"
        },
        "id": "afmGgrD5VgBk",
        "outputId": "0587eec4-4590-42d5-ff28-bc67ac74aa84"
      },
      "id": "afmGgrD5VgBk",
      "execution_count": 14,
      "outputs": [
        {
          "output_type": "stream",
          "name": "stdout",
          "text": [
            "Confidence NN\n",
            "in IN\n",
            "the DT\n",
            "pound NN\n",
            "is VBZ\n",
            "widely RB\n",
            "expected VBN\n",
            "to TO\n",
            "take VB\n",
            "another DT\n"
          ]
        }
      ]
    },
    {
      "cell_type": "code",
      "source": [
        "# Select the first 1000 lines from the POS Tagging training data\n",
        "!head -n 1000 train_pos.txt > train_pos_1k.txt"
      ],
      "metadata": {
        "id": "i3RGCMboV2OH"
      },
      "id": "i3RGCMboV2OH",
      "execution_count": 15,
      "outputs": []
    },
    {
      "cell_type": "code",
      "source": [
        "# Download test data\n",
        "!wget https://www.cnts.ua.ac.be/conll2000/chunking/test.txt.gz"
      ],
      "metadata": {
        "colab": {
          "base_uri": "https://localhost:8080/"
        },
        "id": "SBwQkb09UJSj",
        "outputId": "48aaea25-c39a-4216-ab73-fa33ddc2705a"
      },
      "id": "SBwQkb09UJSj",
      "execution_count": 16,
      "outputs": [
        {
          "output_type": "stream",
          "name": "stdout",
          "text": [
            "--2024-03-05 04:31:12--  https://www.cnts.ua.ac.be/conll2000/chunking/test.txt.gz\n",
            "Resolving www.cnts.ua.ac.be (www.cnts.ua.ac.be)... 146.175.13.81\n",
            "Connecting to www.cnts.ua.ac.be (www.cnts.ua.ac.be)|146.175.13.81|:443... connected.\n",
            "HTTP request sent, awaiting response... 200 OK\n",
            "Length: 139551 (136K) [application/x-gzip]\n",
            "Saving to: ‘test.txt.gz’\n",
            "\n",
            "\rtest.txt.gz           0%[                    ]       0  --.-KB/s               \rtest.txt.gz         100%[===================>] 136.28K  --.-KB/s    in 0.03s   \n",
            "\n",
            "2024-03-05 04:31:12 (5.04 MB/s) - ‘test.txt.gz’ saved [139551/139551]\n",
            "\n"
          ]
        }
      ]
    },
    {
      "cell_type": "code",
      "source": [
        "# Decompress test data\n",
        "!gzip -d test.txt.gz"
      ],
      "metadata": {
        "id": "_NZfuOhCV617"
      },
      "id": "_NZfuOhCV617",
      "execution_count": 17,
      "outputs": []
    },
    {
      "cell_type": "code",
      "source": [
        "# Display the first few lines of the test data\n",
        "!head -n 3 test.txt"
      ],
      "metadata": {
        "colab": {
          "base_uri": "https://localhost:8080/"
        },
        "id": "-YyHEoBaV_z9",
        "outputId": "7258e0b8-193a-4271-e478-aee45def6edc"
      },
      "id": "-YyHEoBaV_z9",
      "execution_count": 18,
      "outputs": [
        {
          "output_type": "stream",
          "name": "stdout",
          "text": [
            "Rockwell NNP B-NP\n",
            "International NNP I-NP\n",
            "Corp. NNP I-NP\n"
          ]
        }
      ]
    },
    {
      "cell_type": "code",
      "source": [
        "# Extract words from the test data as test_pos_input.txt\n",
        "!cut -f1 -d\" \" test.txt > test_pos_input.txt"
      ],
      "metadata": {
        "id": "_6Sb2Pi7WCxU"
      },
      "id": "_6Sb2Pi7WCxU",
      "execution_count": 19,
      "outputs": []
    },
    {
      "cell_type": "code",
      "source": [
        "# Display the first few lines of the test_pos_input.txt test data\n",
        "!head -n 3 test_pos_input.txt"
      ],
      "metadata": {
        "colab": {
          "base_uri": "https://localhost:8080/"
        },
        "id": "CKrlLQjFWF8r",
        "outputId": "cff2d52a-8951-4da1-e239-aebfc3cd4879"
      },
      "id": "CKrlLQjFWF8r",
      "execution_count": 20,
      "outputs": [
        {
          "output_type": "stream",
          "name": "stdout",
          "text": [
            "Rockwell\n",
            "International\n",
            "Corp.\n"
          ]
        }
      ]
    },
    {
      "cell_type": "code",
      "source": [
        "# Extract POS tags from the test data as test_pos_gold.txt\n",
        "!cut -f2 -d\" \" test.txt > test_pos_gold.txt"
      ],
      "metadata": {
        "id": "efSiD6SkWHxl"
      },
      "id": "efSiD6SkWHxl",
      "execution_count": 21,
      "outputs": []
    },
    {
      "cell_type": "code",
      "source": [
        "# Display the first few lines of the test_pos_gold.txt\n",
        "!head -n 3 test_pos_gold.txt"
      ],
      "metadata": {
        "colab": {
          "base_uri": "https://localhost:8080/"
        },
        "id": "yNl5zTidWJ5e",
        "outputId": "bfb54239-1b04-458e-ac7d-cf283aaa77bf"
      },
      "id": "yNl5zTidWJ5e",
      "execution_count": 22,
      "outputs": [
        {
          "output_type": "stream",
          "name": "stdout",
          "text": [
            "NNP\n",
            "NNP\n",
            "NNP\n"
          ]
        }
      ]
    },
    {
      "cell_type": "markdown",
      "id": "0edb50b0",
      "metadata": {
        "id": "0edb50b0"
      },
      "source": [
        "## 1.1 Training"
      ]
    },
    {
      "cell_type": "code",
      "execution_count": 23,
      "id": "84388235",
      "metadata": {
        "colab": {
          "base_uri": "https://localhost:8080/"
        },
        "id": "84388235",
        "outputId": "e97fbf5e-6fcd-40fd-efb2-f763a08cf1c6"
      },
      "outputs": [
        {
          "output_type": "stream",
          "name": "stdout",
          "text": [
            "* Load patterns\n",
            "* Load training data\n",
            "* Initialize the model\n",
            "* Summary\n",
            "    nb train:    36\n",
            "    nb labels:   36\n",
            "    nb blocks:   5450\n",
            "    nb features: 196200\n",
            "* Train the model with l-bfgs\n",
            "  [   1] obj=2994.22    act=10431    err=63.52%/100.00% time=0.05s/0.05s\n",
            "  [   2] obj=1989.06    act=10338    err=44.56%/100.00% time=0.02s/0.07s\n",
            "  [   3] obj=1856.15    act=11398    err=47.25%/100.00% time=0.02s/0.10s\n",
            "  [   4] obj=1351.69    act=11945    err=28.81%/100.00% time=0.02s/0.12s\n",
            "  [   5] obj=1151.91    act=10756    err=23.11%/100.00% time=0.02s/0.15s\n",
            "  [   6] obj=1039.21    act=9844     err=16.06%/97.22% time=0.03s/0.18s\n",
            "  [   7] obj=910.20     act=8776     err=14.40%/94.44% time=0.02s/0.20s\n",
            "  [   8] obj=784.40     act=7209     err= 8.91%/88.89% time=0.02s/0.22s\n",
            "  [   9] obj=721.48     act=5626     err= 5.60%/69.44% time=0.03s/0.25s\n",
            "  [  10] obj=679.38     act=4923     err= 3.83%/69.44% time=0.02s/0.27s\n",
            "  [  11] obj=650.25     act=4290     err= 1.66%/36.11% time=0.03s/0.30s\n",
            "  [  12] obj=638.09     act=3651     err= 0.83%/22.22% time=0.02s/0.33s\n",
            "  [  13] obj=624.72     act=3609     err= 0.00%/ 0.00% time=0.02s/0.35s\n",
            "  [  14] obj=620.44     act=3511     err= 0.00%/ 0.00% time=0.03s/0.38s\n",
            "  [  15] obj=604.87     act=2804     err= 0.83%/19.44% time=0.03s/0.41s\n",
            "  [  16] obj=596.45     act=2921     err= 0.10%/ 2.78% time=0.03s/0.43s\n",
            "  [  17] obj=587.22     act=2562     err= 1.14%/30.56% time=0.02s/0.46s\n",
            "  [  18] obj=578.93     act=2494     err= 0.31%/ 8.33% time=0.02s/0.48s\n",
            "  [  19] obj=573.57     act=2282     err= 0.41%/11.11% time=0.03s/0.51s\n",
            "  [  20] obj=569.40     act=2076     err= 0.31%/ 8.33% time=0.02s/0.53s\n",
            "  [  21] obj=566.20     act=2029     err= 0.31%/ 8.33% time=0.02s/0.55s\n",
            "  [  22] obj=563.45     act=1922     err= 0.31%/ 8.33% time=0.02s/0.58s\n",
            "  [  23] obj=562.29     act=1836     err= 0.52%/13.89% time=0.03s/0.61s\n",
            "* Save the model\n",
            "* Done\n"
          ]
        }
      ],
      "source": [
        "# Train a POS tagging model using Wapiti\n",
        "!/content/wapiti-1.5.0/wapiti train -p pattern-pos.txt train_pos_1k.txt pos.model"
      ]
    },
    {
      "cell_type": "markdown",
      "id": "4d555e34",
      "metadata": {
        "id": "4d555e34"
      },
      "source": [
        "## 1.2 Predicting\n"
      ]
    },
    {
      "cell_type": "code",
      "execution_count": 24,
      "id": "86d86ccf",
      "metadata": {
        "colab": {
          "base_uri": "https://localhost:8080/"
        },
        "id": "86d86ccf",
        "outputId": "8414b2dd-d2a1-4bdc-c539-c5e8330743cf"
      },
      "outputs": [
        {
          "output_type": "stream",
          "name": "stdout",
          "text": [
            "* Load model\n",
            "* Label sequences\n",
            "      1000 sequences labeled\n",
            "      2000 sequences labeled\n",
            "* Done\n"
          ]
        }
      ],
      "source": [
        "# Use the trained POS tagging model to label the test data\n",
        "!/content/wapiti-1.5.0/wapiti label -m pos.model test_pos_input.txt > test_pos_predicted.txt"
      ]
    },
    {
      "cell_type": "code",
      "source": [
        "# Display the first few lines of the predicted POS tags\n",
        "!head test_pos_predicted.txt"
      ],
      "metadata": {
        "colab": {
          "base_uri": "https://localhost:8080/"
        },
        "id": "8Ch8of9dYi0m",
        "outputId": "caca69f9-5547-4372-93fc-8d86599f3551"
      },
      "id": "8Ch8of9dYi0m",
      "execution_count": 25,
      "outputs": [
        {
          "output_type": "stream",
          "name": "stdout",
          "text": [
            "Rockwell\tNNP\n",
            "International\tNNP\n",
            "Corp.\tNNP\n",
            "'s\tPOS\n",
            "Tulsa\tNNP\n",
            "unit\tNN\n",
            "said\tVBD\n",
            "it\tPRP\n",
            "signed\tVBD\n",
            "a\tDT\n"
          ]
        }
      ]
    },
    {
      "cell_type": "markdown",
      "id": "9c9eed09",
      "metadata": {
        "id": "9c9eed09"
      },
      "source": [
        "## 1.3 Evaluating"
      ]
    },
    {
      "cell_type": "code",
      "execution_count": 26,
      "id": "22f39c6c",
      "metadata": {
        "colab": {
          "base_uri": "https://localhost:8080/"
        },
        "id": "22f39c6c",
        "outputId": "18742714-5981-42e1-8267-d5875424c795"
      },
      "outputs": [
        {
          "output_type": "stream",
          "name": "stdout",
          "text": [
            "--2024-03-05 04:31:15--  https://www.clips.uantwerpen.be/conll2000/chunking/conlleval.txt\n",
            "Resolving www.clips.uantwerpen.be (www.clips.uantwerpen.be)... 146.175.13.81\n",
            "Connecting to www.clips.uantwerpen.be (www.clips.uantwerpen.be)|146.175.13.81|:443... connected.\n",
            "HTTP request sent, awaiting response... 200 OK\n",
            "Length: 12743 (12K) [text/plain]\n",
            "Saving to: ‘conlleval.txt’\n",
            "\n",
            "conlleval.txt       100%[===================>]  12.44K  --.-KB/s    in 0.009s  \n",
            "\n",
            "2024-03-05 04:31:15 (1.33 MB/s) - ‘conlleval.txt’ saved [12743/12743]\n",
            "\n"
          ]
        }
      ],
      "source": [
        "# Download evaluation script\n",
        "!wget https://www.clips.uantwerpen.be/conll2000/chunking/conlleval.txt"
      ]
    },
    {
      "cell_type": "code",
      "source": [
        "# Rename the evaluation script\n",
        "!mv conlleval.txt conlleval.pl"
      ],
      "metadata": {
        "id": "o3amNG4OYxt6"
      },
      "id": "o3amNG4OYxt6",
      "execution_count": 27,
      "outputs": []
    },
    {
      "cell_type": "code",
      "source": [
        "# Change permissions for the evaluation script\n",
        "!chmod 700 conlleval.pl"
      ],
      "metadata": {
        "id": "aiigX7MWYzzf"
      },
      "id": "aiigX7MWYzzf",
      "execution_count": 28,
      "outputs": []
    },
    {
      "cell_type": "code",
      "source": [
        "# Evaluate the predicted POS tags against the gold POS tags\n",
        "!paste test_pos_predicted.txt test_pos_gold.txt | ./conlleval.pl -d \"\\t\""
      ],
      "metadata": {
        "colab": {
          "base_uri": "https://localhost:8080/"
        },
        "id": "Hh3MNzvNY1tk",
        "outputId": "38e2f7c9-bfec-43c6-8e24-66d97920e51a"
      },
      "id": "Hh3MNzvNY1tk",
      "execution_count": 29,
      "outputs": [
        {
          "output_type": "stream",
          "name": "stdout",
          "text": [
            "processed 47377 tokens with 0 phrases; found: 0 phrases; correct: 0.\n",
            "accuracy:  78.05%; precision:   0.00%; recall:   0.00%; FB1:   0.00\n"
          ]
        }
      ]
    },
    {
      "cell_type": "code",
      "source": [
        "# Display the first few lines of the combined predicted and gold POS tags\n",
        "!paste test_pos_predicted.txt test_pos_gold.txt | head -n 3"
      ],
      "metadata": {
        "colab": {
          "base_uri": "https://localhost:8080/"
        },
        "id": "PTo21a8uY6zO",
        "outputId": "496c7f78-f0ef-4e08-afef-74e0d6170262"
      },
      "id": "PTo21a8uY6zO",
      "execution_count": 30,
      "outputs": [
        {
          "output_type": "stream",
          "name": "stdout",
          "text": [
            "Rockwell\tNNP\tNNP\n",
            "International\tNNP\tNNP\n",
            "Corp.\tNNP\tNNP\n"
          ]
        }
      ]
    },
    {
      "cell_type": "markdown",
      "id": "117c9cbd",
      "metadata": {
        "id": "117c9cbd"
      },
      "source": [
        "## 2. Chunking\n",
        "\n"
      ]
    },
    {
      "cell_type": "code",
      "source": [
        "# Display the first few lines of the train.txt\n",
        "!head train.txt"
      ],
      "metadata": {
        "colab": {
          "base_uri": "https://localhost:8080/"
        },
        "id": "Pox_GVylnBAm",
        "outputId": "ae0d46c7-f1e8-4d01-8c2a-cb9a394449ee"
      },
      "id": "Pox_GVylnBAm",
      "execution_count": 31,
      "outputs": [
        {
          "output_type": "stream",
          "name": "stdout",
          "text": [
            "Confidence NN B-NP\n",
            "in IN B-PP\n",
            "the DT B-NP\n",
            "pound NN I-NP\n",
            "is VBZ B-VP\n",
            "widely RB I-VP\n",
            "expected VBN I-VP\n",
            "to TO I-VP\n",
            "take VB I-VP\n",
            "another DT B-NP\n"
          ]
        }
      ]
    },
    {
      "cell_type": "code",
      "source": [
        "# Select the first 1000 lines from the train.txt\n",
        "!head -n 1000 train.txt > train_chunking_1k.txt"
      ],
      "metadata": {
        "id": "lbtFRqyvyciQ"
      },
      "id": "lbtFRqyvyciQ",
      "execution_count": 32,
      "outputs": []
    },
    {
      "cell_type": "code",
      "source": [
        "# Display the first few lines of the test.txt\n",
        "!head test.txt"
      ],
      "metadata": {
        "colab": {
          "base_uri": "https://localhost:8080/"
        },
        "id": "ryYAO9PPn1h0",
        "outputId": "a2bf0d58-f81a-4d86-b249-e790dff8ed24"
      },
      "id": "ryYAO9PPn1h0",
      "execution_count": 33,
      "outputs": [
        {
          "output_type": "stream",
          "name": "stdout",
          "text": [
            "Rockwell NNP B-NP\n",
            "International NNP I-NP\n",
            "Corp. NNP I-NP\n",
            "'s POS B-NP\n",
            "Tulsa NNP I-NP\n",
            "unit NN I-NP\n",
            "said VBD B-VP\n",
            "it PRP B-NP\n",
            "signed VBD B-VP\n",
            "a DT B-NP\n"
          ]
        }
      ]
    },
    {
      "cell_type": "code",
      "source": [
        "# Extract words and POS tags from the test.txt as test_chunking_input.txt\n",
        "!cut -f1,2 -d\" \" test.txt > test_chunking_input.txt"
      ],
      "metadata": {
        "id": "ajuZbdJ2oT8g"
      },
      "id": "ajuZbdJ2oT8g",
      "execution_count": 34,
      "outputs": []
    },
    {
      "cell_type": "code",
      "source": [
        "# Display the first few lines of the test_chunking_input.txt data\n",
        "!head test_chunking_input.txt"
      ],
      "metadata": {
        "colab": {
          "base_uri": "https://localhost:8080/"
        },
        "id": "QSmIVVYXoqJL",
        "outputId": "8ca42a75-518e-4c4c-c1b7-1bbe5179433c"
      },
      "id": "QSmIVVYXoqJL",
      "execution_count": 35,
      "outputs": [
        {
          "output_type": "stream",
          "name": "stdout",
          "text": [
            "Rockwell NNP\n",
            "International NNP\n",
            "Corp. NNP\n",
            "'s POS\n",
            "Tulsa NNP\n",
            "unit NN\n",
            "said VBD\n",
            "it PRP\n",
            "signed VBD\n",
            "a DT\n"
          ]
        }
      ]
    },
    {
      "cell_type": "code",
      "source": [
        "# Extract test_chunking_gold.txt test data\n",
        "!cut -f3 -d\" \" test.txt > test_chunking_gold.txt"
      ],
      "metadata": {
        "id": "xZ_JM19zpADp"
      },
      "id": "xZ_JM19zpADp",
      "execution_count": 36,
      "outputs": []
    },
    {
      "cell_type": "code",
      "source": [
        "# Display the first few lines of the extracted chunk tags\n",
        "!head test_chunking_gold.txt"
      ],
      "metadata": {
        "colab": {
          "base_uri": "https://localhost:8080/"
        },
        "id": "uh-iX5AspFXo",
        "outputId": "76026afd-21e2-4ead-ab77-976659d02e28"
      },
      "id": "uh-iX5AspFXo",
      "execution_count": 37,
      "outputs": [
        {
          "output_type": "stream",
          "name": "stdout",
          "text": [
            "B-NP\n",
            "I-NP\n",
            "I-NP\n",
            "B-NP\n",
            "I-NP\n",
            "I-NP\n",
            "B-VP\n",
            "B-NP\n",
            "B-VP\n",
            "B-NP\n"
          ]
        }
      ]
    },
    {
      "cell_type": "markdown",
      "source": [
        "## 2.1 Training"
      ],
      "metadata": {
        "id": "uTEQ4Dgvx1Ik"
      },
      "id": "uTEQ4Dgvx1Ik"
    },
    {
      "cell_type": "code",
      "source": [
        "# Train a chunking model using Wapiti\n",
        "!/content/wapiti-1.5.0/wapiti train -p pattern-chunking.txt train_chunking_1k.txt chunking.model"
      ],
      "metadata": {
        "colab": {
          "base_uri": "https://localhost:8080/"
        },
        "id": "o7zNw3b_nsIN",
        "outputId": "d6289673-1d42-4c80-e599-143c2607adfd"
      },
      "id": "o7zNw3b_nsIN",
      "execution_count": 38,
      "outputs": [
        {
          "output_type": "stream",
          "name": "stdout",
          "text": [
            "* Load patterns\n",
            "* Load training data\n",
            "* Initialize the model\n",
            "* Summary\n",
            "    nb train:    36\n",
            "    nb labels:   13\n",
            "    nb blocks:   528\n",
            "    nb features: 6864\n",
            "* Train the model with l-bfgs\n",
            "  [   1] obj=2182.10    act=1515     err=21.97%/97.22% time=0.00s/0.00s\n",
            "  [   2] obj=831.24     act=1509     err=16.27%/94.44% time=0.01s/0.01s\n",
            "  [   3] obj=656.92     act=1293     err=13.37%/91.67% time=0.00s/0.01s\n",
            "  [   4] obj=563.10     act=1101     err= 9.22%/77.78% time=0.01s/0.02s\n",
            "  [   5] obj=515.61     act=1044     err= 9.02%/75.00% time=0.00s/0.02s\n",
            "  [   6] obj=477.16     act=948      err= 7.56%/69.44% time=0.01s/0.03s\n",
            "  [   7] obj=450.95     act=847      err= 7.05%/69.44% time=0.00s/0.03s\n",
            "  [   8] obj=429.98     act=723      err= 5.60%/61.11% time=0.01s/0.04s\n",
            "  [   9] obj=414.72     act=644      err= 4.87%/61.11% time=0.00s/0.04s\n",
            "  [  10] obj=400.54     act=539      err= 4.04%/52.78% time=0.00s/0.04s\n",
            "  [  11] obj=391.66     act=469      err= 3.83%/47.22% time=0.00s/0.04s\n",
            "  [  12] obj=386.28     act=443      err= 3.21%/47.22% time=0.00s/0.04s\n",
            "  [  13] obj=382.95     act=407      err= 2.59%/44.44% time=0.00s/0.05s\n",
            "  [  14] obj=380.00     act=383      err= 1.87%/33.33% time=0.01s/0.05s\n",
            "  [  15] obj=378.41     act=367      err= 1.76%/27.78% time=0.00s/0.06s\n",
            "  [  16] obj=377.33     act=359      err= 2.07%/36.11% time=0.00s/0.06s\n",
            "  [  17] obj=376.25     act=343      err= 2.18%/38.89% time=0.00s/0.06s\n",
            "* Save the model\n",
            "* Done\n"
          ]
        }
      ]
    },
    {
      "cell_type": "markdown",
      "source": [
        "## 2.2 Predicting"
      ],
      "metadata": {
        "id": "XxxIaazGxtO_"
      },
      "id": "XxxIaazGxtO_"
    },
    {
      "cell_type": "code",
      "source": [
        "# Use the trained chunking model to label the test data\n",
        "!/content/wapiti-1.5.0/wapiti label -m chunking.model test_chunking_input.txt > test_predicted.txt"
      ],
      "metadata": {
        "colab": {
          "base_uri": "https://localhost:8080/"
        },
        "id": "ojUijdb7pI2p",
        "outputId": "6600bb03-d04d-4d5e-ff4d-1cac6c875cf9"
      },
      "id": "ojUijdb7pI2p",
      "execution_count": 39,
      "outputs": [
        {
          "output_type": "stream",
          "name": "stdout",
          "text": [
            "* Load model\n",
            "* Label sequences\n",
            "      1000 sequences labeled\n",
            "      2000 sequences labeled\n",
            "* Done\n"
          ]
        }
      ]
    },
    {
      "cell_type": "markdown",
      "source": [
        "## 2.3 Evaluating"
      ],
      "metadata": {
        "id": "oLBpX1wPxroi"
      },
      "id": "oLBpX1wPxroi"
    },
    {
      "cell_type": "code",
      "source": [
        "# Evaluate the predicted chunk tags against the gold chunk tags\n",
        "!paste test_predicted.txt test_chunking_gold.txt | ./conlleval.pl -d \"\\t\""
      ],
      "metadata": {
        "colab": {
          "base_uri": "https://localhost:8080/"
        },
        "id": "IOPT1xmtpM_w",
        "outputId": "d8296cc3-bc04-4800-fa2b-7f87846101f6"
      },
      "id": "IOPT1xmtpM_w",
      "execution_count": 40,
      "outputs": [
        {
          "output_type": "stream",
          "name": "stdout",
          "text": [
            "processed 47377 tokens with 25186 phrases; found: 23852 phrases; correct: 20138.\n",
            "accuracy:  88.37%; precision:  84.43%; recall:  79.96%; FB1:  82.13\n",
            "             ADJP: precision:  41.32%; recall:  41.90%; FB1:  41.61  438\n",
            "             ADVP: precision:  68.13%; recall:  51.39%; FB1:  58.59  866\n",
            "            CONJP: precision:   0.00%; recall:   0.00%; FB1:   0.00  9\n",
            "             INTJ: precision:   0.00%; recall:   0.00%; FB1:   0.00  2\n",
            "              LST: precision:   0.00%; recall:   0.00%; FB1:   0.00  5\n",
            "               NP: precision:  84.61%; recall:  79.83%; FB1:  82.15  12422\n",
            "               PP: precision:  93.37%; recall:  90.42%; FB1:  91.87  4811\n",
            "              PRT: precision:   0.00%; recall:   0.00%; FB1:   0.00  106\n",
            "             SBAR: precision:  59.44%; recall:  55.99%; FB1:  57.66  535\n",
            "               VP: precision:  86.88%; recall:  82.52%; FB1:  84.65  4658\n"
          ]
        }
      ]
    },
    {
      "cell_type": "markdown",
      "id": "1fb077f6",
      "metadata": {
        "id": "1fb077f6"
      },
      "source": [
        "## 3. NER (Named Entity Recognition)"
      ]
    },
    {
      "cell_type": "code",
      "source": [
        "# List files in the current directory\n",
        "!ls"
      ],
      "metadata": {
        "colab": {
          "base_uri": "https://localhost:8080/"
        },
        "id": "CB8NM2FFq7Qp",
        "outputId": "0cc80c2a-745d-478a-a92f-8a3c302f169b"
      },
      "id": "CB8NM2FFq7Qp",
      "execution_count": 41,
      "outputs": [
        {
          "output_type": "stream",
          "name": "stdout",
          "text": [
            "chunking.model\t      pattern-ner.txt\t       test_pos_gold.txt       train_pos_1k.txt\n",
            "conlleval.pl\t      pattern-pos.txt\t       test_pos_input.txt      train_pos.txt\n",
            "esp.testa\t      pos.model\t\t       test_pos_predicted.txt  train.txt\n",
            "esp.testb\t      sample_data\t       test_predicted.txt      wapiti-1.5.0\n",
            "esp.train\t      test_chunking_gold.txt   test.txt\t\t       wapiti-1.5.0.tar.gz\n",
            "pattern-chunking.txt  test_chunking_input.txt  train_chunking_1k.txt\n"
          ]
        }
      ]
    },
    {
      "cell_type": "code",
      "source": [
        "# Display the first few lines of a test file named esp.testa\n",
        "!head esp.testa"
      ],
      "metadata": {
        "colab": {
          "base_uri": "https://localhost:8080/"
        },
        "id": "obLAH5Zoq-km",
        "outputId": "dce12565-1ca9-410b-d2cc-aac4b4fc3bde"
      },
      "id": "obLAH5Zoq-km",
      "execution_count": 42,
      "outputs": [
        {
          "output_type": "stream",
          "name": "stdout",
          "text": [
            "Sao NC B-LOC\n",
            "Paulo VMI I-LOC\n",
            "( Fpa O\n",
            "Brasil NC B-LOC\n",
            ") Fpt O\n",
            ", Fc O\n",
            "23 Z O\n",
            "may NC O\n",
            "( Fpa O\n",
            "EFECOM NP B-ORG\n"
          ]
        }
      ]
    },
    {
      "cell_type": "code",
      "source": [
        "# Select the first 1000 lines from a training file named esp.train and save it as esp.train_1k.txt\n",
        "!head -n 1000 esp.train > esp.train_1k.txt"
      ],
      "metadata": {
        "id": "bDE7FB0Bt0nB"
      },
      "id": "bDE7FB0Bt0nB",
      "execution_count": 43,
      "outputs": []
    },
    {
      "cell_type": "code",
      "source": [
        "# Extract words and POS tags from a test file named esp.testa\n",
        "!cut -f1,2 -d\" \" esp.testa > esp_input.testa"
      ],
      "metadata": {
        "id": "Xkknw3lG1-R5"
      },
      "id": "Xkknw3lG1-R5",
      "execution_count": 44,
      "outputs": []
    },
    {
      "cell_type": "code",
      "source": [
        "# Display the first few lines of the processed test data\n",
        "!head -n 5 esp_input.testa"
      ],
      "metadata": {
        "colab": {
          "base_uri": "https://localhost:8080/"
        },
        "id": "0foMyaT52OQx",
        "outputId": "d8dd556d-115b-4071-ac91-50fb0e0efc4b"
      },
      "id": "0foMyaT52OQx",
      "execution_count": 45,
      "outputs": [
        {
          "output_type": "stream",
          "name": "stdout",
          "text": [
            "Sao NC\n",
            "Paulo VMI\n",
            "( Fpa\n",
            "Brasil NC\n",
            ") Fpt\n"
          ]
        }
      ]
    },
    {
      "cell_type": "code",
      "source": [
        "# Extract NER tags from a test file named esp.testa\n",
        "!cut -f3 -d\" \" esp.testa > esp_gold.testa"
      ],
      "metadata": {
        "id": "fcYDYDTn2Se3"
      },
      "id": "fcYDYDTn2Se3",
      "execution_count": 46,
      "outputs": []
    },
    {
      "cell_type": "code",
      "source": [
        "# Display the first few lines of the extracted NER tags\n",
        "!head -n 5 esp_gold.testa"
      ],
      "metadata": {
        "colab": {
          "base_uri": "https://localhost:8080/"
        },
        "id": "cGLl9ebp2V6a",
        "outputId": "0954ee72-2c49-463d-975c-d264009dc978"
      },
      "id": "cGLl9ebp2V6a",
      "execution_count": 47,
      "outputs": [
        {
          "output_type": "stream",
          "name": "stdout",
          "text": [
            "B-LOC\n",
            "I-LOC\n",
            "O\n",
            "B-LOC\n",
            "O\n"
          ]
        }
      ]
    },
    {
      "cell_type": "code",
      "source": [
        "filename = 'pattern-ner.txt'\n",
        "\n",
        "# Read the contents of the file\n",
        "with open(filename, 'r') as file:\n",
        "    lines = file.readlines()\n",
        "\n",
        "# Remove the 3rd line\n",
        "if len(lines) >= 3:\n",
        "    del lines[2]\n",
        "\n",
        "# Write the modified contents back to the file\n",
        "with open(filename, 'w') as file:\n",
        "    file.writelines(lines)\n",
        "\n",
        "print(\"3rd line removed successfully from\", filename)"
      ],
      "metadata": {
        "colab": {
          "base_uri": "https://localhost:8080/"
        },
        "id": "J2Wy2vqBcHT0",
        "outputId": "663aaf97-bc70-4947-8b9a-4583f33efa6c"
      },
      "id": "J2Wy2vqBcHT0",
      "execution_count": 48,
      "outputs": [
        {
          "output_type": "stream",
          "name": "stdout",
          "text": [
            "3rd line removed successfully from pattern-ner.txt\n"
          ]
        }
      ]
    },
    {
      "cell_type": "markdown",
      "source": [
        "## 3.1 Training"
      ],
      "metadata": {
        "id": "8F-MnK9bxSVa"
      },
      "id": "8F-MnK9bxSVa"
    },
    {
      "cell_type": "code",
      "source": [
        "# Train a Named Entity Recognition (NER) model using Wapiti\n",
        "!/content/wapiti-1.5.0/wapiti train -p pattern-ner.txt esp.train_1k.txt ner.model"
      ],
      "metadata": {
        "colab": {
          "base_uri": "https://localhost:8080/"
        },
        "id": "9FAy1aTMspZU",
        "outputId": "8294de2f-47ef-495b-f4f7-80f7ffb5791c"
      },
      "id": "9FAy1aTMspZU",
      "execution_count": 49,
      "outputs": [
        {
          "output_type": "stream",
          "name": "stdout",
          "text": [
            "* Load patterns\n",
            "* Load training data\n",
            "* Initialize the model\n",
            "* Summary\n",
            "    nb train:    41\n",
            "    nb labels:   9\n",
            "    nb blocks:   934\n",
            "    nb features: 8406\n",
            "* Train the model with l-bfgs\n",
            "  [   1] obj=1157.57    act=1641     err=14.58%/65.85% time=0.00s/0.00s\n",
            "  [   2] obj=509.20     act=1519     err=14.58%/65.85% time=0.00s/0.00s\n",
            "  [   3] obj=482.40     act=863      err=14.06%/70.73% time=0.00s/0.01s\n",
            "  [   4] obj=402.14     act=543      err=10.94%/68.29% time=0.00s/0.01s\n",
            "  [   5] obj=379.00     act=434      err= 9.69%/53.66% time=0.00s/0.01s\n",
            "  [   6] obj=353.91     act=406      err= 8.65%/56.10% time=0.00s/0.01s\n",
            "  [   7] obj=343.95     act=410      err= 7.50%/46.34% time=0.00s/0.01s\n",
            "  [   8] obj=321.93     act=380      err= 7.08%/43.90% time=0.00s/0.01s\n",
            "  [   9] obj=307.59     act=373      err= 6.98%/43.90% time=0.00s/0.01s\n",
            "  [  10] obj=295.37     act=359      err= 6.56%/41.46% time=0.00s/0.01s\n",
            "  [  11] obj=284.36     act=337      err= 6.35%/41.46% time=0.00s/0.02s\n",
            "  [  12] obj=277.28     act=323      err= 5.00%/34.15% time=0.00s/0.02s\n",
            "  [  13] obj=274.03     act=313      err= 4.69%/31.71% time=0.00s/0.02s\n",
            "  [  14] obj=271.11     act=307      err= 3.85%/29.27% time=0.00s/0.02s\n",
            "  [  15] obj=267.77     act=302      err= 3.23%/29.27% time=0.00s/0.02s\n",
            "  [  16] obj=263.42     act=290      err= 3.02%/26.83% time=0.00s/0.02s\n",
            "  [  17] obj=262.24     act=281      err= 2.60%/21.95% time=0.00s/0.02s\n",
            "  [  18] obj=260.90     act=285      err= 2.60%/21.95% time=0.00s/0.02s\n",
            "  [  19] obj=260.49     act=281      err= 2.60%/21.95% time=0.00s/0.03s\n",
            "  [  20] obj=259.59     act=268      err= 2.60%/21.95% time=0.00s/0.03s\n",
            "* Save the model\n",
            "* Done\n"
          ]
        }
      ]
    },
    {
      "cell_type": "markdown",
      "source": [
        "## 3.2 Predicting"
      ],
      "metadata": {
        "id": "hV3BjXp4xjzT"
      },
      "id": "hV3BjXp4xjzT"
    },
    {
      "cell_type": "code",
      "source": [
        "# Use the trained NER model to label the test data\n",
        "!/content/wapiti-1.5.0/wapiti label -m ner.model esp_input.testa > test_ner_predicted.txt"
      ],
      "metadata": {
        "colab": {
          "base_uri": "https://localhost:8080/"
        },
        "id": "SXoh3C3y2a6U",
        "outputId": "dddf3cfc-3913-4f7e-85e1-3e9149e4e925"
      },
      "id": "SXoh3C3y2a6U",
      "execution_count": 50,
      "outputs": [
        {
          "output_type": "stream",
          "name": "stdout",
          "text": [
            "* Load model\n",
            "* Label sequences\n",
            "      1000 sequences labeled\n",
            "* Done\n"
          ]
        }
      ]
    },
    {
      "cell_type": "markdown",
      "source": [
        "## 3.3 Evaluating"
      ],
      "metadata": {
        "id": "Y5dUKCjrw930"
      },
      "id": "Y5dUKCjrw930"
    },
    {
      "cell_type": "code",
      "source": [
        "# Evaluate the predicted NER tags against the gold NER tags\n",
        "!paste test_ner_predicted.txt esp_gold.testa | ./conlleval.pl -d \"\\t\""
      ],
      "metadata": {
        "colab": {
          "base_uri": "https://localhost:8080/"
        },
        "id": "-i5UOzTW2pvI",
        "outputId": "b85a34b5-8c0b-4de4-9337-fdb99005a1ae"
      },
      "id": "-i5UOzTW2pvI",
      "execution_count": 51,
      "outputs": [
        {
          "output_type": "stream",
          "name": "stdout",
          "text": [
            "processed 52923 tokens with 6900 phrases; found: 4352 phrases; correct: 1142.\n",
            "accuracy:  87.97%; precision:  26.24%; recall:  16.55%; FB1:  20.30\n",
            "              LOC: precision:  10.66%; recall:  23.81%; FB1:  14.73  985\n",
            "             MISC: precision:   0.22%; recall:   8.33%; FB1:   0.44  445\n",
            "              ORG: precision:  46.59%; recall:  18.60%; FB1:  26.58  1700\n",
            "              PER: precision:  19.97%; recall:  11.15%; FB1:  14.31  1222\n"
          ]
        }
      ]
    },
    {
      "cell_type": "markdown",
      "source": [
        "## 4. Improving Results and Discussion"
      ],
      "metadata": {
        "id": "WU_HP9Fx5G9N"
      },
      "id": "WU_HP9Fx5G9N"
    },
    {
      "cell_type": "markdown",
      "source": [
        "Select one task from POS tagging, chunking, or NER, and enhance the results by incorporating different feature sets. Explain the rationale behind how these new features can improve the result."
      ],
      "metadata": {
        "id": "QvKT4AMV5Mcb"
      },
      "id": "QvKT4AMV5Mcb"
    },
    {
      "cell_type": "code",
      "source": [
        "# Downloading improved-pattern-ner.txt that I made and stored on my github repo\n",
        "!wget https://raw.githubusercontent.com/buyangdaffa/LING-242-Muhammad-Daffa/main/improved-pattern-ner.txt"
      ],
      "metadata": {
        "colab": {
          "base_uri": "https://localhost:8080/"
        },
        "id": "nOWVlFba139E",
        "outputId": "135cf505-ccce-45ca-8b5e-ce69961ef3e0"
      },
      "id": "nOWVlFba139E",
      "execution_count": 52,
      "outputs": [
        {
          "output_type": "stream",
          "name": "stdout",
          "text": [
            "--2024-03-05 04:31:19--  https://raw.githubusercontent.com/buyangdaffa/LING-242-Muhammad-Daffa/main/improved-pattern-ner.txt\n",
            "Resolving raw.githubusercontent.com (raw.githubusercontent.com)... 185.199.111.133, 185.199.109.133, 185.199.108.133, ...\n",
            "Connecting to raw.githubusercontent.com (raw.githubusercontent.com)|185.199.111.133|:443... connected.\n",
            "HTTP request sent, awaiting response... 200 OK\n",
            "Length: 400 [text/plain]\n",
            "Saving to: ‘improved-pattern-ner.txt’\n",
            "\n",
            "improved-pattern-ne 100%[===================>]     400  --.-KB/s    in 0s      \n",
            "\n",
            "2024-03-05 04:31:19 (26.6 MB/s) - ‘improved-pattern-ner.txt’ saved [400/400]\n",
            "\n"
          ]
        }
      ]
    },
    {
      "cell_type": "markdown",
      "source": [
        "In the improved-pattern-ner.txt, I have made some changes to the NER pattern by incorporating several enhancements, such as:\n",
        "\n",
        "1. **Expanding PoS Exclusion:**\n",
        "I am adding exclusion of certain PoS tags (TO and VBZ) which are less likely to be associated with named entities. This helps in filtering out non-entity tokens more effectively.\n",
        "\n",
        "2. **Improving All-Capitals Recognition:**\n",
        "I am using a more generalized regular expression to identify tokens consisting entirely of uppercase letters. This captures named entities like acronyms and proper nouns written in all capitals more accurately.\n",
        "\n",
        "3. **Refining Capitalized Recognition:**\n",
        "I am simplifying the regular expression used to identify tokens starting with a capital letter to just check for an uppercase letter at the beginning. This covers a broader range of named entities while being more concise.\n",
        "\n",
        "By incorporating these several enhancements, the NER pattern will become more robust and capable to capture a wider variety of named entities while excluding tokens that are less likely to be entities. This should lead to enhanced performance in identifying named entities with text data."
      ],
      "metadata": {
        "id": "9bhPKe9b1_LI"
      },
      "id": "9bhPKe9b1_LI"
    },
    {
      "cell_type": "code",
      "source": [
        "# Train a Named Entity Recognition (NER) model using Wapiti\n",
        "!/content/wapiti-1.5.0/wapiti train -p improved-pattern-ner.txt esp.train_1k.txt ner.model"
      ],
      "metadata": {
        "colab": {
          "base_uri": "https://localhost:8080/"
        },
        "id": "BybvyBUC1-vt",
        "outputId": "e14690d3-5640-49b0-855d-32eec71a7a4d"
      },
      "id": "BybvyBUC1-vt",
      "execution_count": 53,
      "outputs": [
        {
          "output_type": "stream",
          "name": "stdout",
          "text": [
            "* Load patterns\n",
            "* Load training data\n",
            "* Initialize the model\n",
            "* Summary\n",
            "    nb train:    41\n",
            "    nb labels:   9\n",
            "    nb blocks:   932\n",
            "    nb features: 8388\n",
            "* Train the model with l-bfgs\n",
            "  [   1] obj=1174.35    act=1624     err=14.69%/65.85% time=0.00s/0.00s\n",
            "  [   2] obj=705.49     act=1482     err=14.69%/65.85% time=0.00s/0.01s\n",
            "  [   3] obj=676.92     act=939      err=14.69%/65.85% time=0.00s/0.01s\n",
            "  [   4] obj=648.98     act=775      err=14.69%/65.85% time=0.00s/0.01s\n",
            "  [   5] obj=593.06     act=569      err=12.92%/53.66% time=0.00s/0.01s\n",
            "  [   6] obj=557.98     act=622      err=14.69%/65.85% time=0.00s/0.02s\n",
            "  [   7] obj=548.05     act=617      err=12.92%/53.66% time=0.00s/0.02s\n",
            "  [   8] obj=522.52     act=625      err=14.69%/65.85% time=0.00s/0.02s\n",
            "  [   9] obj=511.91     act=618      err=13.44%/53.66% time=0.00s/0.02s\n",
            "  [  10] obj=492.29     act=590      err=13.12%/53.66% time=0.00s/0.03s\n",
            "  [  11] obj=469.42     act=557      err= 9.69%/46.34% time=0.00s/0.03s\n",
            "  [  12] obj=446.33     act=541      err= 9.58%/46.34% time=0.00s/0.03s\n",
            "  [  13] obj=438.18     act=536      err= 9.48%/46.34% time=0.00s/0.03s\n",
            "  [  14] obj=420.36     act=522      err= 8.75%/41.46% time=0.00s/0.03s\n",
            "  [  15] obj=412.25     act=473      err= 8.85%/41.46% time=0.00s/0.04s\n",
            "  [  16] obj=403.74     act=469      err= 8.44%/41.46% time=0.00s/0.04s\n",
            "  [  17] obj=386.63     act=448      err= 6.67%/36.59% time=0.00s/0.04s\n",
            "  [  18] obj=383.14     act=442      err= 4.38%/29.27% time=0.00s/0.04s\n",
            "  [  19] obj=380.25     act=444      err= 4.79%/29.27% time=0.00s/0.04s\n",
            "  [  20] obj=378.68     act=438      err= 3.85%/24.39% time=0.00s/0.04s\n",
            "  [  21] obj=375.57     act=423      err= 3.02%/26.83% time=0.00s/0.04s\n",
            "  [  22] obj=374.76     act=414      err= 3.96%/31.71% time=0.00s/0.05s\n",
            "  [  23] obj=373.40     act=413      err= 3.54%/26.83% time=0.00s/0.05s\n",
            "* Save the model\n",
            "* Done\n"
          ]
        }
      ]
    },
    {
      "cell_type": "code",
      "source": [
        "# Use the trained NER model to label the test data\n",
        "!/content/wapiti-1.5.0/wapiti label -m ner.model esp_input.testa > test_ner_predicted.txt"
      ],
      "metadata": {
        "colab": {
          "base_uri": "https://localhost:8080/"
        },
        "id": "ChBrAlmx3DqQ",
        "outputId": "5715933a-8ead-438b-887c-4d5d32070e32"
      },
      "id": "ChBrAlmx3DqQ",
      "execution_count": 54,
      "outputs": [
        {
          "output_type": "stream",
          "name": "stdout",
          "text": [
            "* Load model\n",
            "* Label sequences\n",
            "      1000 sequences labeled\n",
            "* Done\n"
          ]
        }
      ]
    },
    {
      "cell_type": "code",
      "source": [
        "# Evaluate the predicted NER tags against the gold NER tags\n",
        "!paste test_ner_predicted.txt esp_gold.testa | ./conlleval.pl -d \"\\t\""
      ],
      "metadata": {
        "colab": {
          "base_uri": "https://localhost:8080/"
        },
        "id": "uKcp7J1u3F6s",
        "outputId": "1bc7431d-5ecf-4636-e58b-b576f21138a5"
      },
      "id": "uKcp7J1u3F6s",
      "execution_count": 55,
      "outputs": [
        {
          "output_type": "stream",
          "name": "stdout",
          "text": [
            "processed 52923 tokens with 887 phrases; found: 4352 phrases; correct: 381.\n",
            "accuracy:  86.60%; precision:   8.75%; recall:  42.95%; FB1:  14.54\n",
            "              LOC: precision:   8.43%; recall:  20.19%; FB1:  11.89  985\n",
            "             MISC: precision:   0.22%; recall:   8.33%; FB1:   0.44  445\n",
            "              ORG: precision:  17.24%; recall:  74.37%; FB1:  27.98  1700\n",
            "              PER: precision:   0.33%; recall:   5.71%; FB1:   0.62  1222\n"
          ]
        }
      ]
    },
    {
      "cell_type": "markdown",
      "source": [
        "The updated NER pattern shows improvements in recall across all entity types, indicating better identification of true entities in the data. However, this comes at the expense of precision, as the model also generates more false positives. While the increased recall suggests broader coverage of named entities, the decrease in precision may impact the overall accuracy of the model. Therefore, further refinement is needed to get a better balance between recall and precision for optimal performance in named entity recognition tasks.\n",
        "\n",
        "\n",
        "\n",
        "\n"
      ],
      "metadata": {
        "id": "QyqfZTgK3j-O"
      },
      "id": "QyqfZTgK3j-O"
    }
  ],
  "metadata": {
    "kernelspec": {
      "display_name": "Python 3.9.6 64-bit",
      "language": "python",
      "name": "python3"
    },
    "language_info": {
      "codemirror_mode": {
        "name": "ipython",
        "version": 3
      },
      "file_extension": ".py",
      "mimetype": "text/x-python",
      "name": "python",
      "nbconvert_exporter": "python",
      "pygments_lexer": "ipython3",
      "version": "3.9.6"
    },
    "vscode": {
      "interpreter": {
        "hash": "20bf69066c0dd38d51965b69d5e1b6e387082e3198ba56e97997ac55f4e50ad0"
      }
    },
    "colab": {
      "provenance": []
    }
  },
  "nbformat": 4,
  "nbformat_minor": 5
}